{
 "cells": [
  {
   "cell_type": "code",
   "execution_count": 4,
   "metadata": {},
   "outputs": [],
   "source": [
    "import pandas as pd\n",
    "import numpy as np\n",
    "import os\n",
    "import json\n",
    "from collections import Counter"
   ]
  },
  {
   "cell_type": "markdown",
   "metadata": {},
   "source": [
    "# 读取"
   ]
  },
  {
   "cell_type": "code",
   "execution_count": 5,
   "metadata": {},
   "outputs": [],
   "source": [
    "all_df = pd.read_csv(\"../Pubmed_Bert/output/all_label.csv\", index_col=0, header=0)"
   ]
  },
  {
   "cell_type": "code",
   "execution_count": 6,
   "metadata": {},
   "outputs": [],
   "source": [
    "bpdf = all_df.loc[all_df[\"物种类别\"]==\"Bactology\"]\n",
    "mpdf = all_df.loc[all_df[\"物种类别\"]==\"Mycology\"]\n",
    "vpdf = all_df.loc[all_df[\"物种类别\"]==\"Virology\"]"
   ]
  },
  {
   "cell_type": "markdown",
   "metadata": {},
   "source": [
    "# 文献数量分布图"
   ]
  },
  {
   "cell_type": "code",
   "execution_count": null,
   "metadata": {},
   "outputs": [],
   "source": [
    "import numpy as np\n",
    "from matplotlib import pyplot as plt\n",
    "from matplotlib import rcParams\n",
    "plt.rc('font',family='Simsun') \n",
    "rcParams['mathtext.default'] = 'regular'\n",
    "\n",
    "# 找一个画布\n",
    "fig, axes = plt.subplots(nrows=3, ncols=1, figsize=(3, 8))\n",
    "\n",
    "# fig.suptitle(\"文献数量分布\", fontsize=18)\n",
    "plt.subplots_adjust(left=0.2, right=0.85, top=0.95, bottom=0.15, wspace=0.01, hspace=0.2)\n",
    "\n",
    "# ax\n",
    "ax = axes[0]\n",
    "ax.grid(axis=\"y\", linestyle=\"--\")\n",
    "bins = 100\n",
    "ax.hist(bpdf[\"文献数量\"], bins, width=1, color=\"#da9696\", alpha = 1, label='细菌', density=True)\n",
    "ax.axvline(bpdf[\"文献数量\"].mean(), color=\"#da9696\", linestyle='dashed', linewidth=2) # 平均值\n",
    "ax.text(bpdf[\"文献数量\"].mean()*1.2, 0.15, '平均文献数: {:.2f}'.format(bpdf[\"文献数量\"].mean()), fontsize=12) # 标注平均值的数值\n",
    "\n",
    "ax.tick_params(axis='x', labelsize=12)\n",
    "ax.set_xlim((0, 100))\n",
    "x_ticks = np.linspace(0, 100, 5)\n",
    "ax.set_xticks(x_ticks)\n",
    "ax.tick_params(axis='y', labelsize=12)\n",
    "ax.set_ylim((0, 0.5))\n",
    "# y_ticks = np.linspace(0, 0.5, 4)\n",
    "# ax.set_yticks(y_ticks)\n",
    "ax.legend(fontsize=12, loc=0, frameon=True, bbox_to_anchor=(1, 1))\n",
    "\n",
    "# ax1\n",
    "# ax1 = axes[1]\n",
    "# ax1.grid(axis=\"y\", linestyle=\"--\")\n",
    "\n",
    "# ax1.hist(mpdf[\"文献数量\"], bins, width=1, color=\"#8eb3d1\", alpha = 1, label='真菌', density=True)\n",
    "# ax1.axvline(mpdf[\"文献数量\"].mean(), color=\"#8eb3d1\", linestyle='dashed', linewidth=2)\n",
    "# ax1.text(mpdf[\"文献数量\"].mean()*1.2, 0.15, '平均文献数: {:.2f}'.format(mpdf[\"文献数量\"].mean()), fontsize=12) # 标注平均值的数值\n",
    "\n",
    "# ax1.tick_params(axis='x', labelsize=12)\n",
    "# ax1.set_xlim((0, 100))\n",
    "# ax1.set_xticks(x_ticks)\n",
    "# ax1.set_ylabel('物种频率', fontsize=16)\n",
    "# ax1.set_ylim((0, 0.5))\n",
    "# # ax1.set_yticks(y_ticks)\n",
    "\n",
    "# ax1.tick_params(axis='y', labelsize=12)\n",
    "# ax1.legend(fontsize=12, loc=0, frameon=True, bbox_to_anchor=(1, 1))\n",
    "\n",
    "# # ax2\n",
    "# ax2 = axes[2]\n",
    "# ax2.grid(axis=\"y\", linestyle=\"--\")\n",
    "\n",
    "# ax2.hist(vpdf[\"文献数量\"], bins, width=1, color=\"#ffd58b\", alpha = 1, label='病毒', density=True)\n",
    "# ax2.axvline(vpdf[\"文献数量\"].mean(), color=\"#ffd58b\", linestyle='dashed', linewidth=2)\n",
    "# ax2.text(vpdf[\"文献数量\"].mean()*1.2, 0.15, '平均文献数: {:.2f}'.format(vpdf[\"文献数量\"].mean()), fontsize=12) # 标注平均值的数值\n",
    "\n",
    "# ax2.set_xlabel('文献数量', fontsize=16)\n",
    "# ax2.tick_params(axis='x', labelsize=12)\n",
    "# ax2.set_xlim((0, 100))\n",
    "# ax2.set_xticks(x_ticks)\n",
    "# ax2.tick_params(axis='y', labelsize=12)\n",
    "# ax2.set_ylim((0, 0.5))\n",
    "# # ax2.set_yticks(y_ticks)\n",
    "# ax2.legend(fontsize=12, loc=0, frameon=True, bbox_to_anchor=(1, 1))\n",
    "\n",
    "# save\n",
    "# plt.savefig('plot/spec_paper_dist.svg', bbox_inches='tight')\n",
    "\n",
    "# show\n",
    "plt.show()"
   ]
  },
  {
   "cell_type": "markdown",
   "metadata": {},
   "source": [
    "# 患者信息统计"
   ]
  },
  {
   "cell_type": "markdown",
   "metadata": {},
   "source": [
    "## 患者性别"
   ]
  },
  {
   "cell_type": "code",
   "execution_count": 61,
   "metadata": {},
   "outputs": [],
   "source": [
    "tdf = bdf.loc[bdf[\"性别\"]!=\"none\",:]\n",
    "tpdf =pd.DataFrame([Counter(tdf[\"物种名称\"]).keys(), Counter(tdf[\"物种名称\"]).values()], index=[\"物种名称\",\"文献数量\"]).T\n",
    "tpdf.index =tpdf[\"物种名称\"]\n",
    "tpdf1d = tpdf.loc[tpdf[\"文献数量\"]<=1, [\"文献数量\"]]\n",
    "tpdf1w = tpdf.loc[tpdf[\"文献数量\"]>1, [\"文献数量\"]]\n",
    "\n",
    "tpdf5d= tpdf1w.loc[tpdf1w[\"文献数量\"]<=5, [\"文献数量\"]]\n",
    "tpdf5w = tpdf1w.loc[tpdf1w[\"文献数量\"]>5, [\"文献数量\"]]\n",
    "\n",
    "tpdf10d = tpdf5w.loc[tpdf5w[\"文献数量\"]>5, [\"文献数量\"]]\n",
    "tpdf10w = tpdf5w.loc[tpdf5w[\"文献数量\"]>10, [\"文献数量\"]]\n",
    "\n",
    "tdf.index = tdf[\"物种名称\"]\n",
    "var_dict = {\"bdf\":tdf.loc[tpdf1d.index],\"mdf\":tdf.loc[tpdf5d.index], \"vdf\":tdf.loc[tpdf10d.index] }"
   ]
  },
  {
   "cell_type": "code",
   "execution_count": 69,
   "metadata": {},
   "outputs": [],
   "source": [
    "var_dict = {\"bdf\":bdf.loc[bdf[\"性别\"]!=\"none\",:],\"mdf\":mdf.loc[mdf[\"性别\"]!=\"none\",:], \"vdf\":vdf.loc[vdf[\"性别\"]!=\"none\",:]}\n",
    "for i in var_dict:\n",
    "    locals()[i[0]+\"pdf\"] = pd.DataFrame([Counter(var_dict[i][\"物种名称\"]).keys(), Counter(var_dict[i][\"物种名称\"]).values()], index=[\"物种名称\",\"文献数量\"]).T"
   ]
  },
  {
   "cell_type": "code",
   "execution_count": 70,
   "metadata": {},
   "outputs": [],
   "source": [
    "for i in var_dict:\n",
    "    locals()[i+\"_info\"] = pd.DataFrame([Counter(var_dict[i][\"性别\"]).keys(), Counter(var_dict[i][\"性别\"]).values()], index=[\"性别\",\"数量\"]).T\n",
    "    locals()[i+\"_info\"][\"比例\"] = locals()[i+\"_info\"][\"数量\"]/np.sum(locals()[i+\"_info\"][\"数量\"])\n",
    "    locals()[i+\"_info\"].index = locals()[i+\"_info\"][\"性别\"]"
   ]
  },
  {
   "cell_type": "code",
   "execution_count": 71,
   "metadata": {},
   "outputs": [
    {
     "name": "stderr",
     "output_type": "stream",
     "text": [
      "<ipython-input-71-b4d98a89655f>:46: UserWarning: FixedFormatter should only be used together with FixedLocator\n",
      "  ax.set_xticklabels(labels=labels)\n"
     ]
    },
    {
     "data": {
      "image/png": "[encoded data removed]",
      "text/plain": [
       "<Figure size 180x180 with 1 Axes>"
      ]
     },
     "metadata": {
      "needs_background": "light"
     },
     "output_type": "display_data"
    }
   ],
   "source": [
    "import numpy as np\n",
    "from matplotlib import pyplot as plt\n",
    "from matplotlib import rcParams\n",
    "plt.rc('font',family='Simsun') \n",
    "rcParams['mathtext.default'] = 'regular'\n",
    "\n",
    "\n",
    "results = {\n",
    "    '细菌': [\n",
    "        # bdf_info.loc[\"none\",\"比例\"],\n",
    "        bdf_info.loc[\"男\",\"比例\"],bdf_info.loc[\"女\",\"比例\"]],\n",
    "    '真菌': [\n",
    "        # mdf_info.loc[\"none\",\"比例\"],\n",
    "        mdf_info.loc[\"男\",\"比例\"],mdf_info.loc[\"女\",\"比例\"]],\n",
    "    '病毒': [\n",
    "        # vdf_info.loc[\"none\",\"比例\"],\n",
    "        vdf_info.loc[\"男\",\"比例\"],vdf_info.loc[\"女\",\"比例\"]],\n",
    "}\n",
    "category_names = [ \n",
    "    # '缺失',\n",
    "    '男','女']\n",
    "category_colors = [\n",
    "    # \"#bebebe\", \n",
    "    \"#8eb3d1\", \"#da9696\"]\n",
    "# 获取标签、数值\n",
    "labels = list(results.keys())\n",
    "data = np.array(list(results.values()))\n",
    "data_cum = data.cumsum(axis=1) # 逐项加和\n",
    "\n",
    "fig, ax = plt.subplots(figsize=(2.5, 2.5))\n",
    "\n",
    "for i, (colname, color) in enumerate(zip(category_names, category_colors)):\n",
    "    heights = data[:, i]\n",
    "    starts = data_cum[:, i] - heights\n",
    "\n",
    "    ax.bar(labels, heights, bottom=starts, width=0.7,\n",
    "            label=colname, color=color)\n",
    "    \n",
    "    xcenters = starts + heights / 2\n",
    "    text_color = '#000000'\n",
    "    for y, (x, c) in enumerate(zip(xcenters, heights)):\n",
    "        ax.text(y, x, '{:.1%}'.format(c), ha='center', va='center',\n",
    "                color=text_color, fontsize=10)\n",
    "\n",
    "ax.tick_params(axis='x', labelsize=12)\n",
    "ax.set_xticklabels(labels=labels)\n",
    "ax.set_ylim(0, 1)\n",
    "ax.yaxis.set_visible(False)\n",
    "handles, labels = ax.get_legend_handles_labels()\n",
    "ax.legend(handles[::-1], labels[::-1], fontsize=10, loc='upper left', frameon=True, bbox_to_anchor=(-0.02, -0.15))\n",
    "\n",
    "plt.savefig('plot/patient_sex.svg', bbox_inches='tight')\n",
    "\n",
    "plt.show()\n",
    "\n"
   ]
  },
  {
   "cell_type": "markdown",
   "metadata": {},
   "source": [
    "## 样本量"
   ]
  },
  {
   "cell_type": "code",
   "execution_count": 94,
   "metadata": {},
   "outputs": [],
   "source": [
    "# var_dict = {\"bdf\":bdf.loc[bdf[\"样本量\"]!=\"none\",:],\"mdf\":mdf.loc[mdf[\"样本量\"]!=\"none\",:], \"vdf\":vdf.loc[vdf[\"样本量\"]!=\"none\",:]}\n",
    "var_dict = {\"bdf\":bdf,\"mdf\":mdf, \"vdf\":vdf}\n",
    "\n",
    "for i in var_dict:\n",
    "    locals()[i[0]+\"pdf\"] = pd.DataFrame([Counter(var_dict[i][\"物种名称\"]).keys(), Counter(var_dict[i][\"物种名称\"]).values()], index=[\"物种名称\",\"文献数量\"]).T"
   ]
  },
  {
   "cell_type": "code",
   "execution_count": 95,
   "metadata": {},
   "outputs": [],
   "source": [
    "for i in var_dict:\n",
    "    locals()[i+\"_info\"] = pd.DataFrame([Counter(var_dict[i][\"样本量\"]).keys(), Counter(var_dict[i][\"样本量\"]).values()], index=[\"样本量\",\"数量\"]).T\n",
    "    locals()[i+\"_info\"][\"比例\"] = locals()[i+\"_info\"][\"数量\"]/np.sum(locals()[i+\"_info\"][\"数量\"])\n",
    "    locals()[i+\"_info\"].index = locals()[i+\"_info\"][\"样本量\"]"
   ]
  },
  {
   "cell_type": "code",
   "execution_count": 96,
   "metadata": {},
   "outputs": [
    {
     "name": "stderr",
     "output_type": "stream",
     "text": [
      "<ipython-input-96-27a87f8d0951>:46: UserWarning: FixedFormatter should only be used together with FixedLocator\n",
      "  ax.set_xticklabels(labels=labels)\n"
     ]
    },
    {
     "data": {
      "image/png": "[encoded data removed]",
      "text/plain": [
       "<Figure size 180x180 with 1 Axes>"
      ]
     },
     "metadata": {
      "needs_background": "light"
     },
     "output_type": "display_data"
    }
   ],
   "source": [
    "import numpy as np\n",
    "from matplotlib import pyplot as plt\n",
    "from matplotlib import rcParams\n",
    "plt.rc('font',family='Simsun') \n",
    "rcParams['mathtext.default'] = 'regular'\n",
    "\n",
    "results = {\n",
    "    '细菌': [\n",
    "        # bdf_info.loc[\"none\",\"比例\"],\n",
    "        bdf_info.loc[\"1\",\"比例\"],bdf_info.loc[\"1-10\",\"比例\"], bdf_info.loc[\"11-100\",\"比例\"], bdf_info.loc[\">100\",\"比例\"]],\n",
    "    '真菌': [\n",
    "        # mdf_info.loc[\"none\",\"比例\"],\n",
    "        mdf_info.loc[\"1\",\"比例\"],mdf_info.loc[\"1-10\",\"比例\"], mdf_info.loc[\"11-100\",\"比例\"], mdf_info.loc[\">100\",\"比例\"]],\n",
    "    '病毒': [\n",
    "        # vdf_info.loc[\"none\",\"比例\"],\n",
    "        vdf_info.loc[\"1\",\"比例\"],vdf_info.loc[\"1-10\",\"比例\"], vdf_info.loc[\"11-100\",\"比例\"], vdf_info.loc[\">100\",\"比例\"]],\n",
    "}\n",
    "category_names = [ \n",
    "    # '缺失',\n",
    "    '1','1-10', \"11-100\", \">100\"]\n",
    "category_colors = [\n",
    "    # \"#bebebe\", \n",
    "    \"#8ecfc9\", \"#ffbe7a\", \"#fa7f6f\", \"#82b0d2\" ]\n",
    "# 获取标签、数值\n",
    "labels = list(results.keys())\n",
    "data = np.array(list(results.values()))\n",
    "data_cum = data.cumsum(axis=1) # 逐项加和\n",
    "\n",
    "fig, ax = plt.subplots(figsize=(2.5, 2.5))\n",
    "\n",
    "for i, (colname, color) in enumerate(zip(category_names, category_colors)):\n",
    "    heights = data[:, i]\n",
    "    starts = data_cum[:, i] - heights\n",
    "\n",
    "    ax.bar(labels, heights, bottom=starts, width=0.7,\n",
    "            label=colname, color=color)\n",
    "    \n",
    "    xcenters = starts + heights / 2\n",
    "    text_color = '#000000'\n",
    "    for y, (x, c) in enumerate(zip(xcenters, heights)):\n",
    "        ax.text(y, x, '{:.1%}'.format(c), ha='center', va='center',\n",
    "                color=text_color, fontsize=10)\n",
    "\n",
    "ax.tick_params(axis='x', labelsize=12)\n",
    "ax.set_xticklabels(labels=labels)\n",
    "ax.set_ylim(0, 1)\n",
    "ax.yaxis.set_visible(False)\n",
    "handles, labels = ax.get_legend_handles_labels()\n",
    "ax.legend(handles[::-1], labels[::-1], fontsize=10, loc='upper left', frameon=True, bbox_to_anchor=(-0.02, -0.15), ncol=2)\n",
    "\n",
    "plt.savefig('plot/patient_num.svg', bbox_inches='tight')\n",
    "\n",
    "plt.show()\n"
   ]
  },
  {
   "cell_type": "markdown",
   "metadata": {},
   "source": [
    "## 患者年龄"
   ]
  },
  {
   "cell_type": "code",
   "execution_count": 58,
   "metadata": {},
   "outputs": [],
   "source": [
    "tdf = bdf.loc[bdf[\"年龄\"]!=\"none\",:]\n",
    "tpdf =pd.DataFrame([Counter(tdf[\"物种名称\"]).keys(), Counter(tdf[\"物种名称\"]).values()], index=[\"物种名称\",\"文献数量\"]).T\n",
    "tpdf.index =tpdf[\"物种名称\"]\n",
    "tpdf1d = tpdf.loc[tpdf[\"文献数量\"]<=1, [\"文献数量\"]]\n",
    "tpdf1w = tpdf.loc[tpdf[\"文献数量\"]>1, [\"文献数量\"]]\n",
    "\n",
    "tpdf5d= tpdf1w.loc[tpdf1w[\"文献数量\"]<=5, [\"文献数量\"]]\n",
    "tpdf5w = tpdf1w.loc[tpdf1w[\"文献数量\"]>5, [\"文献数量\"]]\n",
    "\n",
    "tpdf10d = tpdf5w.loc[tpdf5w[\"文献数量\"]>5, [\"文献数量\"]]\n",
    "tpdf10w = tpdf5w.loc[tpdf5w[\"文献数量\"]>10, [\"文献数量\"]]\n",
    "\n",
    "tdf.index = tdf[\"物种名称\"]\n",
    "var_dict = {\"bdf\":tdf.loc[tpdf1d.index],\"mdf\":tdf.loc[tpdf5d.index], \"vdf\":tdf.loc[tpdf10d.index] }"
   ]
  },
  {
   "cell_type": "code",
   "execution_count": 78,
   "metadata": {},
   "outputs": [],
   "source": [
    "var_dict = {\"bdf\":bdf.loc[bdf[\"年龄\"]!=\"none\",:],\"mdf\":mdf.loc[mdf[\"年龄\"]!=\"none\",:], \"vdf\":vdf.loc[vdf[\"年龄\"]!=\"none\",:]}\n",
    "for i in var_dict:\n",
    "    locals()[i[0]+\"pdf\"] = pd.DataFrame([Counter(var_dict[i][\"物种名称\"]).keys(), Counter(var_dict[i][\"物种名称\"]).values()], index=[\"物种名称\",\"文献数量\"]).T"
   ]
  },
  {
   "cell_type": "code",
   "execution_count": 79,
   "metadata": {},
   "outputs": [],
   "source": [
    "for i in var_dict:\n",
    "    locals()[i+\"_info\"] = pd.DataFrame([Counter(var_dict[i][\"年龄\"]).keys(), Counter(var_dict[i][\"年龄\"]).values()], index=[\"年龄\",\"数量\"]).T\n",
    "    locals()[i+\"_info\"][\"比例\"] = locals()[i+\"_info\"][\"数量\"]/np.sum(locals()[i+\"_info\"][\"数量\"])\n",
    "    locals()[i+\"_info\"].index = locals()[i+\"_info\"][\"年龄\"]"
   ]
  },
  {
   "cell_type": "code",
   "execution_count": 80,
   "metadata": {},
   "outputs": [
    {
     "name": "stderr",
     "output_type": "stream",
     "text": [
      "<ipython-input-80-61b5013d5f49>:46: UserWarning: FixedFormatter should only be used together with FixedLocator\n",
      "  ax.set_xticklabels(labels=labels)\n"
     ]
    },
    {
     "data": {
      "image/png": "[encoded data removed]",
      "text/plain": [
       "<Figure size 180x180 with 1 Axes>"
      ]
     },
     "metadata": {
      "needs_background": "light"
     },
     "output_type": "display_data"
    }
   ],
   "source": [
    "import numpy as np\n",
    "from matplotlib import pyplot as plt\n",
    "from matplotlib import rcParams\n",
    "plt.rc('font',family='Simsun') \n",
    "rcParams['mathtext.default'] = 'regular'\n",
    "\n",
    "\n",
    "results = {\n",
    "    '细菌': [\n",
    "        # bdf_info.loc[\"none\",\"比例\"],\n",
    "        bdf_info.loc[\"1岁以下\",\"比例\"],bdf_info.loc[\"1-17岁\",\"比例\"], bdf_info.loc[\"18-65岁\",\"比例\"], bdf_info.loc[\"65岁以上\",\"比例\"]],\n",
    "    '真菌': [\n",
    "        # mdf_info.loc[\"none\",\"比例\"],\n",
    "        mdf_info.loc[\"1岁以下\",\"比例\"],mdf_info.loc[\"1-17岁\",\"比例\"], mdf_info.loc[\"18-65岁\",\"比例\"], mdf_info.loc[\"65岁以上\",\"比例\"]],\n",
    "    '病毒': [\n",
    "        # vdf_info.loc[\"none\",\"比例\"],\n",
    "        vdf_info.loc[\"1岁以下\",\"比例\"],vdf_info.loc[\"1-17岁\",\"比例\"], vdf_info.loc[\"18-65岁\",\"比例\"], vdf_info.loc[\"65岁以上\",\"比例\"]],\n",
    "}\n",
    "category_names = [ \n",
    "    # '缺失',\n",
    "    '1岁以下','1-17岁', \"18-65岁\", \"65岁以上\"]\n",
    "category_colors = [\n",
    "    # \"#bebebe\", \n",
    "    \"#8ecfc9\", \"#ffbe7a\", \"#fa7f6f\", \"#82b0d2\" ]\n",
    "# 获取标签、数值\n",
    "labels = list(results.keys())\n",
    "data = np.array(list(results.values()))\n",
    "data_cum = data.cumsum(axis=1) # 逐项加和\n",
    "\n",
    "fig, ax = plt.subplots(figsize=(2.5, 2.5))\n",
    "\n",
    "for i, (colname, color) in enumerate(zip(category_names, category_colors)):\n",
    "    heights = data[:, i]\n",
    "    starts = data_cum[:, i] - heights\n",
    "\n",
    "    ax.bar(labels, heights, bottom=starts, width=0.7,\n",
    "            label=colname, color=color)\n",
    "    \n",
    "    xcenters = starts + heights / 2\n",
    "    text_color = '#000000'\n",
    "    for y, (x, c) in enumerate(zip(xcenters, heights)):\n",
    "        ax.text(y, x, '{:.1%}'.format(c), ha='center', va='center',\n",
    "                color=text_color, fontsize=10)\n",
    "\n",
    "ax.tick_params(axis='x', labelsize=12)\n",
    "ax.set_xticklabels(labels=labels)\n",
    "ax.set_ylim(0, 1)\n",
    "ax.yaxis.set_visible(False)\n",
    "handles, labels = ax.get_legend_handles_labels()\n",
    "ax.legend(handles[::-1], labels[::-1], fontsize=10, loc='upper left', frameon=True, bbox_to_anchor=(-0.02, -0.15), ncol=2)\n",
    "\n",
    "plt.savefig('plot/patient_age.svg', bbox_inches='tight')\n",
    "\n",
    "plt.show()\n"
   ]
  },
  {
   "cell_type": "markdown",
   "metadata": {},
   "source": [
    "# 免疫状态"
   ]
  },
  {
   "cell_type": "code",
   "execution_count": 32,
   "metadata": {},
   "outputs": [],
   "source": [
    "for i in var_dict:\n",
    "    locals()[i+\"_info\"] = pd.DataFrame([Counter(var_dict[i][\"免疫状态\"]).keys(), Counter(var_dict[i][\"免疫状态\"]).values()], index=[\"免疫状态\",\"数量\"]).T\n",
    "    locals()[i+\"_info\"][\"比例\"] = locals()[i+\"_info\"][\"数量\"]/np.sum(locals()[i+\"_info\"][\"数量\"])\n",
    "    locals()[i+\"_info\"].index = locals()[i+\"_info\"][\"免疫状态\"]"
   ]
  },
  {
   "cell_type": "code",
   "execution_count": 33,
   "metadata": {},
   "outputs": [
    {
     "name": "stderr",
     "output_type": "stream",
     "text": [
      "<ipython-input-33-211fe9bc248d>:35: UserWarning: FixedFormatter should only be used together with FixedLocator\n",
      "  ax.set_xticklabels(labels=labels)\n"
     ]
    },
    {
     "data": {
      "image/png": "[encoded data removed]",
      "text/plain": [
       "<Figure size 180x180 with 1 Axes>"
      ]
     },
     "metadata": {
      "needs_background": "light"
     },
     "output_type": "display_data"
    }
   ],
   "source": [
    "import numpy as np\n",
    "from matplotlib import pyplot as plt\n",
    "from matplotlib import rcParams\n",
    "plt.rc('font',family='Simsun') \n",
    "rcParams['mathtext.default'] = 'regular'\n",
    "\n",
    "results = {\n",
    "    '细菌': [bdf_info.loc[\"正常\",\"比例\"],bdf_info.loc[\"抑制\",\"比例\"]],\n",
    "    '真菌': [mdf_info.loc[\"正常\",\"比例\"],mdf_info.loc[\"抑制\",\"比例\"]],\n",
    "    '病毒': [vdf_info.loc[\"正常\",\"比例\"],vdf_info.loc[\"抑制\",\"比例\"]],\n",
    "}\n",
    "category_names = [ '正常',\"抑制\"]\n",
    "category_colors = [ \"#96c37d\", \"#d76364\"]\n",
    "# 获取标签、数值\n",
    "labels = list(results.keys())\n",
    "data = np.array(list(results.values()))\n",
    "data_cum = data.cumsum(axis=1) # 逐项加和\n",
    "\n",
    "fig, ax = plt.subplots(figsize=(2.5, 2.5))\n",
    "\n",
    "for i, (colname, color) in enumerate(zip(category_names, category_colors)):\n",
    "    heights = data[:, i]\n",
    "    starts = data_cum[:, i] - heights\n",
    "\n",
    "    ax.bar(labels, heights, bottom=starts, width=0.7,\n",
    "            label=colname, color=color)\n",
    "    \n",
    "    xcenters = starts + heights / 2\n",
    "    text_color = '#000000'\n",
    "    for y, (x, c) in enumerate(zip(xcenters, heights)):\n",
    "        ax.text(y, x, '{:.1%}'.format(c), ha='center', va='center',\n",
    "                color=text_color, fontsize=10)\n",
    "\n",
    "ax.tick_params(axis='x', labelsize=12)\n",
    "ax.set_xticklabels(labels=labels)\n",
    "ax.set_ylim(0, 1)\n",
    "ax.yaxis.set_visible(False)\n",
    "handles, labels = ax.get_legend_handles_labels()\n",
    "ax.legend(handles[::-1], labels[::-1], fontsize=10, loc='upper left', frameon=True, bbox_to_anchor=(-0.02, -0.15))\n",
    "\n",
    "plt.savefig('plot/patient_immu.svg', bbox_inches='tight')\n",
    "\n",
    "plt.show()\n"
   ]
  },
  {
   "cell_type": "markdown",
   "metadata": {},
   "source": [
    "# 证据等级"
   ]
  },
  {
   "cell_type": "code",
   "execution_count": 48,
   "metadata": {},
   "outputs": [],
   "source": [
    "tdf = bdf.loc[bdf[\"证据等级\"]!=\"none\",:]\n",
    "tpdf =pd.DataFrame([Counter(tdf[\"物种名称\"]).keys(), Counter(tdf[\"物种名称\"]).values()], index=[\"物种名称\",\"文献数量\"]).T\n",
    "tpdf.index =tpdf[\"物种名称\"]\n",
    "tpdf1d = tpdf.loc[tpdf[\"文献数量\"]<=1, [\"文献数量\"]]\n",
    "tpdf1w = tpdf.loc[tpdf[\"文献数量\"]>1, [\"文献数量\"]]\n",
    "\n",
    "tpdf5d= tpdf1w.loc[tpdf1w[\"文献数量\"]<=5, [\"文献数量\"]]\n",
    "tpdf5w = tpdf1w.loc[tpdf1w[\"文献数量\"]>5, [\"文献数量\"]]\n",
    "\n",
    "tpdf10d = tpdf5w.loc[tpdf5w[\"文献数量\"]>5, [\"文献数量\"]]\n",
    "tpdf10w = tpdf5w.loc[tpdf5w[\"文献数量\"]>10, [\"文献数量\"]]\n",
    "\n",
    "tdf.index = tdf[\"物种名称\"]\n",
    "var_dict = {\"bdf\":tdf.loc[tpdf1d.index],\"mdf\":tdf.loc[tpdf5d.index], \"vdf\":tdf.loc[tpdf10d.index] }"
   ]
  },
  {
   "cell_type": "code",
   "execution_count": 141,
   "metadata": {},
   "outputs": [],
   "source": [
    "var_dict = {\"bdf\":bdf.loc[bdf[\"证据等级\"]!=\"none\",:],\"mdf\":mdf.loc[mdf[\"证据等级\"]!=\"none\",:], \"vdf\":vdf.loc[vdf[\"证据等级\"]!=\"none\",:]}\n",
    "for i in var_dict:\n",
    "    locals()[i[0]+\"pdf\"] = pd.DataFrame([Counter(var_dict[i][\"物种名称\"]).keys(), Counter(var_dict[i][\"物种名称\"]).values()], index=[\"物种名称\",\"文献数量\"]).T"
   ]
  },
  {
   "cell_type": "code",
   "execution_count": 76,
   "metadata": {},
   "outputs": [],
   "source": [
    "for i in var_dict:\n",
    "    locals()[i+\"_info\"] = pd.DataFrame([Counter(var_dict[i][\"证据等级\"]).keys(), Counter(var_dict[i][\"证据等级\"]).values()], index=[\"证据等级\",\"数量\"]).T\n",
    "    locals()[i+\"_info\"][\"比例\"] = locals()[i+\"_info\"][\"数量\"]/np.sum(locals()[i+\"_info\"][\"数量\"])\n",
    "    locals()[i+\"_info\"].index = locals()[i+\"_info\"][\"证据等级\"]"
   ]
  },
  {
   "cell_type": "code",
   "execution_count": 77,
   "metadata": {},
   "outputs": [
    {
     "name": "stderr",
     "output_type": "stream",
     "text": [
      "<ipython-input-77-b880a54a2bbe>:68: UserWarning: FixedFormatter should only be used together with FixedLocator\n",
      "  ax.set_yticklabels(labels=labels)\n"
     ]
    },
    {
     "data": {
      "image/png": "[encoded data removed]",
      "text/plain": [
       "<Figure size 576x144 with 1 Axes>"
      ]
     },
     "metadata": {
      "needs_background": "light"
     },
     "output_type": "display_data"
    }
   ],
   "source": [
    "import numpy as np\n",
    "from matplotlib import pyplot as plt\n",
    "from matplotlib import rcParams\n",
    "plt.rc('font',family='Simsun') \n",
    "rcParams['mathtext.default'] = 'regular'\n",
    "\n",
    "results = {\n",
    "    '病毒': [\n",
    "        # vdf_info.loc[\"none\",\"比例\"],\n",
    "        vdf_info.loc[\"6：气管吸出物或痰的分子诊断（PCR、基因组测序等）病原\",\"比例\"],\n",
    "        vdf_info.loc[\"5：气管吸出物或痰/BALF纯培养或优势培养出病原体\",\"比例\"],\n",
    "        vdf_info.loc[\"4：气管镜活检组织培养出病原体，或者支气管肺泡灌洗液（BALF）定量培养>10**4\",\"比例\"],\n",
    "        vdf_info.loc[\"3：血及无菌体液（如脓胸液）\",\"比例\"],\n",
    "        vdf_info.loc[\"2：肺组织病原学证据\",\"比例\"],\n",
    "        vdf_info.loc[\"1：同时具备肺组织病理+病原学证据\",\"比例\"]],\n",
    "    '真菌': [\n",
    "        # mdf_info.loc[\"none\",\"比例\"],\n",
    "        mdf_info.loc[\"6：气管吸出物或痰的分子诊断（PCR、基因组测序等）病原\",\"比例\"],\n",
    "        mdf_info.loc[\"5：气管吸出物或痰/BALF纯培养或优势培养出病原体\",\"比例\"],\n",
    "        mdf_info.loc[\"4：气管镜活检组织培养出病原体，或者支气管肺泡灌洗液（BALF）定量培养>10**4\",\"比例\"],\n",
    "        mdf_info.loc[\"3：血及无菌体液（如脓胸液）\",\"比例\"],\n",
    "        mdf_info.loc[\"2：肺组织病原学证据\",\"比例\"],\n",
    "        mdf_info.loc[\"1：同时具备肺组织病理+病原学证据\",\"比例\"]],\n",
    "    '细菌': [\n",
    "        # bdf_info.loc[\"none\",\"比例\"],\n",
    "        bdf_info.loc[\"6：气管吸出物或痰的分子诊断（PCR、基因组测序等）病原\",\"比例\"],\n",
    "        bdf_info.loc[\"5：气管吸出物或痰/BALF纯培养或优势培养出病原体\",\"比例\"],\n",
    "        bdf_info.loc[\"4：气管镜活检组织培养出病原体，或者支气管肺泡灌洗液（BALF）定量培养>10**4\",\"比例\"],\n",
    "        bdf_info.loc[\"3：血及无菌体液（如脓胸液）\",\"比例\"],\n",
    "        bdf_info.loc[\"2：肺组织病原学证据\",\"比例\"],\n",
    "        bdf_info.loc[\"1：同时具备肺组织病理+病原学证据\",\"比例\"]],\n",
    "}\n",
    "category_names = [ \n",
    "    # \"缺失\",\n",
    "    \"6：气管吸出物或痰的分子诊断（PCR、基因组测序等）病原\",\"5：气管吸出物或痰/BALF纯培养或优势培养出病原体\",\n",
    "    \"4：气管镜活检组织培养出病原体，或者支气管肺泡灌洗液（BALF）定量培养>10**4\",\"3：血及无菌体液（如脓胸液）\",\n",
    "    \"2：肺组织病原学证据\",\"1：同时具备肺组织病理+病原学证据\"]\n",
    "\n",
    "category_colors = [ \n",
    "    # \"#bebebe\",\n",
    "    \"#c497b2\",\"#f8f3f9\",\"#f7e1ed\",\"#d8383a\",\"#f3d266\",\"#96c37d\"]\n",
    "\n",
    "# 获取标签、数值\n",
    "labels = list(results.keys())\n",
    "data = np.array(list(results.values()))\n",
    "data_cum = data.cumsum(axis=1) # 逐项加和\n",
    "\n",
    "fig, ax = plt.subplots(figsize=(8, 2))\n",
    "ax.grid(axis=\"x\", linestyle=\"--\", alpha=1, zorder=0)\n",
    "\n",
    "for i, (colname, color) in enumerate(zip(category_names, category_colors)):\n",
    "    \n",
    "    heights = data[:, i]\n",
    "    starts = data_cum[:, i] - heights\n",
    "\n",
    "    ax.barh(labels, heights, left=starts, height=0.7,\n",
    "            label=colname, color=color, zorder=50)\n",
    "    \n",
    "    xcenters = starts + heights / 2\n",
    "    text_color = '#000000'\n",
    "    for y, (x, c) in enumerate(zip(xcenters, heights)):\n",
    "        ax.text(x, y, '{:.1%}'.format(c), ha='center', va='center',\n",
    "                color=text_color, fontsize=10, rotation=-45, zorder=100)\n",
    "\n",
    "ax.tick_params(axis='x', labelsize=12)\n",
    "ax.tick_params(axis='y', labelsize=12)\n",
    "\n",
    "ax.set_yticklabels(labels=labels)\n",
    "\n",
    "ax.set_xlim(0, 1)\n",
    "x_ticklabels = [\"0\",\"10%\",\"20%\",\"30%\",\"40%\",\"50%\",\"60%\",\"70%\",\"80%\",\"90%\",\"100%\"]\n",
    "x_ticks = np.linspace(0, 1, 11)\n",
    "ax.set_xticks(x_ticks)\n",
    "ax.set_xticklabels(labels=x_ticklabels)\n",
    "\n",
    "handles, labels = ax.get_legend_handles_labels()\n",
    "ax.legend(handles[::-1], labels[::-1], fontsize=10, loc='upper left', frameon=True, bbox_to_anchor=(-0.02, -0.15))\n",
    "ax.spines['right'].set_color('none')\n",
    "ax.spines['top'].set_color('none')\n",
    "\n",
    "plt.savefig('plot/patient_evi.svg', bbox_inches='tight')\n",
    "\n",
    "plt.show()"
   ]
  },
  {
   "cell_type": "markdown",
   "metadata": {},
   "source": [
    "# 频率与免疫状态"
   ]
  },
  {
   "cell_type": "code",
   "execution_count": 8,
   "metadata": {},
   "outputs": [
    {
     "name": "stderr",
     "output_type": "stream",
     "text": [
      "C:\\Users\\xinzhuo\\anaconda3\\lib\\site-packages\\pandas\\core\\indexing.py:1637: SettingWithCopyWarning: \n",
      "A value is trying to be set on a copy of a slice from a DataFrame\n",
      "\n",
      "See the caveats in the documentation: https://pandas.pydata.org/pandas-docs/stable/user_guide/indexing.html#returning-a-view-versus-a-copy\n",
      "  self._setitem_single_block(indexer, value, name)\n",
      "C:\\Users\\xinzhuo\\anaconda3\\lib\\site-packages\\pandas\\core\\indexing.py:692: SettingWithCopyWarning: \n",
      "A value is trying to be set on a copy of a slice from a DataFrame\n",
      "\n",
      "See the caveats in the documentation: https://pandas.pydata.org/pandas-docs/stable/user_guide/indexing.html#returning-a-view-versus-a-copy\n",
      "  iloc._setitem_with_indexer(indexer, value, self.name)\n"
     ]
    },
    {
     "data": {
      "text/plain": [
       "<matplotlib.collections.PathCollection at 0x1c59583f160>"
      ]
     },
     "execution_count": 8,
     "metadata": {},
     "output_type": "execute_result"
    },
    {
     "data": {
      "image/png": "[encoded data removed]",
      "text/plain": [
       "<Figure size 432x288 with 1 Axes>"
      ]
     },
     "metadata": {
      "needs_background": "light"
     },
     "output_type": "display_data"
    }
   ],
   "source": [
    "for i in var_dict:\n",
    "    locals()[i[0]+\"pdf\"] = pd.DataFrame(\n",
    "        [Counter(var_dict[i][\"物种名称\"]).keys(), Counter(var_dict[i][\"物种名称\"]).values()], index=[\"物种名称\",\"文献数量\"]).T\n",
    "    immu_df = var_dict[i][[\"物种名称\",\"免疫状态\"]]\n",
    "    immu_df.loc[immu_df[\"免疫状态\"]==\"正常\",\"免疫状态\"] = 1\n",
    "    immu_df.loc[immu_df[\"免疫状态\"]==\"抑制\",\"免疫状态\"] = 0\n",
    "\n",
    "    immu_f = []\n",
    "    for j in locals()[i[0]+\"pdf\"][\"物种名称\"]:\n",
    "        immu_f.append(np.mean(immu_df.loc[immu_df[\"物种名称\"]==j, \"免疫状态\"]))\n",
    "    locals()[i[0]+\"pdf\"][\"免疫频率\"] = immu_f\n",
    "plt.scatter(bpdf[\"免疫频率\"],bpdf[\"文献数量\"] )\n"
   ]
  },
  {
   "cell_type": "code",
   "execution_count": 118,
   "metadata": {},
   "outputs": [],
   "source": [
    "tdf = bdf.loc[bdf[\"免疫状态\"]!=\"none\",:]\n",
    "tpdf =pd.DataFrame([Counter(tdf[\"物种名称\"]).keys(), Counter(tdf[\"物种名称\"]).values()], index=[\"物种名称\",\"文献数量\"]).T\n",
    "tpdf.index =tpdf[\"物种名称\"]\n",
    "tpdf1d = tpdf.loc[tpdf[\"文献数量\"]<=1, [\"文献数量\"]]\n",
    "tpdf1w = tpdf.loc[tpdf[\"文献数量\"]>1, [\"文献数量\"]]\n",
    "\n",
    "tpdf5d= tpdf1w.loc[tpdf1w[\"文献数量\"]<=5, [\"文献数量\"]]\n",
    "tpdf5w = tpdf1w.loc[tpdf1w[\"文献数量\"]>5, [\"文献数量\"]]\n",
    "\n",
    "tpdf10w = tpdf5w.loc[tpdf5w[\"文献数量\"]>10, [\"文献数量\"]]\n",
    "tpdf10d = tpdf.loc[tpdf[\"文献数量\"]<10, [\"文献数量\"]]\n",
    "tpdf10w = tpdf.loc[tpdf[\"文献数量\"]>10, [\"文献数量\"]]\n",
    "\n",
    "tdf.index = tdf[\"物种名称\"]\n",
    "# var_dict = {\"bdf\":tdf.loc[tpdf1d.index],\"mdf\":tdf.loc[tpdf5d.index], \"vdf\":tdf.loc[tpdf10w.index] }\n",
    "var_dict = {\"bdf\":tdf.loc[tpdf10d.index],\"mdf\":tdf.loc[tpdf10w.index] }"
   ]
  },
  {
   "cell_type": "code",
   "execution_count": 119,
   "metadata": {},
   "outputs": [],
   "source": [
    "for i in var_dict:\n",
    "    locals()[i+\"_info\"] = pd.DataFrame([Counter(var_dict[i][\"免疫状态\"]).keys(), Counter(var_dict[i][\"免疫状态\"]).values()], index=[\"免疫状态\",\"数量\"]).T\n",
    "    locals()[i+\"_info\"][\"比例\"] = locals()[i+\"_info\"][\"数量\"]/np.sum(locals()[i+\"_info\"][\"数量\"])\n",
    "    locals()[i+\"_info\"].index = locals()[i+\"_info\"][\"免疫状态\"]"
   ]
  },
  {
   "cell_type": "code",
   "execution_count": 120,
   "metadata": {},
   "outputs": [
    {
     "name": "stderr",
     "output_type": "stream",
     "text": [
      "<ipython-input-120-8e11e3707365>:35: UserWarning: FixedFormatter should only be used together with FixedLocator\n",
      "  ax.set_xticklabels(labels=labels)\n"
     ]
    },
    {
     "data": {
      "image/png": "[encoded data removed]",
      "text/plain": [
       "<Figure size 180x180 with 1 Axes>"
      ]
     },
     "metadata": {
      "needs_background": "light"
     },
     "output_type": "display_data"
    }
   ],
   "source": [
    "import numpy as np\n",
    "from matplotlib import pyplot as plt\n",
    "from matplotlib import rcParams\n",
    "plt.rc('font',family='Simsun') \n",
    "rcParams['mathtext.default'] = 'regular'\n",
    "\n",
    "results = {\n",
    "    '细菌': [bdf_info.loc[\"正常\",\"比例\"],bdf_info.loc[\"抑制\",\"比例\"]],\n",
    "    '真菌': [mdf_info.loc[\"正常\",\"比例\"],mdf_info.loc[\"抑制\",\"比例\"]],\n",
    "    # '病毒': [vdf_info.loc[\"正常\",\"比例\"],vdf_info.loc[\"抑制\",\"比例\"]],\n",
    "}\n",
    "category_names = [ '正常',\"抑制\"]\n",
    "category_colors = [ \"#96c37d\", \"#d76364\"]\n",
    "# 获取标签、数值\n",
    "labels = list(results.keys())\n",
    "data = np.array(list(results.values()))\n",
    "data_cum = data.cumsum(axis=1) # 逐项加和\n",
    "\n",
    "fig, ax = plt.subplots(figsize=(2.5, 2.5))\n",
    "\n",
    "for i, (colname, color) in enumerate(zip(category_names, category_colors)):\n",
    "    heights = data[:, i]\n",
    "    starts = data_cum[:, i] - heights\n",
    "\n",
    "    ax.bar(labels, heights, bottom=starts, width=0.7,\n",
    "            label=colname, color=color)\n",
    "    \n",
    "    xcenters = starts + heights / 2\n",
    "    text_color = '#000000'\n",
    "    for y, (x, c) in enumerate(zip(xcenters, heights)):\n",
    "        ax.text(y, x, '{:.1%}'.format(c), ha='center', va='center',\n",
    "                color=text_color, fontsize=10)\n",
    "\n",
    "ax.tick_params(axis='x', labelsize=12)\n",
    "ax.set_xticklabels(labels=labels)\n",
    "ax.set_ylim(0, 1)\n",
    "ax.yaxis.set_visible(False)\n",
    "handles, labels = ax.get_legend_handles_labels()\n",
    "ax.legend(handles[::-1], labels[::-1], fontsize=10, loc='upper left', frameon=True, bbox_to_anchor=(-0.02, -0.15))\n",
    "\n",
    "plt.savefig('plot/patient_immu.svg', bbox_inches='tight')\n",
    "\n",
    "plt.show()"
   ]
  },
  {
   "cell_type": "markdown",
   "metadata": {},
   "source": [
    "# 频率与证据等级"
   ]
  },
  {
   "cell_type": "code",
   "execution_count": 144,
   "metadata": {},
   "outputs": [],
   "source": [
    "tdf = bdf.loc[bdf[\"证据等级\"]!=\"none\",:]\n",
    "tpdf =pd.DataFrame([Counter(tdf[\"物种名称\"]).keys(), Counter(tdf[\"物种名称\"]).values()], index=[\"物种名称\",\"文献数量\"]).T\n",
    "tpdf.index =tpdf[\"物种名称\"]\n",
    "\n",
    "tpdf1d = tpdf.loc[tpdf[\"文献数量\"]<=1, [\"文献数量\"]]\n",
    "tpdf1w = tpdf.loc[tpdf[\"文献数量\"]>1, [\"文献数量\"]]\n",
    "\n",
    "tpdf5d= tpdf1w.loc[tpdf1w[\"文献数量\"]<=5, [\"文献数量\"]]\n",
    "tpdf5w = tpdf1w.loc[tpdf1w[\"文献数量\"]>5, [\"文献数量\"]]\n",
    "\n",
    "tpdf10w = tpdf5w.loc[tpdf5w[\"文献数量\"]>10, [\"文献数量\"]]\n",
    "\n",
    "\n",
    "tdf.index = tdf[\"物种名称\"]\n",
    "var_dict = {\"bdf\":tdf.loc[tpdf1d.index],\"mdf\":tdf.loc[tpdf5d.index], \"vdf\":tdf.loc[tpdf10w.index] }\n",
    "\n",
    "# tpdf10d = tpdf.loc[tpdf[\"文献数量\"]<10, [\"文献数量\"]]\n",
    "# tpdf10w = tpdf.loc[tpdf[\"文献数量\"]>10, [\"文献数量\"]]\n",
    "# var_dict = {\"bdf\":tdf.loc[tpdf10d.index],\"mdf\":tdf.loc[tpdf10w.index] }"
   ]
  },
  {
   "cell_type": "code",
   "execution_count": 145,
   "metadata": {},
   "outputs": [],
   "source": [
    "for i in var_dict:\n",
    "    locals()[i+\"_info\"] = pd.DataFrame([Counter(var_dict[i][\"证据等级\"]).keys(), Counter(var_dict[i][\"证据等级\"]).values()], index=[\"证据等级\",\"数量\"]).T\n",
    "    locals()[i+\"_info\"][\"比例\"] = locals()[i+\"_info\"][\"数量\"]/np.sum(locals()[i+\"_info\"][\"数量\"])\n",
    "    locals()[i+\"_info\"].index = locals()[i+\"_info\"][\"证据等级\"]"
   ]
  },
  {
   "cell_type": "code",
   "execution_count": 146,
   "metadata": {},
   "outputs": [
    {
     "name": "stderr",
     "output_type": "stream",
     "text": [
      "<ipython-input-146-b880a54a2bbe>:68: UserWarning: FixedFormatter should only be used together with FixedLocator\n",
      "  ax.set_yticklabels(labels=labels)\n"
     ]
    },
    {
     "data": {
      "image/png": "[encoded data removed]",
      "text/plain": [
       "<Figure size 576x144 with 1 Axes>"
      ]
     },
     "metadata": {
      "needs_background": "light"
     },
     "output_type": "display_data"
    }
   ],
   "source": [
    "import numpy as np\n",
    "from matplotlib import pyplot as plt\n",
    "from matplotlib import rcParams\n",
    "plt.rc('font',family='Simsun') \n",
    "rcParams['mathtext.default'] = 'regular'\n",
    "\n",
    "results = {\n",
    "    '病毒': [\n",
    "        # vdf_info.loc[\"none\",\"比例\"],\n",
    "        vdf_info.loc[\"6：气管吸出物或痰的分子诊断（PCR、基因组测序等）病原\",\"比例\"],\n",
    "        vdf_info.loc[\"5：气管吸出物或痰/BALF纯培养或优势培养出病原体\",\"比例\"],\n",
    "        vdf_info.loc[\"4：气管镜活检组织培养出病原体，或者支气管肺泡灌洗液（BALF）定量培养>10**4\",\"比例\"],\n",
    "        vdf_info.loc[\"3：血及无菌体液（如脓胸液）\",\"比例\"],\n",
    "        vdf_info.loc[\"2：肺组织病原学证据\",\"比例\"],\n",
    "        vdf_info.loc[\"1：同时具备肺组织病理+病原学证据\",\"比例\"]],\n",
    "    '真菌': [\n",
    "        # mdf_info.loc[\"none\",\"比例\"],\n",
    "        mdf_info.loc[\"6：气管吸出物或痰的分子诊断（PCR、基因组测序等）病原\",\"比例\"],\n",
    "        mdf_info.loc[\"5：气管吸出物或痰/BALF纯培养或优势培养出病原体\",\"比例\"],\n",
    "        mdf_info.loc[\"4：气管镜活检组织培养出病原体，或者支气管肺泡灌洗液（BALF）定量培养>10**4\",\"比例\"],\n",
    "        mdf_info.loc[\"3：血及无菌体液（如脓胸液）\",\"比例\"],\n",
    "        mdf_info.loc[\"2：肺组织病原学证据\",\"比例\"],\n",
    "        mdf_info.loc[\"1：同时具备肺组织病理+病原学证据\",\"比例\"]],\n",
    "    '细菌': [\n",
    "        # bdf_info.loc[\"none\",\"比例\"],\n",
    "        bdf_info.loc[\"6：气管吸出物或痰的分子诊断（PCR、基因组测序等）病原\",\"比例\"],\n",
    "        bdf_info.loc[\"5：气管吸出物或痰/BALF纯培养或优势培养出病原体\",\"比例\"],\n",
    "        bdf_info.loc[\"4：气管镜活检组织培养出病原体，或者支气管肺泡灌洗液（BALF）定量培养>10**4\",\"比例\"],\n",
    "        bdf_info.loc[\"3：血及无菌体液（如脓胸液）\",\"比例\"],\n",
    "        bdf_info.loc[\"2：肺组织病原学证据\",\"比例\"],\n",
    "        bdf_info.loc[\"1：同时具备肺组织病理+病原学证据\",\"比例\"]],\n",
    "}\n",
    "category_names = [ \n",
    "    # \"缺失\",\n",
    "    \"6：气管吸出物或痰的分子诊断（PCR、基因组测序等）病原\",\"5：气管吸出物或痰/BALF纯培养或优势培养出病原体\",\n",
    "    \"4：气管镜活检组织培养出病原体，或者支气管肺泡灌洗液（BALF）定量培养>10**4\",\"3：血及无菌体液（如脓胸液）\",\n",
    "    \"2：肺组织病原学证据\",\"1：同时具备肺组织病理+病原学证据\"]\n",
    "\n",
    "category_colors = [ \n",
    "    # \"#bebebe\",\n",
    "    \"#c497b2\",\"#f8f3f9\",\"#f7e1ed\",\"#d8383a\",\"#f3d266\",\"#96c37d\"]\n",
    "\n",
    "# 获取标签、数值\n",
    "labels = list(results.keys())\n",
    "data = np.array(list(results.values()))\n",
    "data_cum = data.cumsum(axis=1) # 逐项加和\n",
    "\n",
    "fig, ax = plt.subplots(figsize=(8, 2))\n",
    "ax.grid(axis=\"x\", linestyle=\"--\", alpha=1, zorder=0)\n",
    "\n",
    "for i, (colname, color) in enumerate(zip(category_names, category_colors)):\n",
    "    \n",
    "    heights = data[:, i]\n",
    "    starts = data_cum[:, i] - heights\n",
    "\n",
    "    ax.barh(labels, heights, left=starts, height=0.7,\n",
    "            label=colname, color=color, zorder=50)\n",
    "    \n",
    "    xcenters = starts + heights / 2\n",
    "    text_color = '#000000'\n",
    "    for y, (x, c) in enumerate(zip(xcenters, heights)):\n",
    "        ax.text(x, y, '{:.1%}'.format(c), ha='center', va='center',\n",
    "                color=text_color, fontsize=10, rotation=-45, zorder=100)\n",
    "\n",
    "ax.tick_params(axis='x', labelsize=12)\n",
    "ax.tick_params(axis='y', labelsize=12)\n",
    "\n",
    "ax.set_yticklabels(labels=labels)\n",
    "\n",
    "ax.set_xlim(0, 1)\n",
    "x_ticklabels = [\"0\",\"10%\",\"20%\",\"30%\",\"40%\",\"50%\",\"60%\",\"70%\",\"80%\",\"90%\",\"100%\"]\n",
    "x_ticks = np.linspace(0, 1, 11)\n",
    "ax.set_xticks(x_ticks)\n",
    "ax.set_xticklabels(labels=x_ticklabels)\n",
    "\n",
    "handles, labels = ax.get_legend_handles_labels()\n",
    "ax.legend(handles[::-1], labels[::-1], fontsize=10, loc='upper left', frameon=True, bbox_to_anchor=(-0.02, -0.15))\n",
    "ax.spines['right'].set_color('none')\n",
    "ax.spines['top'].set_color('none')\n",
    "\n",
    "plt.savefig('plot/patient_evi.svg', bbox_inches='tight')\n",
    "\n",
    "plt.show()"
   ]
  }
 ],
 "metadata": {
  "kernelspec": {
   "display_name": "base",
   "language": "python",
   "name": "python3"
  },
  "language_info": {
   "codemirror_mode": {
    "name": "ipython",
    "version": 3
   },
   "file_extension": ".py",
   "mimetype": "text/x-python",
   "name": "python",
   "nbconvert_exporter": "python",
   "pygments_lexer": "ipython3",
   "version": "3.9.12 (main, Jun  1 2022, 11:38:51) \n[GCC 7.5.0]"
  },
  "vscode": {
   "interpreter": {
    "hash": "bd5a5980a31967086eaababc5338e6a92d5792ba40cc4c910227acd610a4f48f"
   }
  }
 },
 "nbformat": 4,
 "nbformat_minor": 4
}
