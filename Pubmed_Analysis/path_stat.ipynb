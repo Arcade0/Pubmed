{
 "cells": [
  {
   "cell_type": "code",
   "execution_count": 1,
   "metadata": {},
   "outputs": [],
   "source": [
    "import pandas as pd\n",
    "import numpy as np\n",
    "import json"
   ]
  },
  {
   "cell_type": "code",
   "execution_count": null,
   "metadata": {},
   "outputs": [],
   "source": [
    "with open(\"../Pubmed_Search/search_results/search_results_hanimals.txt\", \"r\") as f:\n",
    "    a = f.read()\n",
    "    spec_papers_dic = json.loads(a)\n"
   ]
  },
  {
   "cell_type": "code",
   "execution_count": 3,
   "metadata": {},
   "outputs": [],
   "source": [
    "# 加载判断了的病原菌信息\n",
    "prediction = json.load(open(\"../Pubmed_Bert/output/output_pat/total_predictions.json\", 'r'))\n",
    "result = {}\n",
    "for i in prediction.keys():\n",
    "    paper_id = i.split(\":\")[0]\n",
    "    spec = i.split(\":\")[1]\n",
    "    ncbi = \"https://pubmed.ncbi.nlm.nih.gov/%s/\" % paper_id\n",
    "    result[i] = [paper_id, spec, prediction[i][1][0], ncbi]\n",
    "result = pd.DataFrame(result, index = [\"ID\", \"SPECIES\", \"rate\", \"link\"]).T\n",
    "prediction_extend = {}\n",
    "\n",
    "for spec_type in spec_papers_dic:\n",
    "\n",
    "    prediction_extend[spec_type] = {}\n",
    "    \n",
    "    for k, v in prediction.items():\n",
    "\n",
    "        spec = k.split(\":\")[1]\n",
    "        paper_id = k.split(\":\")[0]\n",
    "        \n",
    "        if spec in spec_papers_dic[spec_type]:\n",
    "\n",
    "            if v[1][0] > 0.5:\n",
    "\n",
    "                if spec not in prediction_extend[spec_type]:\n",
    "                \n",
    "                    prediction_extend[spec_type][spec] = {}\n",
    "                    prediction_extend[spec_type][spec][paper_id] = spec_papers_dic[spec_type][spec][paper_id]\n",
    "                    prediction_extend[spec_type][spec][paper_id][\"predition\"] = v\n",
    "                else:\n",
    "                    prediction_extend[spec_type][spec][paper_id] = spec_papers_dic[spec_type][spec][paper_id]\n",
    "                    prediction_extend[spec_type][spec][paper_id][\"predition\"] = v"
   ]
  }
 ],
 "metadata": {
  "kernelspec": {
   "display_name": "base",
   "language": "python",
   "name": "python3"
  },
  "language_info": {
   "codemirror_mode": {
    "name": "ipython",
    "version": 3
   },
   "file_extension": ".py",
   "mimetype": "text/x-python",
   "name": "python",
   "nbconvert_exporter": "python",
   "pygments_lexer": "ipython3",
   "version": "3.9.12"
  },
  "orig_nbformat": 4,
  "vscode": {
   "interpreter": {
    "hash": "bd5a5980a31967086eaababc5338e6a92d5792ba40cc4c910227acd610a4f48f"
   }
  }
 },
 "nbformat": 4,
 "nbformat_minor": 2
}
