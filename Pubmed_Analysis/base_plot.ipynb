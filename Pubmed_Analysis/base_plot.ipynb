{
 "cells": [
  {
   "cell_type": "markdown",
   "metadata": {},
   "source": [
    "# 频率直方图"
   ]
  },
  {
   "cell_type": "code",
   "execution_count": 1,
   "metadata": {},
   "outputs": [
    {
     "ename": "NameError",
     "evalue": "name 'bpdf' is not defined",
     "output_type": "error",
     "traceback": [
      "\u001b[1;31m---------------------------------------------------------------------------\u001b[0m",
      "\u001b[1;31mNameError\u001b[0m                                 Traceback (most recent call last)",
      "\u001b[1;32md:\\RE\\REP\\base_plot.ipynb Cell 2\u001b[0m in \u001b[0;36m<cell line: 22>\u001b[1;34m()\u001b[0m\n\u001b[0;32m     <a href='vscode-notebook-cell:/d%3A/RE/REP/base_plot.ipynb#ch0000001?line=18'>19</a>\u001b[0m ax\u001b[39m.\u001b[39mgrid(axis\u001b[39m=\u001b[39m\u001b[39m\"\u001b[39m\u001b[39my\u001b[39m\u001b[39m\"\u001b[39m, linestyle\u001b[39m=\u001b[39m\u001b[39m\"\u001b[39m\u001b[39m--\u001b[39m\u001b[39m\"\u001b[39m)\n\u001b[0;32m     <a href='vscode-notebook-cell:/d%3A/RE/REP/base_plot.ipynb#ch0000001?line=20'>21</a>\u001b[0m bins \u001b[39m=\u001b[39m \u001b[39m50\u001b[39m\n\u001b[1;32m---> <a href='vscode-notebook-cell:/d%3A/RE/REP/base_plot.ipynb#ch0000001?line=21'>22</a>\u001b[0m ax\u001b[39m.\u001b[39mhist(bpdf[\u001b[39m\"\u001b[39m\u001b[39m文献数量\u001b[39m\u001b[39m\"\u001b[39m], bins, width\u001b[39m=\u001b[39m\u001b[39m1.9\u001b[39m, color\u001b[39m=\u001b[39m\u001b[39m\"\u001b[39m\u001b[39m#da9696\u001b[39m\u001b[39m\"\u001b[39m, alpha \u001b[39m=\u001b[39m \u001b[39m1\u001b[39m, label\u001b[39m=\u001b[39m\u001b[39m'\u001b[39m\u001b[39m细菌\u001b[39m\u001b[39m'\u001b[39m, density\u001b[39m=\u001b[39m\u001b[39mTrue\u001b[39;00m)\n\u001b[0;32m     <a href='vscode-notebook-cell:/d%3A/RE/REP/base_plot.ipynb#ch0000001?line=22'>23</a>\u001b[0m ax\u001b[39m.\u001b[39maxvline(bpdf[\u001b[39m\"\u001b[39m\u001b[39m文献数量\u001b[39m\u001b[39m\"\u001b[39m]\u001b[39m.\u001b[39mmean(), color\u001b[39m=\u001b[39m\u001b[39m\"\u001b[39m\u001b[39m#da9696\u001b[39m\u001b[39m\"\u001b[39m, linestyle\u001b[39m=\u001b[39m\u001b[39m'\u001b[39m\u001b[39mdashed\u001b[39m\u001b[39m'\u001b[39m, linewidth\u001b[39m=\u001b[39m\u001b[39m2\u001b[39m) \u001b[39m# 平均值\u001b[39;00m\n\u001b[0;32m     <a href='vscode-notebook-cell:/d%3A/RE/REP/base_plot.ipynb#ch0000001?line=23'>24</a>\u001b[0m ax\u001b[39m.\u001b[39mtext(bpdf[\u001b[39m\"\u001b[39m\u001b[39m文献数量\u001b[39m\u001b[39m\"\u001b[39m]\u001b[39m.\u001b[39mmean()\u001b[39m*\u001b[39m\u001b[39m1.2\u001b[39m, \u001b[39m0.15\u001b[39m, \u001b[39m'\u001b[39m\u001b[39m平均文献数: \u001b[39m\u001b[39m{:.2f}\u001b[39;00m\u001b[39m'\u001b[39m\u001b[39m.\u001b[39mformat(bpdf[\u001b[39m\"\u001b[39m\u001b[39m文献数量\u001b[39m\u001b[39m\"\u001b[39m]\u001b[39m.\u001b[39mmean()), fontsize\u001b[39m=\u001b[39m\u001b[39m12\u001b[39m) \u001b[39m# 标注平均值的数值\u001b[39;00m\n",
      "\u001b[1;31mNameError\u001b[0m: name 'bpdf' is not defined"
     ]
    },
    {
     "data": {
      "image/png": "[encoded data removed]",
      "text/plain": [
       "<Figure size 432x432 with 9 Axes>"
      ]
     },
     "metadata": {
      "needs_background": "light"
     },
     "output_type": "display_data"
    },
    {
     "data": {
      "image/png": "[encoded data removed]",
      "text/plain": [
       "<Figure size 360x720 with 3 Axes>"
      ]
     },
     "metadata": {
      "needs_background": "light"
     },
     "output_type": "display_data"
    }
   ],
   "source": [
    "import numpy as np\n",
    "from matplotlib import pyplot as plt\n",
    "from matplotlib import rcParams\n",
    "plt.rc('font',family='Times New Roman') \n",
    "rcParams['mathtext.default'] = 'regular'\n",
    "\n",
    "# 找一个画布\n",
    "fig, axes = plt.subplots(nrows=3, ncols=3, figsize=(6, 6))\n",
    "plt.subplots_adjust(left=0.2, right=0.85, top=0.9, bottom=0.15, wspace=0.01, hspace=0.1) # 调节子图的位置\n",
    "\n",
    "## 找一个画布\n",
    "fig, axes = plt.subplots(nrows=3, ncols=1, figsize=(5, 10))\n",
    "\n",
    "# fig.suptitle(\"文献数量分布\", fontsize=18)\n",
    "plt.subplots_adjust(left=0.2, right=0.85, top=0.95, bottom=0.15, wspace=0.01, hspace=0.2)\n",
    "\n",
    "# ax\n",
    "ax = axes[0]\n",
    "ax.grid(axis=\"y\", linestyle=\"--\")\n",
    "\n",
    "bins = 50\n",
    "ax.hist(bpdf[\"文献数量\"], bins, width=1.9, color=\"#da9696\", alpha = 1, label='细菌', density=True)\n",
    "ax.axvline(bpdf[\"文献数量\"].mean(), color=\"#da9696\", linestyle='dashed', linewidth=2) # 平均值\n",
    "ax.text(bpdf[\"文献数量\"].mean()*1.2, 0.15, '平均文献数: {:.2f}'.format(bpdf[\"文献数量\"].mean()), fontsize=12) # 标注平均值的数值\n",
    "\n",
    "ax.tick_params(axis='x', labelsize=12)\n",
    "ax.set_xlim((0, 100))\n",
    "x_ticks = np.linspace(0, 100, 5)\n",
    "ax.set_xticks(x_ticks)\n",
    "ax.tick_params(axis='y', labelsize=12)\n",
    "ax.set_ylim((0, 0.5))\n",
    "y_ticks = np.linspace(0, 0.5, 4)\n",
    "ax.set_yticks(y_ticks)\n",
    "\n",
    "ax.legend(fontsize='x-large', loc=0, frameon=True, bbox_to_anchor=(1, 1))\n",
    "\n",
    "# save\n",
    "# plt.savefig('demo.svg', bbox_inches='tight')\n",
    "\n",
    "# show\n",
    "plt.show()"
   ]
  },
  {
   "cell_type": "markdown",
   "metadata": {},
   "source": [
    "# 分层堆积图"
   ]
  },
  {
   "cell_type": "code",
   "execution_count": null,
   "metadata": {},
   "outputs": [],
   "source": [
    "import numpy as np\n",
    "from matplotlib import pyplot as plt\n",
    "from matplotlib import rcParams\n",
    "plt.rc('font',family='Simsun') \n",
    "rcParams['mathtext.default'] = 'regular'\n",
    "\n",
    "\n",
    "results = {\n",
    "    '细菌': [bdf_sex.loc[\"none\",\"性别比例\"],bdf_sex.loc[\"男\",\"性别比例\"],bdf_sex.loc[\"女\",\"性别比例\"]],\n",
    "    '真菌': [mdf_sex.loc[\"none\",\"性别比例\"],mdf_sex.loc[\"男\",\"性别比例\"],mdf_sex.loc[\"女\",\"性别比例\"]],\n",
    "    '病毒': [vdf_sex.loc[\"none\",\"性别比例\"],vdf_sex.loc[\"男\",\"性别比例\"],vdf_sex.loc[\"女\",\"性别比例\"]],\n",
    "}\n",
    "category_names = [ '缺失','男','女']\n",
    "category_colors = [\"#bebebe\", \"#8eb3d1\", \"#da9696\"]\n",
    "# 获取标签、数值\n",
    "labels = list(results.keys())\n",
    "data = np.array(list(results.values()))\n",
    "data_cum = data.cumsum(axis=1) # 逐项加和\n",
    "\n",
    "fig, ax = plt.subplots(figsize=(5, 5))\n",
    "\n",
    "for i, (colname, color) in enumerate(zip(category_names, category_colors)):\n",
    "    heights = data[:, i]\n",
    "    starts = data_cum[:, i] - heights\n",
    "\n",
    "    ax.bar(labels, heights, bottom=starts, width=0.5,\n",
    "            label=colname, color=color)\n",
    "    \n",
    "    xcenters = starts + heights / 2\n",
    "    text_color = '#000000'\n",
    "    for y, (x, c) in enumerate(zip(xcenters, heights)):\n",
    "        ax.text(y, x, '{:.2%}'.format(c), ha='center', va='center',\n",
    "                color=text_color, fontsize=12)\n",
    "\n",
    "ax.tick_params(axis='x', labelsize=16)\n",
    "ax.set_xticklabels(labels=labels)\n",
    "ax.set_ylim(0, 1)\n",
    "ax.yaxis.set_visible(False)\n",
    "handles, labels = ax.get_legend_handles_labels()\n",
    "ax.legend(handles[::-1], labels[::-1], fontsize='x-large', loc=0, frameon=True, bbox_to_anchor=(1, 1))\n",
    "\n",
    "plt.savefig('plot/patient_sex.svg', bbox_inches='tight')\n",
    "\n",
    "plt.show()\n"
   ]
  }
 ],
 "metadata": {
  "kernelspec": {
   "display_name": "base",
   "language": "python",
   "name": "python3"
  },
  "language_info": {
   "codemirror_mode": {
    "name": "ipython",
    "version": 3
   },
   "file_extension": ".py",
   "mimetype": "text/x-python",
   "name": "python",
   "nbconvert_exporter": "python",
   "pygments_lexer": "ipython3",
   "version": "3.9.12 (main, Jun  1 2022, 11:38:51) \n[GCC 7.5.0]"
  },
  "orig_nbformat": 4,
  "vscode": {
   "interpreter": {
    "hash": "bd5a5980a31967086eaababc5338e6a92d5792ba40cc4c910227acd610a4f48f"
   }
  }
 },
 "nbformat": 4,
 "nbformat_minor": 2
}
