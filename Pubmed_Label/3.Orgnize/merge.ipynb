{
 "cells": [
  {
   "cell_type": "code",
   "execution_count": 2,
   "metadata": {},
   "outputs": [],
   "source": [
    "import os\n",
    "import pandas as pd\n",
    "import numpy as np\n",
    "import re\n",
    "import string\n",
    "import json\n",
    "# -*- coding:utf-8 -*-"
   ]
  },
  {
   "attachments": {},
   "cell_type": "markdown",
   "metadata": {},
   "source": [
    "# 合并不同物种"
   ]
  },
  {
   "cell_type": "code",
   "execution_count": 61,
   "metadata": {},
   "outputs": [],
   "source": [
    "doen = pd.read_excel(\"output/文献合并/human_label.xlsx\",index_col=0)"
   ]
  },
  {
   "cell_type": "code",
   "execution_count": 65,
   "metadata": {},
   "outputs": [
    {
     "name": "stdout",
     "output_type": "stream",
     "text": [
      "(176, 11) (176, 11)\n",
      "Curved_add.xls 21 168 4\n",
      "(549, 11) (549, 11)\n",
      "GramPr_add.xls 210 506 4\n",
      "(889, 11) (889, 11)\n",
      "GramN_add.xls 215 802 4\n",
      "(413, 11) (413, 11)\n",
      "Anaerobic_add.xls 56 384 4\n",
      "(296, 11) (296, 11)\n",
      "GramPc_add.xls 22 257 4\n",
      "(96, 11) (96, 11)\n",
      "Intracellular_add.xls 12 94 4\n"
     ]
    }
   ],
   "source": [
    "add_list = [i for i in os.listdir(\"output/文献标注-校对\") if \"_add\" in i] # add为校对好的文本\n",
    "doen = pd.read_excel(\"output/human_label_1.0.xlsx\",index_col=0)\n",
    "doen_y = doen.loc[doen[\"是否是致病菌\"]==\"yes\"]\n",
    "for i in add_list:\n",
    "\n",
    "    a =  pd.read_excel(\"output/文献标注-校对/%s\" % i)\n",
    "    print(a.shape, a.drop_duplicates().shape)\n",
    "    b = a.loc[a[\"是否是致病菌\"]==\"是\"]\n",
    "\n",
    "    print(i,doen_y.loc[doen_y[\"物种名称\"].isin(a[\"物种名称\"]),\"ID\"].shape[0],doen.loc[doen[\"物种名称\"].isin(a[\"物种名称\"]),\"ID\"].shape[0],4)\n"
   ]
  },
  {
   "cell_type": "code",
   "execution_count": 53,
   "metadata": {},
   "outputs": [
    {
     "name": "stdout",
     "output_type": "stream",
     "text": [
      "Curved_add.xls 12 67 4\n",
      "GramPr_add.xls 106 185 4\n",
      "GramN_add.xls 103 264 4\n",
      "Anaerobic_add.xls 34 154 4\n",
      "GramPc_add.xls 17 88 4\n",
      "Intracellular_add.xls 8 31 4\n"
     ]
    }
   ],
   "source": [
    "add_list = [i for i in os.listdir(\"output/文献标注-校对\") if \"_add\" in i] # add为校对好的文本\n",
    "doen = pd.read_excel(\"output/human_label_1.0.xlsx\",index_col=0)\n",
    "doen_y = doen.loc[doen[\"是否是致病菌\"]==\"yes\"]\n",
    "spec_l = []\n",
    "\n",
    "for i in add_list:\n",
    "\n",
    "    a =  pd.read_excel(\"output/文献标注-校对/%s\" % i)\n",
    "    b = a.loc[a[\"是否是致病菌\"]==\"是\"]\n",
    "    spec_l.extend(list(a[\"物种名称\"]))\n",
    "    print(i,len(set(doen_y.loc[doen_y[\"物种名称\"].isin(a[\"物种名称\"]),\"物种名称\"])),len(set(doen.loc[doen[\"物种名称\"].isin(a[\"物种名称\"]),\"物种名称\"])),4)\n",
    "    # print(set(a[\"物种名称\"]))\n",
    "\n"
   ]
  },
  {
   "cell_type": "code",
   "execution_count": 59,
   "metadata": {},
   "outputs": [],
   "source": [
    "c = [i for i in spec_l if i not in set(doen[\"物种名称\"])]"
   ]
  },
  {
   "cell_type": "code",
   "execution_count": 3,
   "metadata": {},
   "outputs": [],
   "source": [
    "add_list = [i for i in os.listdir(\"output/文献标注-校对\") if \"_add\" in i] # add为校对好的文本\n",
    "col_dic =  {\"样本量\":\"num\",\"患者性别\":\"gender\",\"年龄\":\"age\",\"免疫状态\":\"immu\",\"证据等级\":\"evi\"}\n",
    "\n",
    "for col_name, col_ab in col_dic.items():\n",
    "    \n",
    "    ori_l = [i for i in os.listdir(\"output/文献标注/\") if col_ab in i]\n",
    "    df_l = []\n",
    "    \n",
    "    for add in add_list:\n",
    "        \n",
    "        # 读取校对后的文档\n",
    "        sped = add.replace(\"_add.xls\",\"\")\n",
    "        df = pd.read_excel(\"output/文献标注-校对/%s\" % add, header=0, index_col=0)\n",
    "        df[\"ID\"] = df.index\n",
    "        # 读取含有支持证据的文档\n",
    "        file_names = [i for i in ori_l if sped in i]\n",
    "        dfs = pd.read_excel(\"output/文献标注/%s\" %file_names[0], header=0, index_col=0)\n",
    "        \n",
    "        # 将支持证据添加至校对后的文档\n",
    "        df[['%s文本' % col_name, 'old_start', 'old_end', '所在句子', 'new_start','new_end']] = dfs[['answer', 'old_start', 'old_end', 'sup_evi', 'new_start','new_end']]\n",
    "        \n",
    "        # 为添加原文\n",
    "        for idx in df.index:\n",
    "            with open(\"../2.Label_prepare/output/paper_ld/%s/%s.txt\" % (sped, idx), \"r\") as f:\n",
    "                txt = f.read()\n",
    "            df.loc[idx, \"Full\"] = txt \n",
    "        df_l.append(df)\n",
    "\n",
    "    dfm = pd.concat(df_l,axis=0)\n",
    "    dfm.index = [str(dfm.index[i]) + \":\" + dfm[\"物种名称\"].iloc[i] for i in range(dfm.shape[0])]\n",
    "    dfm.to_excel(\"output/文献合并/human_label_%s.xlsx\" % col_ab)"
   ]
  },
  {
   "attachments": {},
   "cell_type": "markdown",
   "metadata": {},
   "source": [
    "# 合并不同标注"
   ]
  },
  {
   "cell_type": "code",
   "execution_count": 13,
   "metadata": {},
   "outputs": [],
   "source": [
    "col_dic =  {\"样本量\":\"num\",\"患者性别\":\"gender\",\"年龄\":\"age\",\"免疫状态\":\"immu\",\"证据等级\":\"evi\"}\n",
    "dfs_l = []\n",
    "for col_name, col_ab in col_dic.items():\n",
    "    dfm = pd.read_excel(\"output/文献合并/human_label_%s.xlsx\" % col_ab, index_col=0)\n",
    "    if col_ab == \"evi\":\n",
    "        dfs_l.append(dfm[['%s文本' % col_name,\"检测方式文本\"]])\n",
    "    else:\n",
    "        dfm[[\"%s_start\"%col_ab, \"%s_end\"%col_ab]] = dfm[[\"old_start\", \"old_end\"]]\n",
    "        dfs_l.append(dfm[['%s文本' % col_name, \"%s_start\"%col_ab, \"%s_end\"%col_ab]])\n",
    "dfs = pd.concat(dfs_l,axis=1)\n",
    "\n",
    "dfh = dfm[['物种名称', '是否是致病菌', '样本量', '患者性别', '年龄', '免疫状态','预后', '证据等级','检测方式', 'id','ID', \"Full\"]]\n",
    "dfh = pd.concat([dfh,dfs],axis=1)\n",
    "dfh = dfh.fillna(\"none\")"
   ]
  },
  {
   "cell_type": "code",
   "execution_count": 14,
   "metadata": {},
   "outputs": [],
   "source": [
    "dfh = dfh.loc[~(dfh['是否是致病菌']== \"无法确定\"),:]\n",
    "\n",
    "dfh.loc[dfh['是否是致病菌']== \"是\", \"是否是致病菌\"] = \"yes\"\n",
    "dfh.loc[dfh['是否是致病菌'] != \"yes\", \"是否是致病菌\"] = \"no\"\n",
    "\n",
    "dfh = dfh.copy()\n",
    "dfh['本文中是肺部病原的概率'] = 0\n",
    "dfh.loc[dfh[\"是否是致病菌\"]==\"yes\",'本文中是肺部病原的概率'] = 1\n",
    "dfh['标注方式'] = '人工标注'\n",
    "dfh['原文链接'] = dfh['id']"
   ]
  },
  {
   "cell_type": "code",
   "execution_count": 15,
   "metadata": {},
   "outputs": [],
   "source": [
    "# 数据清洗\n",
    "dfh.loc[dfh[\"样本量\"]==1, \"样本量\"] =  \"1-9\"\n",
    "dfh.loc[dfh[\"样本量\"]==\"1-10\", \"样本量\"] =  \"1-9\"\n",
    "dfh.loc[dfh[\"样本量\"]==\"2-10\", \"样本量\"] =  \"1-9\"\n",
    "dfh.loc[dfh[\"样本量\"]==\"10-100\", \"样本量\"] =  \"10-99\"\n",
    "dfh.loc[dfh[\"样本量\"]==\"10-101\", \"样本量\"] =  \"10-99\"\n",
    "dfh.loc[dfh[\"样本量\"]==\"10-102\", \"样本量\"] =  \"10-99\"\n",
    "dfh.loc[dfh[\"样本量\"]==\"11-100\", \"样本量\"] =  \"10-99\"\n",
    "dfh.loc[dfh[\"样本量\"]==\"＞100\", \"样本量\"] =  \"100以上\"\n",
    "dfh.loc[dfh[\"样本量\"]==\">100\", \"样本量\"] =  \"100以上\"\n",
    "\n",
    "\n",
    "dfh.loc[dfh[\"年龄\"]==\"1-17\", \"年龄\"] =  \"1-17岁\"\n",
    "dfh.loc[dfh[\"年龄\"]==\"17-65\", \"年龄\"] =  \"18-65岁\"\n",
    "dfh.loc[dfh[\"年龄\"]==\"65以上\", \"年龄\"] =  \">65岁\"\n",
    "\n",
    "dfh.loc[dfh[\"患者性别\"]==\"群体\", \"患者性别\"] =  \"none\""
   ]
  },
  {
   "cell_type": "code",
   "execution_count": 16,
   "metadata": {},
   "outputs": [],
   "source": [
    "dfh.loc[dfh[\"免疫状态\"]==\"损伤\", \"免疫状态\"] =  \"抑制\"\n",
    "dfh.loc[dfh[\"免疫状态\"]==\"受损\", \"免疫状态\"] =  \"抑制\"\n",
    "dfh.loc[dfh[\"免疫状态\"]==\"正常\", \"免疫状态\"] =  \"none\"\n",
    "\n",
    "dfh[\"full\"] = [i.lower() for i in dfh[\"Full\"].tolist()]\n",
    "dfh.loc[(dfh[\"Full\"].str.contains(\"fibrosis\")) & (dfh[\"是否是致病菌\"]==\"yes\"),\"免疫状态\"] = \"抑制\""
   ]
  },
  {
   "cell_type": "code",
   "execution_count": 17,
   "metadata": {},
   "outputs": [],
   "source": [
    "dfh.loc[dfh[\"预后\"]==\"无法确定\", \"预后\"] = \"none\"\n",
    "dfh.loc[dfh[\"预后\"]==\"治愈\", \"预后\"] =  \"none\"\n",
    "\n",
    "dfh.loc[dfh[\"证据等级\"]==\"8：文献报道\", \"证据等级\"] =  \"none\"\n",
    "dfh.loc[dfh[\"证据等级\"]==\"7：免疫学证据\", \"证据等级\"] =  \"3：血及无菌体液（如脓胸液）\"\n",
    "dfh.loc[dfh[\"证据等级\"]==\"5-2：气管吸出物或痰的分子诊断（PCR、基因组测序等）病原\", \"证据等级\"] =  \"3：血及无菌体液（如脓胸液）\"\n",
    "dfh.loc[dfh[\"证据等级\"]==\"4：气管镜活检组织培养出病原体,或者支气管肺泡灌洗液（BALF）定量培养>10**4\", \"证据等级\"] =  \"4：气管镜活检组织培养出病原体，或者支气管肺泡灌洗液（BALF）定量培养>10**4\""
   ]
  },
  {
   "cell_type": "code",
   "execution_count": 18,
   "metadata": {},
   "outputs": [],
   "source": [
    "# 保存\n",
    "dfh[['物种名称', 'ID', '本文中是肺部病原的概率', '是否是致病菌', '样本量', '样本量文本','num_start','num_end','年龄', '年龄文本', 'age_start','age_end','患者性别', '患者性别文本', 'gender_start','gender_end','免疫状态', '预后','证据等级', '证据等级文本','检测方式', '检测方式文本', 'Full', '原文链接', '标注方式']].to_excel(\"output/文献合并/human_label_pat.xlsx\")"
   ]
  },
  {
   "attachments": {},
   "cell_type": "markdown",
   "metadata": {},
   "source": [
    "文献合并中的human_label未扩展的1869篇；\n",
    "用于Bert训练的为扩展后，修改了错误的物种名称后，去除重复后的合并2169篇"
   ]
  }
 ],
 "metadata": {
  "kernelspec": {
   "display_name": "base",
   "language": "python",
   "name": "python3"
  },
  "language_info": {
   "codemirror_mode": {
    "name": "ipython",
    "version": 3
   },
   "file_extension": ".py",
   "mimetype": "text/x-python",
   "name": "python",
   "nbconvert_exporter": "python",
   "pygments_lexer": "ipython3",
   "version": "3.9.12"
  },
  "orig_nbformat": 4,
  "vscode": {
   "interpreter": {
    "hash": "bd5a5980a31967086eaababc5338e6a92d5792ba40cc4c910227acd610a4f48f"
   }
  }
 },
 "nbformat": 4,
 "nbformat_minor": 2
}
