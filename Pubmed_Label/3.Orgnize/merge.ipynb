{
 "cells": [
  {
   "cell_type": "code",
   "execution_count": 34,
   "metadata": {},
   "outputs": [],
   "source": [
    "import os\n",
    "import pandas as pd\n",
    "import numpy as np\n",
    "import re\n",
    "import string\n",
    "import json\n",
    "# -*- coding:utf-8 -*-"
   ]
  },
  {
   "attachments": {},
   "cell_type": "markdown",
   "metadata": {},
   "source": [
    "# 合并不同物种"
   ]
  },
  {
   "cell_type": "code",
   "execution_count": null,
   "metadata": {},
   "outputs": [],
   "source": [
    "add_list = [i for i in os.listdir(\"output/文献标注-校对\") if \"_add\" in i] # add为校对好的文本\n",
    "col_dic =  {\"样本量\":\"num\",\"患者性别\":\"gender\",\"年龄\":\"age\",\"证据等级\":\"evi\"}\n",
    "\n",
    "for col_name, col_ab in col_dic.items():\n",
    "    \n",
    "    ori_l = [i for i in os.listdir(\"output/文献标注/\") if col_ab in i]\n",
    "    df_l = []\n",
    "    \n",
    "    for add in add_list:\n",
    "        \n",
    "        # 读取校对后的文档\n",
    "        sped = add.replace(\"_add.xls\",\"\")\n",
    "        df = pd.read_excel(\"output/文献标注-校对/%s\" % add, header=0, index_col=0)\n",
    "        df[\"ID\"] = df.index\n",
    "        # 读取含有支持证据的文档\n",
    "        file_names = [i for i in ori_l if sped in i]\n",
    "        dfs = pd.read_excel(\"output/文献标注/%s\" %file_names[0], header=0, index_col=0)\n",
    "        \n",
    "        # 将支持证据添加至校对后的文档\n",
    "        df[['%s文本' % col_name, 'old_start', 'old_end', '所在句子', 'new_start','new_end']] = dfs[['answer', 'old_start', 'old_end', 'sup_evi', 'new_start','new_end']]\n",
    "        \n",
    "        # 为添加原文\n",
    "        for idx in df.index:\n",
    "            with open(\"../2.Label_prepare/output/paper_ld/%s/%s.txt\" % (sped, idx), \"r\") as f:\n",
    "                txt = f.read()\n",
    "            df.loc[idx, \"Full\"] = txt \n",
    "        df_l.append(df)\n",
    "\n",
    "    dfm = pd.concat(df_l,axis=0)\n",
    "    dfm.index = [dfm[\"物种名称\"].iloc[i].replace(\" \", \"_\").lower() + \"_\" + str(dfm.index[i]) for i in range(dfm.shape[0])]\n",
    "    dfm.to_excel(\"output/文献合并/human_label_%s.xlsx\" % col_ab)"
   ]
  },
  {
   "attachments": {},
   "cell_type": "markdown",
   "metadata": {},
   "source": [
    "# 合并不同标注"
   ]
  },
  {
   "cell_type": "code",
   "execution_count": 56,
   "metadata": {},
   "outputs": [],
   "source": [
    "col_dic =  {\"样本量\":\"num\",\"患者性别\":\"gender\",\"年龄\":\"age\",\"证据等级\":\"evi\"}\n",
    "dfs_l = []\n",
    "for col_name, col_ab in col_dic.items():\n",
    "    dfm = pd.read_excel(\"output/文献合并/human_label_%s.xlsx\" % col_ab, index_col=0)\n",
    "    if col_ab == \"evi\":\n",
    "        dfs_l.append(dfm[['%s文本' % col_name,\"检测方式文本\"]])\n",
    "    else:\n",
    "        dfs_l.append(dfm[['%s文本' % col_name]])\n",
    "dfs = pd.concat(dfs_l,axis=1)\n",
    "\n",
    "dfh = dfm[['物种名称', '是否是致病菌', '样本量', '患者性别', '年龄', '免疫状态','预后', '证据等级','检测方式', 'id','ID', \"Full\"]]\n",
    "dfh = pd.concat([dfh,dfs],axis=1)\n",
    "dfh = dfh.fillna(\"none\")\n",
    "\n",
    "dfh.loc[dfh['是否是致病菌']== \"是\", \"是否是致病菌\"] = \"yes\"\n",
    "dfh.loc[dfh['是否是致病菌'] != \"yes\", \"是否是致病菌\"] = \"no\"\n",
    "\n",
    "dfh = dfh.copy()\n",
    "dfh['本文中是肺部病原的概率'] = 0\n",
    "dfh.loc[dfh[\"是否是致病菌\"]==\"yes\",'本文中是肺部病原的概率'] = 1\n",
    "dfh['标注方式'] = '人工标注'\n",
    "dfh['原文链接'] = dfh['id']"
   ]
  },
  {
   "cell_type": "code",
   "execution_count": 57,
   "metadata": {},
   "outputs": [],
   "source": [
    "# 数据清洗\n",
    "dfh.loc[dfh[\"样本量\"]==1, \"样本量\"] =  \"1\"\n",
    "dfh.loc[dfh[\"样本量\"]==\"1-10\", \"样本量\"] =  \"2-10\"\n",
    "dfh.loc[dfh[\"样本量\"]==\"10-100\", \"样本量\"] =  \"11-100\"\n",
    "dfh.loc[dfh[\"样本量\"]==\"10-101\", \"样本量\"] =  \"11-100\"\n",
    "dfh.loc[dfh[\"样本量\"]==\"10-102\", \"样本量\"] =  \"11-100\"\n",
    "dfh.loc[dfh[\"样本量\"]==\"＞100\", \"样本量\"] =  \">100\"\n",
    "\n",
    "dfh.loc[dfh[\"年龄\"]==\"1-17\", \"年龄\"] =  \"1-17岁\"\n",
    "dfh.loc[dfh[\"年龄\"]==\"17-65\", \"年龄\"] =  \"18-65岁\"\n",
    "dfh.loc[dfh[\"年龄\"]==\"65以上\", \"年龄\"] =  \">65岁\"\n",
    "\n",
    "dfh.loc[dfh[\"患者性别\"]==\"群体\", \"患者性别\"] =  \"none\"\n",
    "\n",
    "dfh.loc[dfh[\"免疫状态\"]==\"损伤\", \"免疫状态\"] =  \"抑制\"\n",
    "dfh.loc[dfh[\"免疫状态\"]==\"受损\", \"免疫状态\"] =  \"抑制\"\n",
    "dfh.loc[dfh[\"免疫状态\"]==\"正常\", \"免疫状态\"] =  \"none\"\n",
    "\n",
    "dfh.loc[dfh[\"预后\"]==\"无法确定\", \"预后\"] = \"none\"\n",
    "dfh.loc[dfh[\"预后\"]==\"治愈\", \"预后\"] =  \"none\"\n",
    "\n",
    "dfh.loc[dfh[\"证据等级\"]==\"8：文献报道\", \"证据等级\"] =  \"none\"\n",
    "dfh.loc[dfh[\"证据等级\"]==\"7：免疫学证据\", \"证据等级\"] =  \"3：血及无菌体液（如脓胸液）\"\n",
    "dfh.loc[dfh[\"证据等级\"]==\"5-2：气管吸出物或痰的分子诊断（PCR、基因组测序等）病原\", \"证据等级\"] =  \"3：血及无菌体液（如脓胸液）\"\n",
    "dfh.loc[dfh[\"证据等级\"]==\"4：气管镜活检组织培养出病原体,或者支气管肺泡灌洗液（BALF）定量培养>10**4\", \"证据等级\"] =  \"4：气管镜活检组织培养出病原体，或者支气管肺泡灌洗液（BALF）定量培养>10**4\""
   ]
  },
  {
   "cell_type": "code",
   "execution_count": 58,
   "metadata": {},
   "outputs": [],
   "source": [
    "# 保存\n",
    "dfh[['物种名称', 'ID', '本文中是肺部病原的概率', '是否是致病菌', '样本量', '样本量文本','年龄', '年龄文本', '患者性别', '患者性别文本', '免疫状态', '预后','证据等级', '证据等级文本','检测方式', '检测方式文本', 'Full', '原文链接', '标注方式']].to_csv(\"output/文献合并/human_label.csv\")"
   ]
  }
 ],
 "metadata": {
  "kernelspec": {
   "display_name": "base",
   "language": "python",
   "name": "python3"
  },
  "language_info": {
   "codemirror_mode": {
    "name": "ipython",
    "version": 3
   },
   "file_extension": ".py",
   "mimetype": "text/x-python",
   "name": "python",
   "nbconvert_exporter": "python",
   "pygments_lexer": "ipython3",
   "version": "3.9.12"
  },
  "orig_nbformat": 4,
  "vscode": {
   "interpreter": {
    "hash": "bd5a5980a31967086eaababc5338e6a92d5792ba40cc4c910227acd610a4f48f"
   }
  }
 },
 "nbformat": 4,
 "nbformat_minor": 2
}
