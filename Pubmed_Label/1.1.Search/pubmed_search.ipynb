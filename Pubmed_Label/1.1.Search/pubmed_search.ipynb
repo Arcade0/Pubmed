{
 "cells": [
  {
   "cell_type": "code",
   "execution_count": 1,
   "metadata": {},
   "outputs": [],
   "source": [
    "import numpy as np\n",
    "import pandas as pd\n",
    "import json\n",
    "import importlib\n",
    "import pubmed_search\n"
   ]
  },
  {
   "cell_type": "code",
   "execution_count": 2,
   "metadata": {
    "Collapsed": "false",
    "collapsed": true,
    "jupyter": {
     "outputs_hidden": true
    },
    "tags": []
   },
   "outputs": [
    {
     "name": "stdout",
     "output_type": "stream",
     "text": [
      "Bactology.txt\n",
      "\"Streptococcus sanguis\" AND pneumonia Total:  16\n",
      "16\n",
      "\"Streptococcus sanguis\" Total:  2530\n",
      "100\n"
     ]
    }
   ],
   "source": [
    "importlib.reload(pubmed_search)\n",
    "\n",
    "keyword = json.load(open(\"keyword.json\", \"r\"))\n",
    "\n",
    "pubmed_search.query(input_path=\"input/Bactology\",\n",
    "                    output_path=\"output/Bactology/\",\n",
    "                    keyword=keyword[\"Mesh\"],\n",
    "                    ret_max=100,\n",
    "                    step=100,\n",
    "                    date=\"(1900/01/01[Date - Publication] : 2021/12/31[Date - Publication])\",\n",
    "                    fur_query=False)\n"
   ]
  },
  {
   "cell_type": "code",
   "execution_count": null,
   "metadata": {},
   "outputs": [],
   "source": []
  }
 ],
 "metadata": {
  "kernelspec": {
   "display_name": "Python 3",
   "language": "python",
   "name": "python3"
  },
  "language_info": {
   "codemirror_mode": {
    "name": "ipython",
    "version": 3
   },
   "file_extension": ".py",
   "mimetype": "text/x-python",
   "name": "python",
   "nbconvert_exporter": "python",
   "pygments_lexer": "ipython3",
   "version": "3.8.8"
  }
 },
 "nbformat": 4,
 "nbformat_minor": 4
}
