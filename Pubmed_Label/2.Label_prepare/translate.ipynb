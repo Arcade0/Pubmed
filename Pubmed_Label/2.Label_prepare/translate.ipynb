{
 "cells": [
  {
   "cell_type": "code",
   "execution_count": null,
   "metadata": {},
   "outputs": [],
   "source": [
    "import os\n",
    "import numpy as np\n",
    "import pandas as pd\n",
    "import json\n",
    "from copy import deepcopy\n",
    "import re\n",
    "import youdao"
   ]
  },
  {
   "cell_type": "code",
   "execution_count": null,
   "metadata": {},
   "outputs": [],
   "source": [
    "input_path = \"XY\"\n",
    "sped_l = os.listdir(input_path)\n",
    "keyword = json.load(open(\"../3.KeyWord/keyword.json\", \"r\"))\n",
    "\n",
    "for sped in sped_l:\n",
    "\n",
    "    youdao.mk_dir(\"paper_ld/%s/input\" % sped)\n",
    "\n",
    "    paper_l = os.listdir(\"%s/%s/outputs\" % (input_path, sped))\n",
    "    paper_l = [ele for ele in paper_l if \"ipynb\" not in ele]\n",
    "\n",
    "    for paper in paper_l:\n",
    "\n",
    "        # 添加翻译\n",
    "        folder = os.path.exists(\"paper_ldcn/%s/%s\" % (sped, paper))\n",
    "\n",
    "        if not folder:\n",
    "            \n",
    "            youdao.trans(paper, \"%s/%s\" % (input_path, sped), \"paper_ldcn/%s\" % (sped))\n",
    "\n",
    "        with open(\n",
    "                \"%s/%s/%s_pubtator.json\" %\n",
    "            (input_path, sped, paper.replace(\".json\", \"\")), \"r\") as f:\n",
    "            pubtator_d = json.load(f)\n",
    "            dis_l = pubtator_d[\"dis\"]\n",
    "            rm_l = [\n",
    "                \"infection\", \"infections\", \"infect\", \"Infection\", \"Infections\",\n",
    "                \"Infect\"\n",
    "            ]\n",
    "            dis_l = [ele for ele in dis_l if ele not in rm_l]\n",
    "            sp_l = pubtator_d[\"spec\"]\n",
    "            f.close()\n",
    "        keyword[\"DISEASE\"] = np.unique(dis_l)\n",
    "        keyword[\"SPECIES\"] = np.unique(sp_l)\n",
    "        with open(\"%s/%s/outputs/%s\" % (input_path, sped, paper), \"r\") as f:\n",
    "            txt = json.load(f)\n",
    "            full = txt['content']\n",
    "            f.close()\n",
    "\n",
    "        anot = {\n",
    "            'type': 'T',\n",
    "            'name': '',\n",
    "            'value': '',\n",
    "            'start': 0,\n",
    "            'end': 0,\n",
    "            'attributes': [],\n",
    "            'id': 1\n",
    "        }\n",
    "        anoa = {'annotation': {'T': [''], 'E': [''], 'R': [''], 'A': ['']}}\n",
    "\n",
    "        for pre_type in keyword.keys():\n",
    "            anot[\"name\"] = pre_type\n",
    "            for word in keyword[pre_type]:\n",
    "                if word in full:\n",
    "                    anot[\"value\"] = word\n",
    "                    for m in re.finditer(\n",
    "                            word.replace(\")\", \" \").replace(\"(\", \" \"),\n",
    "                            full.replace(\"\\n\", \"\").replace(\")\", \" \").replace(\"(\", \" \")):\n",
    "                        anot[\"start\"] = m.start()\n",
    "                        anot[\"end\"] = m.end()\n",
    "                        anot[\"id\"] = len(anoa[\"annotation\"][\"T\"])\n",
    "                        guodu = deepcopy(anot)\n",
    "                        anoa[\"annotation\"][\"T\"].append(guodu)\n",
    "        txt[\"outputs\"] = anoa\n",
    "        txt[\"labeled\"] = \"true\"\n",
    "\n",
    "#         with open(\"%s/%s/input/%s\" % (input_path, sped, paper), \"w\") as f:\n",
    "#             b = json.dumps(txt)\n",
    "#             f.write(b)"
   ]
  }
 ],
 "metadata": {
  "kernelspec": {
   "display_name": "base",
   "language": "python",
   "name": "python3"
  },
  "language_info": {
   "name": "python",
   "version": "3.9.12 (main, Jun  1 2022, 11:38:51) \n[GCC 7.5.0]"
  },
  "orig_nbformat": 4,
  "vscode": {
   "interpreter": {
    "hash": "bd5a5980a31967086eaababc5338e6a92d5792ba40cc4c910227acd610a4f48f"
   }
  }
 },
 "nbformat": 4,
 "nbformat_minor": 2
}
