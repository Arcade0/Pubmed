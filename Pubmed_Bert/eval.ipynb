{
 "cells": [
  {
   "cell_type": "markdown",
   "metadata": {},
   "source": [
    "# 函数准备"
   ]
  },
  {
   "cell_type": "code",
   "execution_count": 1,
   "metadata": {},
   "outputs": [],
   "source": [
    "import os\n",
    "import numpy as np\n",
    "import pandas as pd\n",
    "import json\n",
    "from copy import deepcopy\n",
    "import re\n",
    "import random\n",
    "from random import choice\n",
    "random.seed(10)\n",
    "# -*- coding:utf-8 -*\n",
    "import eval\n",
    "from mkdir import mk_dir"
   ]
  },
  {
   "cell_type": "markdown",
   "metadata": {},
   "source": [
    "# 训练集准备"
   ]
  },
  {
   "cell_type": "code",
   "execution_count": 1,
   "metadata": {},
   "outputs": [],
   "source": [
    "from sklearn.model_selection import KFold\n",
    "kf = KFold(n_splits = 10)"
   ]
  },
  {
   "cell_type": "code",
   "execution_count": 8,
   "metadata": {},
   "outputs": [],
   "source": [
    "# for col_ab in [\"age\", \"gender\",\"num\",\"evi\",\"immu\"]:\n",
    "for col_ab in ['pat']:\n",
    "\n",
    "    mk_dir(\"eval/evl_%s\" % (col_ab))\n",
    "\n",
    "    train_set = json.load(open(\"input/input_%s/train_set.json\" \\\n",
    "        %(col_ab), \"r\"))\n",
    "    train_qa = train_set['data'][0][\"paragraphs\"]\n",
    "\n",
    "    re = 0\n",
    "    for ttrain_qa,eval_qa in kf.split(train_qa):\n",
    "\n",
    "        re = re + 1\n",
    "\n",
    "        ttrain_set = {\n",
    "            \"data\": [{\n",
    "                'paragraphs': [train_qa[i] for i in ttrain_qa],\n",
    "                'title': \"LungB\"\n",
    "            }],\n",
    "            \"version\": \"LungB\"\n",
    "        }\n",
    "\n",
    "        mk_dir(\"eval/evl_%s/input_%s\" % (col_ab, re))\n",
    "        mk_dir(\"eval/evl_%s/output_%s\" % (col_ab, re))\n",
    "\n",
    "        json.dump(ttrain_set, open(\"eval/evl_%s/input_%s/train_set.json\" \n",
    "        % (col_ab, re), \"w\"))\n",
    "\n",
    "        eval_q=[]\n",
    "        eval_a={}\n",
    "        for i in eval_qa:\n",
    "            qq={\n",
    "                'qas': [{\n",
    "                    'id': train_qa[i]['qas'][0]['id'],\n",
    "                    'question': train_qa[i]['qas'][0]['question'],\n",
    "                    'answers':[]\n",
    "                }],\n",
    "                'context': train_qa[i]['context']\n",
    "            }\n",
    "            eval_q.append(qq)\n",
    "            eval_a[train_qa[i]['qas'][0]['id']] = train_qa[i]['qas'][0]['answers']\n",
    "\n",
    "        eval_qset = {\n",
    "            \"data\": [{\n",
    "                'paragraphs': eval_q,\n",
    "                'title': \"LungB\"\n",
    "            }],\n",
    "            \"version\": \"LungB\"\n",
    "        }\n",
    "\n",
    "        json.dump(eval_qset, open(\"eval/evl_%s/input_%s/test_set.json\" \n",
    "        % (col_ab, re), \"w\"))\n",
    "        json.dump(eval_a, open(\"eval/evl_%s/input_%s/eval_set.json\" \n",
    "        % (col_ab, re), \"w\"))"
   ]
  },
  {
   "cell_type": "code",
   "execution_count": null,
   "metadata": {
    "tags": []
   },
   "outputs": [],
   "source": [
    "col_ab =  \"pat\"\n",
    "standard_0 = pd.DataFrame(np.zeros((0,1)), columns = [\"golden\"])\n",
    "prediction_0 = pd.DataFrame(np.zeros((0,3)), columns = [\"prediction\",\"rate\",\"cut\"])\n",
    "for re in range(1,11):\n",
    "    eval_a = json.load(open(\"eval/evl_%s/input_%s/eval_set.json\" % (col_ab, re), \"r\"))\n",
    "    standard = pd.DataFrame(eval_a, index=[\"golden\"]).T\n",
    "    standard_0 = pd.concat((standard_0, standard), 0)\n",
    "    prediction = json.load(open(\"eval/evl_%s/output_%s/predictions_.json\" % (col_ab, re),'r'))\n",
    "    prediction = pd.DataFrame(prediction, index=[\"prediction\", \"rate\"]).T\n",
    "    prediction[\"cut\"] = 1\n",
    "    for idx in prediction.index:\n",
    "        prediction.loc[idx, \"rate\"] = prediction.loc[idx, \"rate\"][0]\n",
    "        prediction.loc[idx, \"cut\"] = 1 - prediction.loc[idx, \"rate\"]\n",
    "        if prediction.loc[idx, \"rate\"] < 0.85:\n",
    "            prediction.loc[idx, \"prediction\"] = \"no\"\n",
    "    prediction_0 = pd.concat((prediction_0, prediction),0)\n",
    "\n",
    "fig_path = (\"eval/evl_%s/output_%s\" % (col_ab, re))\n",
    "eval.evaluate(standard_0, prediction_0, fig_path)"
   ]
  }
 ],
 "metadata": {
  "kernelspec": {
   "display_name": "Python 3.9.12 ('base': conda)",
   "language": "python",
   "name": "python3"
  },
  "language_info": {
   "codemirror_mode": {
    "name": "ipython",
    "version": 3
   },
   "file_extension": ".py",
   "mimetype": "text/x-python",
   "name": "python",
   "nbconvert_exporter": "python",
   "pygments_lexer": "ipython3",
   "version": "3.9.12 (main, Jun  1 2022, 11:38:51) \n[GCC 7.5.0]"
  },
  "vscode": {
   "interpreter": {
    "hash": "bd5a5980a31967086eaababc5338e6a92d5792ba40cc4c910227acd610a4f48f"
   }
  }
 },
 "nbformat": 4,
 "nbformat_minor": 4
}
