{
 "cells": [
  {
   "cell_type": "markdown",
   "metadata": {},
   "source": [
    "# 函数准备"
   ]
  },
  {
   "cell_type": "code",
   "execution_count": 1,
   "metadata": {},
   "outputs": [],
   "source": [
    "import os\n",
    "import numpy as np\n",
    "import pandas as pd\n",
    "import json\n",
    "from copy import deepcopy\n",
    "import re\n",
    "import random\n",
    "from random import choice\n",
    "random.seed(10)\n",
    "import shutil\n",
    "# -*- coding:utf-8 -*\n",
    "import eval\n",
    "from mkdir import mk_dir\n",
    "from bert_format import bset,test_qa"
   ]
  },
  {
   "cell_type": "markdown",
   "metadata": {},
   "source": [
    "# 是否致病"
   ]
  },
  {
   "cell_type": "markdown",
   "metadata": {},
   "source": [
    "## Bert 预测"
   ]
  },
  {
   "cell_type": "code",
   "execution_count": 39,
   "metadata": {},
   "outputs": [
    {
     "name": "stdout",
     "output_type": "stream",
     "text": [
      "结果: 0.8784153005464481 0.7283333333333334 0.8077634011090573 0.7659947414548642\n"
     ]
    },
    {
     "data": {
      "text/plain": [
       "(0.8784153005464481,\n",
       " 0.7283333333333334,\n",
       " 0.8077634011090573,\n",
       " 0.7659947414548642)"
      ]
     },
     "execution_count": 39,
     "metadata": {},
     "output_type": "execute_result"
    }
   ],
   "source": [
    "col_ab =  \"pat\"\n",
    "standard_0 = pd.DataFrame(np.zeros((0,1)), columns = [\"golden\"])\n",
    "prediction_0 = pd.DataFrame(np.zeros((0,3)), columns = [\"prediction\",\"rate\",\"cut\"])\n",
    "for re in range(1,11):\n",
    "    eval_a = json.load(open(\"eval/evl_%s/input_%s/eval_set.json\" % (col_ab, re), \"r\"))\n",
    "    standard = pd.DataFrame(eval_a, index=[\"golden\"]).T\n",
    "    standard_0 = pd.concat((standard_0, standard), axis=0)\n",
    "    prediction = json.load(open(\"eval/evl_%s/output_%s/predictions_.json\" % (col_ab, re),'r'))\n",
    "    prediction = pd.DataFrame(prediction, index=[\"prediction\", \"rate\"]).T\n",
    "    prediction[\"cut\"] = 1\n",
    "    for idx in prediction.index:\n",
    "        prediction.loc[idx, \"rate\"] = prediction.loc[idx, \"rate\"][0]\n",
    "        prediction.loc[idx, \"cut\"] = 1 - prediction.loc[idx, \"rate\"]\n",
    "        if prediction.loc[idx, \"rate\"] < 0.85:\n",
    "            prediction.loc[idx, \"prediction\"] = \"no\"\n",
    "    prediction_0 = pd.concat((prediction_0, prediction), axis=0)\n",
    "\n",
    "fig_path = (\"eval/evl_%s/output_%s\" % (col_ab, re))\n",
    "eval.evaluate(standard_0, prediction_0)"
   ]
  },
  {
   "cell_type": "markdown",
   "metadata": {},
   "source": [
    "## 关键词"
   ]
  },
  {
   "cell_type": "code",
   "execution_count": 18,
   "metadata": {},
   "outputs": [],
   "source": [
    "pneumonia = {\"bronchitis\",\"bronchopneumonia\",\"pneumonia\",\"pneumonitis\",\"pneumonic\",\"pleuropneumonia\",\"pleural\"}\n",
    "LungRelated = {\"bronchus\",\"bronchial\",\"tracheobronchial\",\"bronchiolar\",      \"bronchopulmonary\",\n",
    "               \"bronchoalveolar\",\"bronchoscopy\",\n",
    "               \"lung\",\"pulmonary\",\"pneumonic\",\"bronchopulmonary\",\"respiratory\",\"respiration\"}\n",
    "infection = {\"infection\",\"infections\",\"abscess\",\"pathology\",\"etiology\",  \"diseases\",\n",
    "             \"bacteremia\",\"sepsis\",\"septic\",\"pathogenicity\",\"legionellosis\",\"empyema\",\"necrosis\"}"
   ]
  },
  {
   "cell_type": "code",
   "execution_count": 21,
   "metadata": {},
   "outputs": [
    {
     "name": "stdout",
     "output_type": "stream",
     "text": [
      "结果: 0.5305100182149363 0.33774834437086093 0.9426987060998152 0.4973183812774256\n"
     ]
    },
    {
     "data": {
      "text/plain": [
       "(0.5305100182149363,\n",
       " 0.33774834437086093,\n",
       " 0.9426987060998152,\n",
       " 0.4973183812774256)"
      ]
     },
     "execution_count": 21,
     "metadata": {},
     "output_type": "execute_result"
    }
   ],
   "source": [
    "df = pd.read_excel(\"input/human_label.xlsx\")\n",
    "df['golden'] = 'no'\n",
    "df.loc[df[\"是否是致病菌\"]=='yes', \"golden\"] = 'yes'\n",
    "df[\"full\"] = df[\"Full\"].str.lower()\n",
    "df[\"prediction\"] = 'no'\n",
    "for aword in pneumonia:\n",
    "    df.loc[df[\"full\"].str.contains(aword), \"prediction\"] = 'yes'\n",
    "    # print(aword, df.loc[df[\"full\"].str.contains(aword), ['golden','prediction', 'Full','原文链接']])\n",
    "for aword in LungRelated:\n",
    "    for bword in infection:\n",
    "        df.loc[(df[\"full\"].str.contains(aword)) & (df[\"full\"].str.contains(bword)) , \"prediction\"] = 'yes'\n",
    "        # print(aword, df.loc[df[\"full\"].str.contains(aword), ['golden','prediction', 'Full','原文链接']])\n",
    "eval.evaluate(df[['golden']], df[['prediction']])"
   ]
  },
  {
   "cell_type": "markdown",
   "metadata": {},
   "source": [
    "# 免疫状态"
   ]
  },
  {
   "cell_type": "markdown",
   "metadata": {},
   "source": [
    "## 关键词"
   ]
  },
  {
   "cell_type": "code",
   "execution_count": 22,
   "metadata": {},
   "outputs": [],
   "source": [
    "df = pd.read_excel(\"input/human_label.xlsx\")\n",
    "df = df.loc[df[\"是否是致病菌\"]=='yes', :]\n",
    "df['golden'] = 'no'\n",
    "df.loc[df[\"免疫状态\"]=='抑制', \"golden\"] = 'yes'\n",
    "df[\"full\"] = df[\"Full\"].str.lower()\n",
    "df[\"prediction\"] = 'no'\n",
    "for aword in [\n",
    "    # \"immunodeficiency\", \n",
    "    \"immunocompromised\", \"immunosuppressive\",\"immunosuppression\", \n",
    "    # \"compromised\", \"suppressed\", \"supperssive\", \"suppression\",\n",
    "    \"hiv\",\"hiv-positive\",\"aids\",\n",
    "    \"transplantation\", \"transplanted\",\n",
    "    \"malignancy\", \"cancer\", \"carcinoma\", \n",
    "    \"leukemia\",\"leukaemia\", \"lymphoma\", \"melanoma\", \"myeloma\",\n",
    "    \"impair\", \"impaired immune\", \"fibrosis\"]:\n",
    "    df.loc[df[\"full\"].str.contains(aword), \"prediction\"] = 'yes'\n",
    "    # print(aword, df.loc[df[\"full\"].str.contains(aword), ['golden','prediction', 'Full','原文链接']])\n",
    "for aword in [\"immunocompetent\"]:\n",
    "    df.loc[df[\"full\"].str.contains(aword), \"prediction\"] = 'no'\n"
   ]
  },
  {
   "cell_type": "code",
   "execution_count": 23,
   "metadata": {
    "tags": []
   },
   "outputs": [
    {
     "name": "stdout",
     "output_type": "stream",
     "text": [
      "结果: 0.7966728280961183 0.6497175141242938 0.7055214723926381 0.6764705882352942\n"
     ]
    },
    {
     "data": {
      "text/plain": [
       "(0.7966728280961183,\n",
       " 0.6497175141242938,\n",
       " 0.7055214723926381,\n",
       " 0.6764705882352942)"
      ]
     },
     "execution_count": 23,
     "metadata": {},
     "output_type": "execute_result"
    }
   ],
   "source": [
    "eval.evaluate(df[['golden']], df[['prediction']])"
   ]
  },
  {
   "cell_type": "markdown",
   "metadata": {},
   "source": [
    "## Bert预测"
   ]
  },
  {
   "cell_type": "code",
   "execution_count": 33,
   "metadata": {},
   "outputs": [
    {
     "name": "stdout",
     "output_type": "stream",
     "text": [
      "结果: 0.744916820702403 0.5654450261780105 0.6625766871165644 0.6101694915254237\n"
     ]
    },
    {
     "data": {
      "text/plain": [
       "(0.744916820702403, 0.5654450261780105, 0.6625766871165644, 0.6101694915254237)"
      ]
     },
     "execution_count": 33,
     "metadata": {},
     "output_type": "execute_result"
    }
   ],
   "source": [
    "col_ab = \"immu\"\n",
    "standard_0 = pd.DataFrame(np.zeros((0,1)), columns = [\"golden\"])\n",
    "prediction_0 = pd.DataFrame(np.zeros((0,3)), columns = [\"prediction\",\"rate\",\"cut\"])\n",
    "for re in range(1,11):\n",
    "    eval_a = json.load(open(\"eval/evl_%s/input_%s/eval_set.json\" % (col_ab, re), \"r\"))\n",
    "    standard = pd.DataFrame(eval_a, index=[\"golden\"]).T\n",
    "    standard_0 = pd.concat((standard_0, standard), axis=0)\n",
    "    prediction = json.load(open(\"eval/evl_%s/output_%s/predictions_.json\" % (col_ab, re),'r'))\n",
    "    prediction = pd.DataFrame(prediction, index=[\"prediction\", \"rate\"]).T\n",
    "    prediction[\"cut\"] = 1\n",
    "    for idx in prediction.index:\n",
    "        prediction.loc[idx, \"rate\"] = prediction.loc[idx, \"rate\"][0]\n",
    "        prediction.loc[idx, \"cut\"] = 1 - prediction.loc[idx, \"rate\"]\n",
    "        if prediction.loc[idx, \"rate\"] < 0.5:\n",
    "            prediction.loc[idx, \"prediction\"] = \"no\"\n",
    "    prediction_0 = pd.concat((prediction_0, prediction), axis=0)\n",
    "\n",
    "fig_path = (\"eval/evl_%s/output_%s\" % (col_ab, re))\n",
    "eval.evaluate(standard_0, prediction_0)"
   ]
  },
  {
   "cell_type": "markdown",
   "metadata": {},
   "source": [
    "# 预后"
   ]
  },
  {
   "cell_type": "code",
   "execution_count": 25,
   "metadata": {},
   "outputs": [],
   "source": [
    "df = pd.read_excel(\"input/human_label.xlsx\")\n",
    "df = df.loc[df[\"是否是致病菌\"]=='yes', :]\n",
    "df['golden'] = 'no'\n",
    "df.loc[df[\"预后\"]=='死亡', \"golden\"] = 'yes'\n",
    "df[\"full\"] = df[\"Full\"].str.lower()\n",
    "df[\"prediction\"] = 'no'\n",
    "for aword in [\n",
    "    'death', 'dead']:\n",
    "    df.loc[df[\"full\"].str.contains(aword), \"prediction\"] = 'yes'\n",
    "    # print(aword, df.loc[df[\"full\"].str.contains(aword), ['golden','prediction', 'Full','原文链接']])"
   ]
  },
  {
   "cell_type": "code",
   "execution_count": 26,
   "metadata": {},
   "outputs": [
    {
     "name": "stdout",
     "output_type": "stream",
     "text": [
      "结果: 0.8983364140480592 0.5161290322580645 0.2857142857142857 0.367816091954023\n"
     ]
    },
    {
     "data": {
      "text/plain": [
       "(0.8983364140480592, 0.5161290322580645, 0.2857142857142857, 0.367816091954023)"
      ]
     },
     "execution_count": 26,
     "metadata": {},
     "output_type": "execute_result"
    }
   ],
   "source": [
    "eval.evaluate(df[['golden']], df[['prediction']])"
   ]
  }
 ],
 "metadata": {
  "kernelspec": {
   "display_name": "Python 3 (ipykernel)",
   "language": "python",
   "name": "python3"
  },
  "language_info": {
   "codemirror_mode": {
    "name": "ipython",
    "version": 3
   },
   "file_extension": ".py",
   "mimetype": "text/x-python",
   "name": "python",
   "nbconvert_exporter": "python",
   "pygments_lexer": "ipython3",
   "version": "3.8.10"
  },
  "vscode": {
   "interpreter": {
    "hash": "bd5a5980a31967086eaababc5338e6a92d5792ba40cc4c910227acd610a4f48f"
   }
  }
 },
 "nbformat": 4,
 "nbformat_minor": 4
}
