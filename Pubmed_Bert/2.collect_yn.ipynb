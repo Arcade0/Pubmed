{
 "cells": [
  {
   "cell_type": "code",
   "execution_count": 2,
   "id": "e71c7211-f579-4533-9ad9-3721a33b0383",
   "metadata": {},
   "outputs": [],
   "source": [
    "import numpy as np\n",
    "import pandas as pd\n",
    "import json\n",
    "import os"
   ]
  },
  {
   "cell_type": "markdown",
   "id": "a85fa7f6-0be4-41b8-a3ca-55faa564da17",
   "metadata": {},
   "source": [
    "# merge"
   ]
  },
  {
   "cell_type": "code",
   "execution_count": 5,
   "id": "ba0f1aa9-0657-4c2d-bd8a-80d2b5c60d45",
   "metadata": {
    "tags": []
   },
   "outputs": [],
   "source": [
    "file_list = [i for i in os.listdir(\"output/output_pat/test_set\") if \"test_set\" in i]\n",
    "prediction = {}\n",
    "for folder in file_list:\n",
    "    with open(\"output/output_pat/test_set/%s/predictions_.json\" % folder, \"r\") as f:\n",
    "        prediction.update(json.load(f))\n",
    "\n",
    "prediction_yes = {}\n",
    "for k,v in prediction.items():\n",
    "    if v[0] == \"yes\":\n",
    "        prediction_yes[k] = v\n",
    "\n",
    "with open(\"output/output_pat/total_predictions.json\", \"w\") as f:\n",
    "    json.dump(prediction_yes, f)"
   ]
  }
 ],
 "metadata": {
  "kernelspec": {
   "display_name": "Python 3.9.12 ('base': conda)",
   "language": "python",
   "name": "python3"
  },
  "language_info": {
   "codemirror_mode": {
    "name": "ipython",
    "version": 3
   },
   "file_extension": ".py",
   "mimetype": "text/x-python",
   "name": "python",
   "nbconvert_exporter": "python",
   "pygments_lexer": "ipython3",
   "version": "3.9.12"
  },
  "vscode": {
   "interpreter": {
    "hash": "bd5a5980a31967086eaababc5338e6a92d5792ba40cc4c910227acd610a4f48f"
   }
  }
 },
 "nbformat": 4,
 "nbformat_minor": 5
}
