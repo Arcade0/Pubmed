{
 "cells": [
  {
   "cell_type": "markdown",
   "metadata": {},
   "source": [
    "# 函数准备"
   ]
  },
  {
   "cell_type": "code",
   "execution_count": 13,
   "metadata": {},
   "outputs": [],
   "source": [
    "import os\n",
    "import numpy as np\n",
    "import pandas as pd\n",
    "import json\n",
    "from copy import deepcopy\n",
    "import re\n",
    "import shutil\n",
    "import random\n",
    "import string\n",
    "from random import choice\n",
    "random.seed(10\n",
    "# -*- coding:utf-8 -*\n",
    "import eval\n",
    "from mkdir import mk_dir\n",
    "from bert_format import bset,test_qa\n",
    "import transfer"
   ]
  },
  {
   "cell_type": "markdown",
   "metadata": {},
   "source": [
    "# 患者数量"
   ]
  },
  {
   "cell_type": "code",
   "execution_count": 14,
   "metadata": {
    "tags": []
   },
   "outputs": [
    {
     "name": "stdout",
     "output_type": "stream",
     "text": [
      "结果: 0.6155268022181146 0.7190127873792753 0.6155268022181146 0.5019995644252624\n"
     ]
    },
    {
     "data": {
      "text/plain": [
       "(0.6155268022181146,\n",
       " 0.7190127873792753,\n",
       " 0.6155268022181146,\n",
       " 0.5019995644252624)"
      ]
     },
     "execution_count": 14,
     "metadata": {},
     "output_type": "execute_result"
    }
   ],
   "source": [
    "df = pd.read_excel(\"input/human_label.xlsx\")\n",
    "df = df.loc[df[\"是否是致病菌\"]=='yes', :]\n",
    "df = df.fillna(\"none\")\n",
    "df['golden'] = df['样本量']\n",
    "df[\"prediction\"] = df[\"Full\"]\n",
    "\n",
    "df = transfer.trans_num(df, \"prediction\")\n",
    "    \n",
    "eval.multiclass_score(df[[\"golden\"]], df[[\"prediction\"]])"
   ]
  },
  {
   "cell_type": "code",
   "execution_count": 16,
   "metadata": {
    "tags": []
   },
   "outputs": [
    {
     "name": "stdout",
     "output_type": "stream",
     "text": [
      "结果: 0.7908309455587392 0.790455834823434 0.7908309455587392 0.7842508423165312\n"
     ]
    }
   ],
   "source": [
    "col_ab = \"num\"\n",
    "col_name = \"样本量\"\n",
    "\n",
    "standard_0 = pd.DataFrame(np.zeros((0,1)), columns = [\"golden\"])\n",
    "prediction_0 = pd.DataFrame(np.zeros((0,1)), columns = [\"prediction\"])\n",
    "for re in range(1,12):\n",
    "    eval_a = json.load(open(\"eval/evl_%s/input_%s/eval_set.json\" % (col_ab, re), \"r\"))\n",
    "    standard = pd.DataFrame(eval_a, index=[\"golden\"]).T\n",
    "    standard_0 = pd.concat((standard_0, standard), axis=0)\n",
    "    prediction = json.load(open(\"eval/evl_%s/output_%s/predictions_.json\" % (col_ab, re),'r'))\n",
    "    prediction = pd.DataFrame(prediction, index=[\"prediction\"]).T\n",
    "    prediction_0 = pd.concat((prediction_0, prediction),axis=0)\n",
    "    \n",
    "df = pd.read_excel(\"input/human_label.xlsx\", index_col=0)\n",
    "for i in standard_0.index:\n",
    "    standard_0.loc[i, \"golden\"] = df.loc[i,col_name]\n",
    "    \n",
    "prediction_0 = transfer.trans_num(prediction_0, \"prediction\")\n",
    "\n",
    "    \n",
    "eval.multiclass_score(standard_0[[\"golden\"]], prediction_0[[\"prediction\"]])\n",
    "pd.concat([standard_0, prediction_0], axis=1).to_csv(\"eval/evl_%s/eval.csv\" % col_ab)"
   ]
  },
  {
   "cell_type": "markdown",
   "metadata": {
    "tags": []
   },
   "source": [
    "# 患者年龄"
   ]
  },
  {
   "cell_type": "code",
   "execution_count": 21,
   "metadata": {
    "tags": []
   },
   "outputs": [],
   "source": [
    "df = pd.read_excel(\"input/human_label.xlsx\")\n",
    "df = df.loc[df[\"是否是致病菌\"]=='yes', :]\n",
    "df = df.fillna(\"none\")\n",
    "df['golden'] = df['年龄']\n",
    "df[\"prediction\"] = 'none'\n",
    "\n",
    "df = transfer.transer_age(df, \"prediction\")\n",
    "eval.multiclass_score(df[[\"golden\"]], df[[\"prediction\"]])"
   ]
  },
  {
   "cell_type": "code",
   "execution_count": 24,
   "metadata": {
    "tags": []
   },
   "outputs": [
    {
     "name": "stdout",
     "output_type": "stream",
     "text": [
      "结果: 0.7657657657657657 0.8194397168620116 0.7657657657657657 0.777637246299699\n"
     ]
    }
   ],
   "source": [
    "col_ab =  \"age\"\n",
    "col_name = \"年龄\"\n",
    "\n",
    "standard_0 = pd.DataFrame(np.zeros((0,1)), columns = [\"golden\"])\n",
    "prediction_0 = pd.DataFrame(np.zeros((0,1)), columns = [\"prediction\"])\n",
    "for re in range(1,12):\n",
    "    eval_a = json.load(open(\"eval/evl_%s/input_%s/eval_set.json\" % (col_ab, re), \"r\"))\n",
    "    standard = pd.DataFrame(eval_a, index=[\"golden\"]).T\n",
    "    standard_0 = pd.concat((standard_0, standard), axis=0)\n",
    "    prediction = json.load(open(\"eval/evl_%s/output_%s/predictions_.json\" % (col_ab, re),'r'))\n",
    "    prediction = pd.DataFrame(prediction, index=[\"prediction\"]).T\n",
    "    prediction_0 = pd.concat((prediction_0, prediction),axis=0)\n",
    "    \n",
    "df = pd.read_excel(\"input/human_label.xlsx\", index_col=0)\n",
    "\n",
    "for i in standard_0.index:\n",
    "    standard_0.loc[i, \"golden\"] = df.loc[i,col_name]\n",
    "    \n",
    "prediction_0 = transfer.transer_age(prediction_0, \"prediction\")\n",
    "    \n",
    "eval.multiclass_score(standard_0[[\"golden\"]], prediction_0[[\"prediction\"]])\n",
    "pd.concat([standard_0, prediction_0], axis=1).to_csv(\"eval/evl_%s/eval.csv\" % col_ab)"
   ]
  },
  {
   "cell_type": "markdown",
   "metadata": {},
   "source": [
    "# 患者性别"
   ]
  },
  {
   "cell_type": "code",
   "execution_count": 62,
   "metadata": {
    "collapsed": true,
    "jupyter": {
     "outputs_hidden": true
    },
    "tags": []
   },
   "outputs": [
    {
     "name": "stdout",
     "output_type": "stream",
     "text": [
      "结果: 0.5397412199630314 0.29132058452718146 0.5397412199630314 0.37840200775319366\n"
     ]
    },
    {
     "name": "stderr",
     "output_type": "stream",
     "text": [
      "/root/miniconda3/lib/python3.8/site-packages/sklearn/metrics/_classification.py:1334: UndefinedMetricWarning: Precision is ill-defined and being set to 0.0 in labels with no predicted samples. Use `zero_division` parameter to control this behavior.\n",
      "  _warn_prf(average, modifier, msg_start, len(result))\n"
     ]
    },
    {
     "data": {
      "text/plain": [
       "(0.5397412199630314,\n",
       " 0.29132058452718146,\n",
       " 0.5397412199630314,\n",
       " 0.37840200775319366)"
      ]
     },
     "execution_count": 62,
     "metadata": {},
     "output_type": "execute_result"
    }
   ],
   "source": [
    "df = pd.read_excel(\"input/human_label.xlsx\")\n",
    "df = df.loc[df[\"是否是致病菌\"]=='yes', :]\n",
    "df = df.fillna(\"none\")\n",
    "df['golden'] = df['患者性别']\n",
    "df[\"prediction\"] = 'none'\n",
    "\n",
    "for i in df.index:\n",
    "    \n",
    "    dig_list = df.loc[i, '患者性别文本'].lower().split(\" \")\n",
    "    for dig in dig_list:\n",
    "        if dig in [\"man\", \"men\", \"boy\", \"boys\",\"male\", \"males\", \n",
    "                    \"he\", \"gentleman\", \"gentlemen\", \"his\", \"him\"]:\n",
    "            clas = \"男\"\n",
    "            \n",
    "        if dig in [\"woman\", \"women\", \"girl\",\"girls\", \"female\", \n",
    "                    \"females\", \"fm\", \"she\", \"lady\", \"ladys\", \"her\"]:\n",
    "            clas = \"女\"\n",
    "            \n",
    "    else:\n",
    "        clas = \"none\"\n",
    "eval.multiclass_score(df[[\"golden\"]], df[[\"prediction\"]])"
   ]
  },
  {
   "cell_type": "code",
   "execution_count": 10,
   "metadata": {
    "tags": []
   },
   "outputs": [
    {
     "name": "stdout",
     "output_type": "stream",
     "text": [
      "结果: 0.8953488372093024 0.9016774087319621 0.8953488372093024 0.8970392649339614\n"
     ]
    }
   ],
   "source": [
    "col_ab =  \"gender\"\n",
    "col_name = \"患者性别\"\n",
    "\n",
    "standard_0 = pd.DataFrame(np.zeros((0,1)), columns = [\"golden\"])\n",
    "prediction_0 = pd.DataFrame(np.zeros((0,1)), columns = [\"prediction\"])\n",
    "for re in range(1,12):\n",
    "    eval_a = json.load(open(\"eval/evl_%s/input_%s/eval_set.json\" % (col_ab, re), \"r\"))\n",
    "    standard = pd.DataFrame(eval_a, index=[\"golden\"]).T\n",
    "    standard_0 = pd.concat((standard_0, standard), axis=0)\n",
    "    prediction = json.load(open(\"eval/evl_%s/output_%s/predictions_.json\" % (col_ab, re),'r'))\n",
    "    prediction = pd.DataFrame(prediction, index=[\"prediction\"]).T\n",
    "    prediction_0 = pd.concat((prediction_0, prediction),axis=0)\n",
    "    \n",
    "df = pd.read_excel(\"input/human_label.xlsx\", index_col=0)\n",
    "\n",
    "for i in standard_0.index:\n",
    "    \n",
    "    standard_0.loc[i, \"golden\"] = df.loc[i,col_name]    \n",
    "    dig_list = prediction_0.loc[i, 'prediction'].lower().split(\" \")\n",
    "    \n",
    "    for dig in dig_list:\n",
    "        if dig in [\"man\", \"men\", \"boy\", \"boys\",\"male\", \"males\", \n",
    "                    \"he\", \"gentleman\", \"gentlemen\", \"his\", \"him\"]:\n",
    "            clas = \"男\"\n",
    "            \n",
    "        elif dig in [\"woman\", \"women\", \"girl\",\"girls\", \"female\", \n",
    "                    \"females\", \"fm\", \"she\", \"lady\", \"ladys\", \"her\"]:\n",
    "            clas = \"女\"\n",
    "        else:\n",
    "            clas = \"none\"\n",
    "    \n",
    "    prediction_0.loc[i, \"prediction\"] = clas\n",
    "\n",
    "eval.multiclass_score(standard_0[[\"golden\"]], prediction_0[[\"prediction\"]])\n",
    "pd.concat([standard_0, prediction_0], axis=1).to_csv(\"eval/evl_%s/eval.csv\" % col_ab)"
   ]
  },
  {
   "cell_type": "markdown",
   "metadata": {},
   "source": [
    "# 证据等级"
   ]
  },
  {
   "cell_type": "code",
   "execution_count": 44,
   "metadata": {
    "collapsed": true,
    "jupyter": {
     "outputs_hidden": true
    },
    "tags": []
   },
   "outputs": [
    {
     "ename": "FileNotFoundError",
     "evalue": "[Errno 2] No such file or directory: '/home/data/t070224/Pubmed/Pubmed_Label/3.Orgnize/output/文献合并/human_label_pat.xlsx'",
     "output_type": "error",
     "traceback": [
      "\u001b[0;31m---------------------------------------------------------------------------\u001b[0m",
      "\u001b[0;31mFileNotFoundError\u001b[0m                         Traceback (most recent call last)",
      "Input \u001b[0;32mIn [44]\u001b[0m, in \u001b[0;36m<cell line: 1>\u001b[0;34m()\u001b[0m\n\u001b[0;32m----> 1\u001b[0m df \u001b[38;5;241m=\u001b[39m \u001b[43mpd\u001b[49m\u001b[38;5;241;43m.\u001b[39;49m\u001b[43mread_excel\u001b[49m\u001b[43m(\u001b[49m\u001b[38;5;124;43m\"\u001b[39;49m\u001b[38;5;124;43m/home/data/t070224/Pubmed/Pubmed_Label/3.Orgnize/output/文献合并/human_label_pat.xlsx\u001b[39;49m\u001b[38;5;124;43m\"\u001b[39;49m\u001b[43m)\u001b[49m\n\u001b[1;32m      2\u001b[0m df \u001b[38;5;241m=\u001b[39m df\u001b[38;5;241m.\u001b[39mloc[df[\u001b[38;5;124m\"\u001b[39m\u001b[38;5;124m是否是致病菌\u001b[39m\u001b[38;5;124m\"\u001b[39m]\u001b[38;5;241m==\u001b[39m\u001b[38;5;124m'\u001b[39m\u001b[38;5;124myes\u001b[39m\u001b[38;5;124m'\u001b[39m, :]\n\u001b[1;32m      3\u001b[0m df \u001b[38;5;241m=\u001b[39m df\u001b[38;5;241m.\u001b[39mfillna(\u001b[38;5;124m\"\u001b[39m\u001b[38;5;124mnone\u001b[39m\u001b[38;5;124m\"\u001b[39m)\n",
      "File \u001b[0;32m~/miniconda3/lib/python3.8/site-packages/pandas/util/_decorators.py:311\u001b[0m, in \u001b[0;36mdeprecate_nonkeyword_arguments.<locals>.decorate.<locals>.wrapper\u001b[0;34m(*args, **kwargs)\u001b[0m\n\u001b[1;32m    305\u001b[0m \u001b[38;5;28;01mif\u001b[39;00m \u001b[38;5;28mlen\u001b[39m(args) \u001b[38;5;241m>\u001b[39m num_allow_args:\n\u001b[1;32m    306\u001b[0m     warnings\u001b[38;5;241m.\u001b[39mwarn(\n\u001b[1;32m    307\u001b[0m         msg\u001b[38;5;241m.\u001b[39mformat(arguments\u001b[38;5;241m=\u001b[39marguments),\n\u001b[1;32m    308\u001b[0m         \u001b[38;5;167;01mFutureWarning\u001b[39;00m,\n\u001b[1;32m    309\u001b[0m         stacklevel\u001b[38;5;241m=\u001b[39mstacklevel,\n\u001b[1;32m    310\u001b[0m     )\n\u001b[0;32m--> 311\u001b[0m \u001b[38;5;28;01mreturn\u001b[39;00m \u001b[43mfunc\u001b[49m\u001b[43m(\u001b[49m\u001b[38;5;241;43m*\u001b[39;49m\u001b[43margs\u001b[49m\u001b[43m,\u001b[49m\u001b[43m \u001b[49m\u001b[38;5;241;43m*\u001b[39;49m\u001b[38;5;241;43m*\u001b[39;49m\u001b[43mkwargs\u001b[49m\u001b[43m)\u001b[49m\n",
      "File \u001b[0;32m~/miniconda3/lib/python3.8/site-packages/pandas/io/excel/_base.py:457\u001b[0m, in \u001b[0;36mread_excel\u001b[0;34m(io, sheet_name, header, names, index_col, usecols, squeeze, dtype, engine, converters, true_values, false_values, skiprows, nrows, na_values, keep_default_na, na_filter, verbose, parse_dates, date_parser, thousands, decimal, comment, skipfooter, convert_float, mangle_dupe_cols, storage_options)\u001b[0m\n\u001b[1;32m    455\u001b[0m \u001b[38;5;28;01mif\u001b[39;00m \u001b[38;5;129;01mnot\u001b[39;00m \u001b[38;5;28misinstance\u001b[39m(io, ExcelFile):\n\u001b[1;32m    456\u001b[0m     should_close \u001b[38;5;241m=\u001b[39m \u001b[38;5;28;01mTrue\u001b[39;00m\n\u001b[0;32m--> 457\u001b[0m     io \u001b[38;5;241m=\u001b[39m \u001b[43mExcelFile\u001b[49m\u001b[43m(\u001b[49m\u001b[43mio\u001b[49m\u001b[43m,\u001b[49m\u001b[43m \u001b[49m\u001b[43mstorage_options\u001b[49m\u001b[38;5;241;43m=\u001b[39;49m\u001b[43mstorage_options\u001b[49m\u001b[43m,\u001b[49m\u001b[43m \u001b[49m\u001b[43mengine\u001b[49m\u001b[38;5;241;43m=\u001b[39;49m\u001b[43mengine\u001b[49m\u001b[43m)\u001b[49m\n\u001b[1;32m    458\u001b[0m \u001b[38;5;28;01melif\u001b[39;00m engine \u001b[38;5;129;01mand\u001b[39;00m engine \u001b[38;5;241m!=\u001b[39m io\u001b[38;5;241m.\u001b[39mengine:\n\u001b[1;32m    459\u001b[0m     \u001b[38;5;28;01mraise\u001b[39;00m \u001b[38;5;167;01mValueError\u001b[39;00m(\n\u001b[1;32m    460\u001b[0m         \u001b[38;5;124m\"\u001b[39m\u001b[38;5;124mEngine should not be specified when passing \u001b[39m\u001b[38;5;124m\"\u001b[39m\n\u001b[1;32m    461\u001b[0m         \u001b[38;5;124m\"\u001b[39m\u001b[38;5;124man ExcelFile - ExcelFile already has the engine set\u001b[39m\u001b[38;5;124m\"\u001b[39m\n\u001b[1;32m    462\u001b[0m     )\n",
      "File \u001b[0;32m~/miniconda3/lib/python3.8/site-packages/pandas/io/excel/_base.py:1376\u001b[0m, in \u001b[0;36mExcelFile.__init__\u001b[0;34m(self, path_or_buffer, engine, storage_options)\u001b[0m\n\u001b[1;32m   1374\u001b[0m     ext \u001b[38;5;241m=\u001b[39m \u001b[38;5;124m\"\u001b[39m\u001b[38;5;124mxls\u001b[39m\u001b[38;5;124m\"\u001b[39m\n\u001b[1;32m   1375\u001b[0m \u001b[38;5;28;01melse\u001b[39;00m:\n\u001b[0;32m-> 1376\u001b[0m     ext \u001b[38;5;241m=\u001b[39m \u001b[43minspect_excel_format\u001b[49m\u001b[43m(\u001b[49m\n\u001b[1;32m   1377\u001b[0m \u001b[43m        \u001b[49m\u001b[43mcontent_or_path\u001b[49m\u001b[38;5;241;43m=\u001b[39;49m\u001b[43mpath_or_buffer\u001b[49m\u001b[43m,\u001b[49m\u001b[43m \u001b[49m\u001b[43mstorage_options\u001b[49m\u001b[38;5;241;43m=\u001b[39;49m\u001b[43mstorage_options\u001b[49m\n\u001b[1;32m   1378\u001b[0m \u001b[43m    \u001b[49m\u001b[43m)\u001b[49m\n\u001b[1;32m   1379\u001b[0m     \u001b[38;5;28;01mif\u001b[39;00m ext \u001b[38;5;129;01mis\u001b[39;00m \u001b[38;5;28;01mNone\u001b[39;00m:\n\u001b[1;32m   1380\u001b[0m         \u001b[38;5;28;01mraise\u001b[39;00m \u001b[38;5;167;01mValueError\u001b[39;00m(\n\u001b[1;32m   1381\u001b[0m             \u001b[38;5;124m\"\u001b[39m\u001b[38;5;124mExcel file format cannot be determined, you must specify \u001b[39m\u001b[38;5;124m\"\u001b[39m\n\u001b[1;32m   1382\u001b[0m             \u001b[38;5;124m\"\u001b[39m\u001b[38;5;124man engine manually.\u001b[39m\u001b[38;5;124m\"\u001b[39m\n\u001b[1;32m   1383\u001b[0m         )\n",
      "File \u001b[0;32m~/miniconda3/lib/python3.8/site-packages/pandas/io/excel/_base.py:1250\u001b[0m, in \u001b[0;36minspect_excel_format\u001b[0;34m(content_or_path, storage_options)\u001b[0m\n\u001b[1;32m   1247\u001b[0m \u001b[38;5;28;01mif\u001b[39;00m \u001b[38;5;28misinstance\u001b[39m(content_or_path, \u001b[38;5;28mbytes\u001b[39m):\n\u001b[1;32m   1248\u001b[0m     content_or_path \u001b[38;5;241m=\u001b[39m BytesIO(content_or_path)\n\u001b[0;32m-> 1250\u001b[0m \u001b[38;5;28;01mwith\u001b[39;00m \u001b[43mget_handle\u001b[49m\u001b[43m(\u001b[49m\n\u001b[1;32m   1251\u001b[0m \u001b[43m    \u001b[49m\u001b[43mcontent_or_path\u001b[49m\u001b[43m,\u001b[49m\u001b[43m \u001b[49m\u001b[38;5;124;43m\"\u001b[39;49m\u001b[38;5;124;43mrb\u001b[39;49m\u001b[38;5;124;43m\"\u001b[39;49m\u001b[43m,\u001b[49m\u001b[43m \u001b[49m\u001b[43mstorage_options\u001b[49m\u001b[38;5;241;43m=\u001b[39;49m\u001b[43mstorage_options\u001b[49m\u001b[43m,\u001b[49m\u001b[43m \u001b[49m\u001b[43mis_text\u001b[49m\u001b[38;5;241;43m=\u001b[39;49m\u001b[38;5;28;43;01mFalse\u001b[39;49;00m\n\u001b[1;32m   1252\u001b[0m \u001b[43m\u001b[49m\u001b[43m)\u001b[49m \u001b[38;5;28;01mas\u001b[39;00m handle:\n\u001b[1;32m   1253\u001b[0m     stream \u001b[38;5;241m=\u001b[39m handle\u001b[38;5;241m.\u001b[39mhandle\n\u001b[1;32m   1254\u001b[0m     stream\u001b[38;5;241m.\u001b[39mseek(\u001b[38;5;241m0\u001b[39m)\n",
      "File \u001b[0;32m~/miniconda3/lib/python3.8/site-packages/pandas/io/common.py:795\u001b[0m, in \u001b[0;36mget_handle\u001b[0;34m(path_or_buf, mode, encoding, compression, memory_map, is_text, errors, storage_options)\u001b[0m\n\u001b[1;32m    786\u001b[0m         handle \u001b[38;5;241m=\u001b[39m \u001b[38;5;28mopen\u001b[39m(\n\u001b[1;32m    787\u001b[0m             handle,\n\u001b[1;32m    788\u001b[0m             ioargs\u001b[38;5;241m.\u001b[39mmode,\n\u001b[0;32m   (...)\u001b[0m\n\u001b[1;32m    791\u001b[0m             newline\u001b[38;5;241m=\u001b[39m\u001b[38;5;124m\"\u001b[39m\u001b[38;5;124m\"\u001b[39m,\n\u001b[1;32m    792\u001b[0m         )\n\u001b[1;32m    793\u001b[0m     \u001b[38;5;28;01melse\u001b[39;00m:\n\u001b[1;32m    794\u001b[0m         \u001b[38;5;66;03m# Binary mode\u001b[39;00m\n\u001b[0;32m--> 795\u001b[0m         handle \u001b[38;5;241m=\u001b[39m \u001b[38;5;28;43mopen\u001b[39;49m\u001b[43m(\u001b[49m\u001b[43mhandle\u001b[49m\u001b[43m,\u001b[49m\u001b[43m \u001b[49m\u001b[43mioargs\u001b[49m\u001b[38;5;241;43m.\u001b[39;49m\u001b[43mmode\u001b[49m\u001b[43m)\u001b[49m\n\u001b[1;32m    796\u001b[0m     handles\u001b[38;5;241m.\u001b[39mappend(handle)\n\u001b[1;32m    798\u001b[0m \u001b[38;5;66;03m# Convert BytesIO or file objects passed with an encoding\u001b[39;00m\n",
      "\u001b[0;31mFileNotFoundError\u001b[0m: [Errno 2] No such file or directory: '/home/data/t070224/Pubmed/Pubmed_Label/3.Orgnize/output/文献合并/human_label_pat.xlsx'"
     ]
    }
   ],
   "source": [
    "df = pd.read_excel(\"/home/data/t070224/Pubmed/Pubmed_Label/3.Orgnize/output/文献合并/human_label_pat.xlsx\")\n",
    "df = df.loc[df[\"是否是致病菌\"]=='yes', :]\n",
    "df = df.fillna(\"none\")\n",
    "df['golden'] = df['证据等级']\n",
    "df[\"prediction\"] = 'none'\n",
    "\n",
    "for i in df.index:\n",
    "    \n",
    "    dig_list = df.loc[i, 'Full'].lower().split(\" \")\n",
    "    \n",
    "    for dig in dig_list:\n",
    "        if dig in [\n",
    "            \"autopsy\", \"biopsy\", \"biopsies\", \n",
    "            \"tissue\", \n",
    "            \"histopathology\", \"histology\", \"histological\", \"histopathological\"]:\n",
    "            clas = \"1：同时具备肺组织病理+病原学证据\"\n",
    "        elif dig in [\n",
    "            \"blood\",\n",
    "            \"pleural\", \"purulent\",\n",
    "            \"csf\",\"cerebrospinal\"]:\n",
    "                clas = \"3：血及无菌体液（如脓胸液）\"\n",
    "        elif dig in [\n",
    "            \"bronchoscopy\",\"bronchoscopies\", \"tracheal\", \"bronchial\", \"throat\",\n",
    "            \"bal\", \"balf\", \"bronchoalveolar\",\"lavage\"]:\n",
    "                clas =\"4：气管镜活检组织培养出病原体，或者支气管肺泡灌洗液（BALF）定量培养>10**4\"\n",
    "        elif dig in [\n",
    "            \"aspirate\", \"aspiration\", \n",
    "            \"secretion\", \"sputum\", \"sputa\",\"immunohistochemistry\",\"staining\"]:\n",
    "                clas =\"5：气管吸出物或痰/BALF纯培养或优势培养出病原体\"\n",
    "        else:\n",
    "            clas = \"none\"\n",
    "    prediction_0.loc[i, \"prediction\"] = clas\n",
    "eval.multiclass_score(df[[\"golden\"]], df[[\"prediction\"]])"
   ]
  },
  {
   "cell_type": "code",
   "execution_count": 11,
   "metadata": {
    "tags": []
   },
   "outputs": [
    {
     "name": "stdout",
     "output_type": "stream",
     "text": [
      "结果: 0.7746741154562383 0.799693604783611 0.7746741154562383 0.7600590086716601\n"
     ]
    }
   ],
   "source": [
    "col_ab =  \"evi\"\n",
    "col_name = \"证据等级\"\n",
    "\n",
    "standard_0 = pd.DataFrame(np.zeros((0,1)), columns = [\"golden\"])\n",
    "prediction_0 = pd.DataFrame(np.zeros((0,1)), columns = [\"prediction\"])\n",
    "for re in range(1,12):\n",
    "    eval_a = json.load(open(\"eval/evl_%s/input_%s/eval_set.json\" % (col_ab, re), \"r\"))\n",
    "    standard = pd.DataFrame(eval_a, index=[\"golden\"]).T\n",
    "    standard_0 = pd.concat((standard_0, standard), axis=0)\n",
    "    prediction = json.load(open(\"eval/evl_%s/output_%s/predictions_.json\" % (col_ab, re),'r'))\n",
    "    prediction = pd.DataFrame(prediction, index=[\"prediction\"]).T\n",
    "    prediction_0 = pd.concat((prediction_0, prediction),axis=0)\n",
    "    \n",
    "df = pd.read_excel(\"input/human_label.xlsx\", index_col=0)\n",
    "for i in standard_0.index:\n",
    "    \n",
    "    standard_0.loc[i, \"golden\"] = df.loc[i,col_name]\n",
    "    dig_list = prediction_0.loc[i, 'prediction'].lower().split(\" \")\n",
    "\n",
    "    for dig in dig_list:\n",
    "        \n",
    "        if dig in [\n",
    "            \"autopsy\", \"biopsy\", \"biopsies\", \n",
    "            \"tissue\", \"postmortem\",\n",
    "            \"histopathology\", \"histology\", \"histological\", \"histopathological\",\"histopathologic\"]:\n",
    "            clas = \"1：同时具备肺组织病理+病原学证据\"\n",
    "        elif dig in [\n",
    "            \"blood\",\"abscess\",\n",
    "            \"pleural\", \"purulent\",\"fluid\",\"pus\",\n",
    "            \"csf\",\"cerebrospinal\"]:\n",
    "                clas = \"3：血及无菌体液（如脓胸液）\"\n",
    "        elif dig in [\n",
    "            \"bronchoscopy\",\"bronchoscopies\",\"bronchoscopic\", \"thoracoscopic\",\"bronchoscope\",\"transbronchoscopy\",\n",
    "            \"tracheal\", \"bronchial\", \"throat\",\"tbna\",\n",
    "            \"bal\", \"balf\", \"bronchoalveolar\",\"lavage\"]:\n",
    "                clas =\"4：气管镜活检组织培养出病原体，或者支气管肺泡灌洗液（BALF）定量培养>10**4\"\n",
    "        elif dig in [\n",
    "            \"aspirate\", \"aspiration\", \"aspirates\",\n",
    "            \"secretion\", \"sputum\", \"sputa\",\"immunohistochemistry\",\"staining\"]:\n",
    "                clas =\"5：气管吸出物或痰/BALF纯培养或优势培养出病原体\"\n",
    "        else:\n",
    "            clas = \"none\"\n",
    "            # print(dig, clas)\n",
    "    prediction_0.loc[i, \"prediction\"] = clas\n",
    "\n",
    "eval.multiclass_score(standard_0[[\"golden\"]], prediction_0[[\"prediction\"]])\n",
    "pd.concat([standard_0, prediction_0], axis=1).to_csv(\"eval/evl_%s/eval.csv\" % col_ab)"
   ]
  },
  {
   "cell_type": "code",
   "execution_count": null,
   "metadata": {},
   "outputs": [],
   "source": [
    "import os\n",
    "for i in os.listdir(\"eval\"):\n",
    "    for j in os.listdir(\"eval/%s\" %i ):\n",
    "        if \"output\" in j:\n",
    "            os.remove(\"eval/%s/%s/pytorch_model.bin\" % (i, j))"
   ]
  }
 ],
 "metadata": {
  "kernelspec": {
   "display_name": "Python 3 (ipykernel)",
   "language": "python",
   "name": "python3"
  },
  "language_info": {
   "codemirror_mode": {
    "name": "ipython",
    "version": 3
   },
   "file_extension": ".py",
   "mimetype": "text/x-python",
   "name": "python",
   "nbconvert_exporter": "python",
   "pygments_lexer": "ipython3",
   "version": "3.8.10"
  },
  "vscode": {
   "interpreter": {
    "hash": "bd5a5980a31967086eaababc5338e6a92d5792ba40cc4c910227acd610a4f48f"
   }
  }
 },
 "nbformat": 4,
 "nbformat_minor": 4
}
