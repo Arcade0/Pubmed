{
 "cells": [
  {
   "cell_type": "markdown",
   "metadata": {},
   "source": [
    "# 函数准备"
   ]
  },
  {
   "cell_type": "code",
   "execution_count": 1,
   "metadata": {},
   "outputs": [],
   "source": [
    "import os\n",
    "import numpy as np\n",
    "import pandas as pd\n",
    "import json\n",
    "from copy import deepcopy\n",
    "import re\n",
    "import random\n",
    "from random import choice\n",
    "random.seed(10)\n",
    "# -*- coding:utf-8 -*\n",
    "import eval\n",
    "from mkdir import mk_dir\n",
    "from bert_format import bset,test_qa\n",
    "import spokentonumer"
   ]
  },
  {
   "cell_type": "code",
   "execution_count": null,
   "metadata": {},
   "outputs": [],
   "source": [
    "from sklearn.model_selection import KFold\n",
    "kf = KFold(n_splits = 5)\n",
    "\n",
    "for col_ab in [\"age\", \"gender\",\"num\",\"evi\"]:\n",
    "\n",
    "    mk_dir(\"eval/evl_%s\" % (col_ab))\n",
    "\n",
    "    train_set = json.load(open(\"input/input_%s/train_set.json\" \\\n",
    "        %(col_ab), \"r\"))\n",
    "    train_qa = train_set['data'][0][\"paragraphs\"]\n",
    "\n",
    "    re = 0\n",
    "    for ttrain_qa,eval_qa in kf.split(train_qa):\n",
    "\n",
    "        re = re + 1\n",
    "\n",
    "        ttrain_set = {\n",
    "            \"data\": [{\n",
    "                'paragraphs': [train_qa[i] for i in ttrain_qa],\n",
    "                'title': \"LungB\"\n",
    "            }],\n",
    "            \"version\": \"LungB\"\n",
    "        }\n",
    "\n",
    "        mk_dir(\"eval/evl_%s/input_%s\" % (col_ab, re))\n",
    "        mk_dir(\"eval/evl_%s/output_%s\" % (col_ab, re))\n",
    "\n",
    "        json.dump(ttrain_set, open(\"eval/evl_%s/input_%s/train_set.json\" \n",
    "        % (col_ab, re), \"w\"))\n",
    "\n",
    "        eval_q=[]\n",
    "        eval_a={}\n",
    "        for i in eval_qa:\n",
    "            qq={\n",
    "                'qas': [{\n",
    "                    'id': train_qa[i]['qas'][0]['id'],\n",
    "                    'question': train_qa[i]['qas'][0]['question'],\n",
    "                    'answers':[]\n",
    "                }],\n",
    "                'context': train_qa[i]['context']\n",
    "            }\n",
    "            eval_q.append(qq)\n",
    "            eval_a[train_qa[i]['qas'][0]['id']] = train_qa[i]['qas'][0]['answers']\n",
    "\n",
    "        eval_qset = {\n",
    "            \"data\": [{\n",
    "                'paragraphs': eval_q,\n",
    "                'title': \"LungB\"\n",
    "            }],\n",
    "            \"version\": \"LungB\"\n",
    "        }\n",
    "\n",
    "        json.dump(eval_qset, open(\"eval/evl_%s/input_%s/test_set.json\" \n",
    "        % (col_ab, re), \"w\"))\n",
    "        json.dump(eval_a, open(\"eval/evl_%s/input_%s/eval_set.json\" \n",
    "        % (col_ab, re), \"w\"))"
   ]
  },
  {
   "cell_type": "code",
   "execution_count": null,
   "metadata": {},
   "outputs": [],
   "source": [
    "col_ab =  \"evi\"\n",
    "standard_0 = pd.DataFrame(np.zeros((0,1)), columns = [\"golden\"])\n",
    "prediction_0 = pd.DataFrame(np.zeros((0,3)), columns = [\"prediction\",\"rate\",\"cut\"])\n",
    "for re in range(1,11):\n",
    "    eval_a = json.load(open(\"eval/evl_%s/input_%s/eval_set.json\" % (col_ab, re), \"r\"))\n",
    "    standard = pd.DataFrame(eval_a, index=[\"golden\"]).T\n",
    "    standard_0 = pd.concat((standard_0, standard), 0)\n",
    "    prediction = json.load(open(\"eval/evl_%s/output_%s/predictions_.json\" % (col_ab, re),'r'))\n",
    "    prediction = pd.DataFrame(prediction, index=[\"prediction\", \"rate\"]).T\n",
    "    prediction[\"cut\"] = 1\n",
    "    for idx in prediction.index:\n",
    "        prediction.loc[idx, \"rate\"] = prediction.loc[idx, \"rate\"][0]\n",
    "        prediction.loc[idx, \"cut\"] = 1 - prediction.loc[idx, \"rate\"]\n",
    "        if prediction.loc[idx, \"rate\"] < 0.85:\n",
    "            prediction.loc[idx, \"prediction\"] = \"no\"\n",
    "    prediction_0 = pd.concat((prediction_0, prediction),0)\n",
    "\n",
    "fig_path = (\"eval/evl_%s/output_%s\" % (col_ab, re))\n",
    "evaluate(standard_0, prediction_0, fig_path)"
   ]
  },
  {
   "attachments": {},
   "cell_type": "markdown",
   "metadata": {},
   "source": [
    "# 患者数量"
   ]
  },
  {
   "cell_type": "code",
   "execution_count": null,
   "metadata": {},
   "outputs": [],
   "source": [
    "df = pd.read_excel(\"/home/data/t070224/Pubmed/Pubmed_Label/3.Orgnize/output/文献合并/human_label_pat.xlsx\")\n",
    "# df = df.loc[df[\"是否是致病菌\"]=='yes', :]\n",
    "df = df.fillna(\"none\")\n",
    "df['golden'] = df['样本量']\n",
    "df[\"prediction\"] = 'none'\n",
    "\n",
    "for i in df.index:\n",
    "    \n",
    "    if df.loc[i,\"Full\"] != 'none':\n",
    "        \n",
    "        digit_list = spokentonumer.del_non_digit(df.loc[i, 'Full'])\n",
    "        \n",
    "        if (len(digit_list) > 0) & (\"to\" not in df.loc[i, 'Full'].lower()):\n",
    "                \n",
    "            clasn = digit_list[0]\n",
    "            if int(clasn) == 1:\n",
    "                clas = \"1\"\n",
    "            elif int(clasn) in range(2,11):\n",
    "                clas = \"2-10\"\n",
    "            elif int(clasn) in range(11,101):\n",
    "                clas = \"11-100\"\n",
    "            elif int(clasn) > 100:\n",
    "                clas = \">100\"\n",
    "            else:\n",
    "                clas = 'none'\n",
    "                \n",
    "            df.loc[i, \"prediction\"] = clas"
   ]
  },
  {
   "cell_type": "code",
   "execution_count": null,
   "metadata": {},
   "outputs": [],
   "source": [
    "spokentonumer.del_non_digit(df.loc[i, 'Full'])"
   ]
  },
  {
   "cell_type": "code",
   "execution_count": 17,
   "metadata": {},
   "outputs": [
    {
     "name": "stdout",
     "output_type": "stream",
     "text": [
      "结果: 0.4340659340659341 0.7550088075920977 0.4340659340659341 0.49338693424061786\n"
     ]
    },
    {
     "data": {
      "text/plain": [
       "(0.4340659340659341,\n",
       " 0.7550088075920977,\n",
       " 0.4340659340659341,\n",
       " 0.49338693424061786)"
      ]
     },
     "execution_count": 17,
     "metadata": {},
     "output_type": "execute_result"
    }
   ],
   "source": [
    "eval.multiclass_score(df[[\"golden\"]], df[[\"prediction\"]])"
   ]
  },
  {
   "attachments": {},
   "cell_type": "markdown",
   "metadata": {},
   "source": [
    "# 患者年龄"
   ]
  },
  {
   "cell_type": "code",
   "execution_count": 18,
   "metadata": {},
   "outputs": [
    {
     "name": "stdout",
     "output_type": "stream",
     "text": [
      "['forty', 'two']\n",
      "['fifty', 'six']\n",
      "['sixty', 'five']\n"
     ]
    }
   ],
   "source": [
    "df = pd.read_excel(\"/home/data/t070224/Pubmed/Pubmed_Label/3.Orgnize/output/文献合并/human_label_pat.xlsx\")\n",
    "df = df.loc[df[\"是否是致病菌\"]=='yes', :]\n",
    "df = df.fillna(\"none\")\n",
    "df['golden'] = df['年龄']\n",
    "df[\"prediction\"] = 'none'\n",
    "\n",
    "for i in df.index:\n",
    "    \n",
    "    digit_list = spokentonumer.del_non_digit(df.loc[i, '年龄文本'])\n",
    "    \n",
    "    if (len(digit_list) > 0):\n",
    "            \n",
    "            clasn = digit_list[0]\n",
    "            if int(clasn) == 1:\n",
    "                clas = \"1岁以下\"\n",
    "            elif int(clasn) in range(2,18):\n",
    "                clas = \"1-17岁\"\n",
    "            elif int(clasn) in range(18,66):\n",
    "                clas = \"18-65岁\"\n",
    "            elif int(clasn) in range(66,120):\n",
    "                clas = \">65岁\"\n",
    "            else:\n",
    "                clas = 'none'\n",
    "    else:\n",
    "        clas = 'none'\n",
    "        \n",
    "    for word in [\"elder\", \"elderly\", \"older\", \"aging\"]:\n",
    "        if word in df.loc[i, '年龄文本']:\n",
    "            clas = \">65岁\"\n",
    "    for word in [\"adult\", \"adults\", \"middle\",\"mature\"]:\n",
    "        if word in df.loc[i, '年龄文本']:\n",
    "            clas = \"18-65岁\"\n",
    "    for word in [\"young\", \"younger\", \"child\", \"children\",\"adolescent\", \"adolescents\", \"paediatric\", \"pediatric\"]:\n",
    "        if word in df.loc[i, '年龄文本']:\n",
    "            clas = \"1-17岁\"\n",
    "    for word in [\"infant\", \"infants\", \"neonatus\", \"neonate\",\"neonatal\",\"day\", \"days\", \"month\", \"months\", \"months\",\"premature\"]:\n",
    "        if word in df.loc[i, '年龄文本']:\n",
    "            clas = \"1岁以下\"\n",
    "            \n",
    "    df.loc[i, \"prediction\"] = clas"
   ]
  },
  {
   "cell_type": "code",
   "execution_count": 20,
   "metadata": {
    "tags": []
   },
   "outputs": [
    {
     "name": "stdout",
     "output_type": "stream",
     "text": [
      "结果: 0.7838827838827839 0.8337988694430343 0.7838827838827839 0.7760572288517577\n"
     ]
    },
    {
     "data": {
      "text/plain": [
       "(0.7838827838827839,\n",
       " 0.8337988694430343,\n",
       " 0.7838827838827839,\n",
       " 0.7760572288517577)"
      ]
     },
     "execution_count": 20,
     "metadata": {},
     "output_type": "execute_result"
    }
   ],
   "source": [
    "eval.multiclass_score(df[[\"golden\"]], df[[\"prediction\"]])"
   ]
  },
  {
   "attachments": {},
   "cell_type": "markdown",
   "metadata": {},
   "source": [
    "# 患者性别"
   ]
  },
  {
   "cell_type": "code",
   "execution_count": 42,
   "metadata": {},
   "outputs": [],
   "source": [
    "df = pd.read_excel(\"/home/data/t070224/Pubmed/Pubmed_Label/3.Orgnize/output/文献合并/human_label_pat.xlsx\")\n",
    "df = df.loc[df[\"是否是致病菌\"]=='yes', :]\n",
    "df = df.fillna(\"none\")\n",
    "df['golden'] = df['患者性别']\n",
    "df[\"prediction\"] = 'none'\n",
    "\n",
    "for i in df.index:\n",
    "    \n",
    "    dig_list = df.loc[i, '患者性别文本'].lower().split(\" \")\n",
    "    for dig in dig_list:\n",
    "        if dig in [\"man\", \"men\", \"boy\", \"boys\",\"male\", \"males\", \n",
    "                    \"he\", \"gentleman\", \"gentlemen\", \"his\", \"him\"]:\n",
    "            clas = \"男\"\n",
    "            \n",
    "        if dig in [\"woman\", \"women\", \"girl\",\"girls\", \"female\", \n",
    "                    \"females\", \"fm\", \"she\", \"lady\", \"ladys\", \"her\"]:\n",
    "            clas = \"女\"\n",
    "            \n",
    "    else:\n",
    "        clas = \"none\""
   ]
  },
  {
   "cell_type": "code",
   "execution_count": 43,
   "metadata": {},
   "outputs": [
    {
     "name": "stdout",
     "output_type": "stream",
     "text": [
      "结果: 0.5421245421245421 0.29389901917374445 0.5421245421245421 0.381161198263336\n"
     ]
    },
    {
     "name": "stderr",
     "output_type": "stream",
     "text": [
      "/home/data/t070224/miniconda3/lib/python3.9/site-packages/sklearn/metrics/_classification.py:1334: UndefinedMetricWarning: Precision is ill-defined and being set to 0.0 in labels with no predicted samples. Use `zero_division` parameter to control this behavior.\n",
      "  _warn_prf(average, modifier, msg_start, len(result))\n"
     ]
    },
    {
     "data": {
      "text/plain": [
       "(0.5421245421245421,\n",
       " 0.29389901917374445,\n",
       " 0.5421245421245421,\n",
       " 0.381161198263336)"
      ]
     },
     "execution_count": 43,
     "metadata": {},
     "output_type": "execute_result"
    }
   ],
   "source": [
    "eval.multiclass_score(df[[\"golden\"]], df[[\"prediction\"]])"
   ]
  },
  {
   "attachments": {},
   "cell_type": "markdown",
   "metadata": {},
   "source": [
    "# 证据等级"
   ]
  },
  {
   "cell_type": "code",
   "execution_count": 58,
   "metadata": {},
   "outputs": [],
   "source": [
    "df = pd.read_excel(\"/home/data/t070224/Pubmed/Pubmed_Label/3.Orgnize/output/文献合并/human_label_pat.xlsx\")\n",
    "df = df.loc[df[\"是否是致病菌\"]=='yes', :]\n",
    "df = df.fillna(\"none\")\n",
    "df['golden'] = df['证据等级']\n",
    "df[\"prediction\"] = 'none'\n",
    "\n",
    "for i in df.index:\n",
    "    \n",
    "    dig_list = df.loc[i, 'Full'].lower().split(\" \")\n",
    "    \n",
    "    for dig in dig_list:\n",
    "        if dig in [\n",
    "            \"autopsy\", \"biopsy\", \"biopsies\", \n",
    "            \"tissue\", \n",
    "            \"histopathology\", \"histology\", \"histological\", \"histopathological\"]:\n",
    "            clas = \"1：同时具备肺组织病理+病原学证据\"\n",
    "        if dig in [\n",
    "            \"blood\",\n",
    "            \"pleural\", \"purulent\",\n",
    "            \"csf\",\"cerebrospinal\"]:\n",
    "                clas = \"3：血及无菌体液（如脓胸液）\"\n",
    "        if dig in [\n",
    "            \"bronchoscopy\",\"bronchoscopies\", \"tracheal\", \"bronchial\", \"throat\",\n",
    "            \"bal\", \"balf\", \"bronchoalveolar\",\"lavage\"]:\n",
    "                clas =\"4：气管镜活检组织培养出病原体，或者支气管肺泡灌洗液（BALF）定量培养>10**4\"\n",
    "        if dig in [\n",
    "            \"aspirate\", \"aspiration\", \n",
    "            \"secretion\", \"sputum\", \"sputa\",\"immunohistochemistry\",\"staining\"]:\n",
    "                clas =\"5：气管吸出物或痰/BALF纯培养或优势培养出病原体\"\n",
    "    df.loc[i, \"prediction\"] = clas"
   ]
  },
  {
   "cell_type": "code",
   "execution_count": 59,
   "metadata": {},
   "outputs": [
    {
     "name": "stdout",
     "output_type": "stream",
     "text": [
      "结果: 0.2783882783882784 0.11999096615798058 0.2783882783882784 0.16607810118864885\n"
     ]
    },
    {
     "name": "stderr",
     "output_type": "stream",
     "text": [
      "/home/data/t070224/miniconda3/lib/python3.9/site-packages/sklearn/metrics/_classification.py:1334: UndefinedMetricWarning: Precision is ill-defined and being set to 0.0 in labels with no predicted samples. Use `zero_division` parameter to control this behavior.\n",
      "  _warn_prf(average, modifier, msg_start, len(result))\n"
     ]
    },
    {
     "data": {
      "text/plain": [
       "(0.2783882783882784,\n",
       " 0.11999096615798058,\n",
       " 0.2783882783882784,\n",
       " 0.16607810118864885)"
      ]
     },
     "execution_count": 59,
     "metadata": {},
     "output_type": "execute_result"
    }
   ],
   "source": [
    "eval.multiclass_score(df[[\"golden\"]], df[[\"prediction\"]])"
   ]
  },
  {
   "cell_type": "code",
   "execution_count": 46,
   "metadata": {},
   "outputs": [
    {
     "data": {
      "text/plain": [
       "none                                          311\n",
       "3：血及无菌体液（如脓胸液）                                 86\n",
       "5：气管吸出物或痰/BALF纯培养或优势培养出病原体                     67\n",
       "4：气管镜活检组织培养出病原体，或者支气管肺泡灌洗液（BALF）定量培养>10**4     56\n",
       "2：肺组织病原学证据                                     16\n",
       "1：同时具备肺组织病理+病原学证据                              10\n",
       "Name: golden, dtype: int64"
      ]
     },
     "execution_count": 46,
     "metadata": {},
     "output_type": "execute_result"
    }
   ],
   "source": [
    "df['golden'].value_counts()"
   ]
  },
  {
   "cell_type": "code",
   "execution_count": 60,
   "metadata": {},
   "outputs": [
    {
     "data": {
      "text/plain": [
       "5：气管吸出物或痰/BALF纯培养或优势培养出病原体                    186\n",
       "3：血及无菌体液（如脓胸液）                                174\n",
       "4：气管镜活检组织培养出病原体，或者支气管肺泡灌洗液（BALF）定量培养>10**4    113\n",
       "1：同时具备肺组织病理+病原学证据                              73\n",
       "Name: prediction, dtype: int64"
      ]
     },
     "execution_count": 60,
     "metadata": {},
     "output_type": "execute_result"
    }
   ],
   "source": [
    "df['prediction'].value_counts()"
   ]
  },
  {
   "cell_type": "code",
   "execution_count": null,
   "metadata": {},
   "outputs": [],
   "source": []
  }
 ],
 "metadata": {
  "kernelspec": {
   "display_name": "Python 3.9.12 ('base': conda)",
   "language": "python",
   "name": "python3"
  },
  "language_info": {
   "codemirror_mode": {
    "name": "ipython",
    "version": 3
   },
   "file_extension": ".py",
   "mimetype": "text/x-python",
   "name": "python",
   "nbconvert_exporter": "python",
   "pygments_lexer": "ipython3",
   "version": "3.9.12"
  },
  "vscode": {
   "interpreter": {
    "hash": "bd5a5980a31967086eaababc5338e6a92d5792ba40cc4c910227acd610a4f48f"
   }
  }
 },
 "nbformat": 4,
 "nbformat_minor": 4
}
