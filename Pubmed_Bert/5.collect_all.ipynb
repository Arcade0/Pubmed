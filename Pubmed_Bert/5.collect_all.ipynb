{
 "cells": [
  {
   "cell_type": "code",
   "execution_count": 1,
   "metadata": {},
   "outputs": [],
   "source": [
    "import pandas as pd\n",
    "import numpy as np\n",
    "import json\n",
    "import string"
   ]
  },
  {
   "attachments": {},
   "cell_type": "markdown",
   "metadata": {},
   "source": [
    "# 筛选预测的"
   ]
  },
  {
   "cell_type": "code",
   "execution_count": 77,
   "metadata": {},
   "outputs": [],
   "source": [
    "pat = json.load(open(\"output/prediction_extend.json\", \"r\"))\n",
    "pats = {}\n",
    "for spec_type in pat:\n",
    "    for spec in pat[spec_type]:\n",
    "        vbp = {}\n",
    "        for paper_id, paper in pat[spec_type][spec].items():\n",
    "            vbp[paper_id+\":\"+spec] = paper\n",
    "            vbp[paper_id+\":\"+spec][\"spec_type\"] = spec_type\n",
    "            vbp[paper_id+\":\"+spec][\"species\"] = spec\n",
    "        pats.update(vbp)\n",
    "        \n",
    "with open(\"output/prediction_extend_list.json\",\"w\") as f:\n",
    "    json.dump(pats,f)"
   ]
  },
  {
   "attachments": {},
   "cell_type": "markdown",
   "metadata": {},
   "source": [
    "# 合并机器学习数据"
   ]
  },
  {
   "cell_type": "code",
   "execution_count": 2,
   "metadata": {},
   "outputs": [],
   "source": [
    "with open(\"output/prediction_extend_list.json\",\"r\") as f:\n",
    "    pats = json.load(f)\n",
    "pat_df = pd.DataFrame(pats.values(), index=pats.keys())\n",
    "\n",
    "evi_df = pd.read_csv(\"output/prediction_addition.csv\",index_col=0)\n",
    "evi_df = evi_df.loc[pat_df.index]\n",
    "\n",
    "for i in pat_df.index:\n",
    "    if \"Journal\" in pat_df.loc[i, \"texts\"].keys():\n",
    "        pat_df.loc[i, '期刊'] = pat_df.loc[i, \"texts\"][\"Journal\"]\n",
    "    else:\n",
    "        pat_df.loc[i, '期刊'] = None\n",
    "pat_df['文章标题'] = [i[\"Title\"] for i in pat_df[\"texts\"]]\n",
    "pat_df[\"pmid\"] = [\"https://pubmed.ncbi.nlm.nih.gov/%s/\" % i for i in pat_df[\"pmid\"]]\n",
    "pat_df[\"标注方式\"] = \"模型标注\"\n",
    "\n",
    "mac_df = pd.concat((pat_df,evi_df), axis=1)\n",
    "mac_df.to_csv(\"output/machine_label.csv\", encoding=\"utf_8_sig\")"
   ]
  },
  {
   "attachments": {},
   "cell_type": "markdown",
   "metadata": {},
   "source": [
    "# 合并人工标注数据"
   ]
  },
  {
   "cell_type": "code",
   "execution_count": 4,
   "metadata": {},
   "outputs": [],
   "source": [
    "# 读取人工标注文件\n",
    "hum_df = pd.read_excel(\"input/human_label_1.0.xlsx\", index_col=0, header=0)\n",
    "hum_df.index = [i.lower() for i in hum_df.index]\n",
    "hum_df[\"物种名称\"] = [hum_df.loc[i,\"物种名称\"].lower() for i in hum_df.index]\n",
    "\n",
    "hum_df = hum_df.loc[hum_df[\"是否是致病菌\"]==\"yes\", :]\n",
    "hum_df = hum_df[['物种名称', '本文中是肺部病原的概率','样本量', '年龄', '患者性别',  '免疫状态', '证据等级', '标注方式', '原文链接' ]]\n",
    "hum_df['本文中是肺部病原的概率'] = hum_df['本文中是肺部病原的概率'].round(2)\n",
    "hum_df[\"物种类别\"] = \"Bactology\"\n",
    "# 机器标注的\n",
    "pat_df = pd.read_csv(\"output/machine_label.csv\", index_col=0)\n",
    "pat_df = pat_df[['spec_type', 'species', 'predition', 'num','age', 'gender', 'immu', 'evi', '标注方式', 'pmid']]\n",
    "pat_df.columns = ['物种类别', '物种名称', '本文中是肺部病原的概率','样本量', '年龄',  '患者性别',  '免疫状态', '证据等级', '标注方式', '原文链接' ]\n",
    "pat_df['本文中是肺部病原的概率'] = pat_df['本文中是肺部病原的概率'].round(2)\n",
    "pat_df = pat_df.fillna(\"none\")\n",
    "# pat_df[\"发表年份\"] = pat_df[\"发表年份\"].astype(int)\n",
    "# pat_df.loc[pat_df[\"发表年份\"]==0, \"发表年份\"] = \"none\"\n",
    "# for i in hum_df.index:\n",
    "#     if i in pat_df.index:\n",
    "#         hum_df.loc[i, \"期刊\"] = pat_df.loc[i,\"期刊\"]\n",
    "#     pat_df.loc[i] = hum_df.loc[i]\n",
    "dul_index = [i for i in set(hum_df.index) if i in set(pat_df.index)]\n",
    "pat_df.loc[dul_index] = hum_df.loc[dul_index]\n",
    "uniq_index = [i for i in hum_df.index if i not in dul_index]\n",
    "all_df = pd.concat((hum_df.loc[uniq_index],pat_df),axis=0)\n",
    "all_df.to_csv(\"output/all_label.csv\",encoding='utf-8-sig')"
   ]
  }
 ],
 "metadata": {
  "kernelspec": {
   "display_name": "base",
   "language": "python",
   "name": "python3"
  },
  "language_info": {
   "codemirror_mode": {
    "name": "ipython",
    "version": 3
   },
   "file_extension": ".py",
   "mimetype": "text/x-python",
   "name": "python",
   "nbconvert_exporter": "python",
   "pygments_lexer": "ipython3",
   "version": "3.9.12"
  },
  "orig_nbformat": 4,
  "vscode": {
   "interpreter": {
    "hash": "bd5a5980a31967086eaababc5338e6a92d5792ba40cc4c910227acd610a4f48f"
   }
  }
 },
 "nbformat": 4,
 "nbformat_minor": 2
}
