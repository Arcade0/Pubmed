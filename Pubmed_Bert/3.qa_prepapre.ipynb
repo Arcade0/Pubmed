{
 "cells": [
  {
   "cell_type": "code",
   "execution_count": 1,
   "id": "afdf90a5-fed9-400e-b068-df5f3e01777a",
   "metadata": {},
   "outputs": [],
   "source": [
    "import json\n",
    "import pandas as pd\n",
    "import numpy as np\n",
    "import json"
   ]
  },
  {
   "cell_type": "code",
   "execution_count": 2,
   "id": "73142658-e9be-46c7-9297-5fb57d8a6a39",
   "metadata": {},
   "outputs": [],
   "source": [
    "with open(\"../PubMed_Search/search_results/search_results_hanimals.txt\", \"r\") as f:\n",
    "    a = f.read()\n",
    "    spec_papers_dic = json.loads(a)\n",
    "# 加载判断了的病原菌信息\n",
    "prediction = json.load(open(\"output/output_pat/total_predictions.json\", 'r'))\n",
    "result = {}\n",
    "for i in prediction.keys():\n",
    "    paper_id = i.split(\":\")[0]\n",
    "    spec = i.split(\":\")[1]\n",
    "    ncbi = \"https://pubmed.ncbi.nlm.nih.gov/%s/\" % paper_id\n",
    "    result[i] = [paper_id, spec, prediction[i][1][0], ncbi]\n",
    "result = pd.DataFrame(result, index = [\"ID\", \"SPECIES\", \"rate\", \"link\"]).T\n",
    "prediction_extend = {}\n",
    "\n",
    "for spec_type in spec_papers_dic:\n",
    "\n",
    "    prediction_extend[spec_type] = {}\n",
    "    \n",
    "    for k, v in prediction.items():\n",
    "\n",
    "        spec = k.split(\":\")[1]\n",
    "        paper_id = k.split(\":\")[0]\n",
    "        \n",
    "        if spec in spec_papers_dic[spec_type]:\n",
    "\n",
    "            if v[1][0] > 0.5:\n",
    "\n",
    "                if spec not in prediction_extend[spec_type]:\n",
    "                \n",
    "                    prediction_extend[spec_type][spec] = {}\n",
    "                    prediction_extend[spec_type][spec][paper_id] = spec_papers_dic[spec_type][spec][paper_id]\n",
    "                    prediction_extend[spec_type][spec][paper_id][\"predition\"] = v\n",
    "                else:\n",
    "                    prediction_extend[spec_type][spec][paper_id] = spec_papers_dic[spec_type][spec][paper_id]\n",
    "                    prediction_extend[spec_type][spec][paper_id][\"predition\"] = v\n",
    "\n",
    "with open(\"output/output_pat/prediction_extend.json\", \"w\") as f:\n",
    "    json.dump(prediction_extend, f)"
   ]
  },
  {
   "cell_type": "code",
   "execution_count": 6,
   "id": "010c1a60-e4ee-4555-afcb-abf013736f7d",
   "metadata": {
    "tags": []
   },
   "outputs": [],
   "source": [
    "# 根据上述筛选出的样本的数据集\n",
    "from mkdir import mkdir\n",
    "col_ll = [\n",
    "    [\"样本量\",\"num\",{\"1\":\"How many patients are ivolved in this study?\"}],\n",
    "    [\"患者性别\",\"gender\",{\"1\":\"What's gender of the patient?\"}],\n",
    "    [\"年龄\",\"age\",{\"1\":\"How old is patient?\"}],\n",
    "    [\"证据等级\",\"evi\",{\"1\":\"Where is pathogen isolated?\"}],\n",
    "    [\"免疫状态\",\"immu\",{\"1\":\"What's patient immunity state?\"}],\n",
    "#     [\"预后\",\"outcome\",{\"1\":\"What's patient outcome?\"}]\n",
    "]\n",
    "for col_l in col_ll:\n",
    "    \n",
    "    col_name = col_l[0]\n",
    "    col_ab = col_l[1]\n",
    "    que_d = col_l[2]\n",
    "    \n",
    "    test_qa = []\n",
    "    test_set = {\"data\": [{'paragraphs': [], 'title':\"LungB\"}], \"version\": \"LungB\"}\n",
    "\n",
    "    for spec_type in spec_papers_dic:\n",
    "        \n",
    "        for pre_keys in prediction:\n",
    "            \n",
    "            if pre_keys.split(\":\")[1] in spec_papers_dic[spec_type]:\n",
    "        \n",
    "                qa = {'qas': [{\n",
    "                    'id': pre_keys,\n",
    "                    'question': que_d[\"1\"].replace(\"pathogen\", pre_keys),\n",
    "                    \"answers\": []}],\n",
    "                    'context': spec_papers_dic[spec_type][pre_keys.split(\":\")[1]][pre_keys.split(\":\")[0]][\"texts\"][\"Ab\"]+\" \"+\n",
    "                    \" \".join(sum(spec_papers_dic[spec_type][pre_keys.split(\":\")[1]][pre_keys.split(\":\")[0]][\"Meshhead\"],[])) } # 添加mesh词汇\n",
    "\n",
    "                if len(spec_papers_dic[spec_type][pre_keys.split(\":\")[1]][pre_keys.split(\":\")[0]][\"texts\"][\"Ab\"]) > 0:\n",
    "                    test_qa.append(qa)\n",
    "   \n",
    "    test_set['data'][0][\"paragraphs\"] = test_qa\n",
    "    mkdir(\"input/input_%s/\" % (col_ab))\n",
    "    json.dump(test_set, open(\"input/input_%s/test_set.json\" % (col_ab), \"w\"))"
   ]
  }
 ],
 "metadata": {
  "kernelspec": {
   "display_name": "Python 3.9.12 ('base': conda)",
   "language": "python",
   "name": "python3"
  },
  "language_info": {
   "codemirror_mode": {
    "name": "ipython",
    "version": 3
   },
   "file_extension": ".py",
   "mimetype": "text/x-python",
   "name": "python",
   "nbconvert_exporter": "python",
   "pygments_lexer": "ipython3",
   "version": "3.9.12 (main, Jun  1 2022, 11:38:51) \n[GCC 7.5.0]"
  },
  "vscode": {
   "interpreter": {
    "hash": "bd5a5980a31967086eaababc5338e6a92d5792ba40cc4c910227acd610a4f48f"
   }
  }
 },
 "nbformat": 4,
 "nbformat_minor": 5
}
