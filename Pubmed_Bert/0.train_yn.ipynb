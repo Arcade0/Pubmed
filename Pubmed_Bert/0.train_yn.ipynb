{
 "cells": [
  {
   "cell_type": "markdown",
   "metadata": {},
   "source": [
    "# 函数准备"
   ]
  },
  {
   "cell_type": "code",
   "execution_count": 2,
   "metadata": {},
   "outputs": [],
   "source": [
    "import os\n",
    "import numpy as np\n",
    "import pandas as pd\n",
    "import json\n",
    "from copy import deepcopy\n",
    "import re\n",
    "import random\n",
    "from random import choice\n",
    "import eval\n",
    "from mkdir import mk_dir\n",
    "random.seed(10)\n",
    "# -*- coding:utf-8 -*"
   ]
  },
  {
   "cell_type": "markdown",
   "metadata": {},
   "source": [
    "# 训练集准备"
   ]
  },
  {
   "cell_type": "code",
   "execution_count": 10,
   "metadata": {},
   "outputs": [],
   "source": [
    "# 判断病原菌\n",
    "col_name = \"是否是病原菌\"\n",
    "col_ab =  \"pat\"\n",
    "cla_l = [\": 是\"]\n",
    "\n",
    "# 判断免疫状态\n",
    "col_name = \"免疫状态\"\n",
    "col_ab =  \"immu\"\n",
    "cla_l = [\": 是\"]\n",
    "\n",
    "# 判断免疫状态\n",
    "col_name = \"预后\"\n",
    "col_ab =  \"oc\"\n",
    "cla_l = [\": 是\"]"
   ]
  },
  {
   "cell_type": "code",
   "execution_count": 33,
   "metadata": {
    "tags": []
   },
   "outputs": [],
   "source": [
    "label_path = \"../3.Orgnize/output/文献标注-校对/\"\n",
    "sped_l = [ele for ele in os.listdir(label_path) if 'add' in ele]\n",
    "txt_path = \"../2.Label_prepare/paper_ld\"\n",
    "\n",
    "for cla in cla_l:\n",
    "\n",
    "    train_set = {\n",
    "        \"data\": [{\n",
    "            'paragraphs': [],\n",
    "            'title': \"LungB\"\n",
    "        }],\n",
    "        \"version\": \"LungB\"\n",
    "    }\n",
    "    train_qa = []\n",
    "    im = {\"yes\": False, \"no\": True}\n",
    "\n",
    "    for sped in sped_l:\n",
    "\n",
    "        # 读取标注信息\n",
    "        df = pd.read_excel(\"%s/%s\" % (label_path, sped), header=0)\n",
    "        df = df.loc[df[\"是否是致病菌\"] == \"是\", :]\n",
    "        \n",
    "        if col_name == \"证据等级\":\n",
    "            df.loc[df[col_name] == cla, col_name] = \"yes\"\n",
    "        else:\n",
    "            df.loc[df[col_name] == cla.split(\"：\")[0], col_name] = \"yes\"\n",
    "        \n",
    "        if col_name == \"是否是致病菌\":\n",
    "            que_d = {\"\":'Can %s cause Pneumonia?' % df.loc[idx, \"物种名称\"]}\n",
    "        if col_name == \"免疫状态\":\n",
    "            df.loc[df[col_name] == \"抑制\", col_name] = \"yes\"\n",
    "            que_d = {\"\":'Is patient immunosuppression?'}\n",
    "        df.loc[df[col_name] != \"yes\", col_name] = \"no\"\n",
    "\n",
    "        # 读取标题和摘要\n",
    "\n",
    "        df[\"Full\"] = 0\n",
    "\n",
    "        for idx in df.index.tolist():\n",
    "\n",
    "            with open(\"%s/%s/%s.txt\" % (txt_path, sped.split(\"_\")[0], df.loc[idx, \"ID\"]), \"r\") as f:\n",
    "                txt = f.read()\n",
    "            df.loc[idx, \"Full\"] = txt\n",
    "\n",
    "            # 创建QA样本\n",
    "            if df.loc[idx, col_name] in ['yes', 'no']:\n",
    "\n",
    "                # im = (df.loc[idx, \"是否是致病菌\"] != 'yes')\n",
    "                qa = {\n",
    "                    'qas': [{\n",
    "                        'id': '%s:%s' % (df.loc[idx, \"ID\"], df.loc[idx, \"物种名称\"]),\n",
    "                        'question': que_d[cla.split(\"：\")[0]],\n",
    "                        'is_impossible': im[df.loc[idx, col_name]],\n",
    "                        'answers': '%s' % df.loc[idx, col_name]\n",
    "                    }],\n",
    "                    'context':\n",
    "                    '%s' % df.loc[idx, \"Full\"]\n",
    "                }\n",
    "                train_qa.append(qa)\n",
    "        \n",
    "        mk_dir(\"input/input_%s_yn%s\" % (col_ab, cla.split(\"：\")[0]))\n",
    "        df.to_csv(\"input/input_%s_yn%s/%s.csv\" %\n",
    "                  (col_ab, cla.split(\"：\")[0], sped.split(\"_\")[0]), header=True, index=False)\n",
    "\n",
    "    train_set['data'][0][\"paragraphs\"] = train_qa\n",
    "    json.dump(train_set, open(\"input/input_%s_yn%s/train_set.json\" %\n",
    "              (col_ab, cla.split(\"：\")[0]), \"w\"))"
   ]
  }
 ],
 "metadata": {
  "kernelspec": {
   "display_name": "base",
   "language": "python",
   "name": "python3"
  },
  "language_info": {
   "codemirror_mode": {
    "name": "ipython",
    "version": 3
   },
   "file_extension": ".py",
   "mimetype": "text/x-python",
   "name": "python",
   "nbconvert_exporter": "python",
   "pygments_lexer": "ipython3",
   "version": "3.9.12 (main, Jun  1 2022, 11:38:51) \n[GCC 7.5.0]"
  },
  "vscode": {
   "interpreter": {
    "hash": "bd5a5980a31967086eaababc5338e6a92d5792ba40cc4c910227acd610a4f48f"
   }
  }
 },
 "nbformat": 4,
 "nbformat_minor": 4
}
