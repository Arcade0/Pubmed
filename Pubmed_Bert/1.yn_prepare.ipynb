{
 "cells": [
  {
   "cell_type": "code",
   "execution_count": 8,
   "id": "72b8c145-09be-4e25-a8c5-e6b6973c4966",
   "metadata": {},
   "outputs": [],
   "source": [
    "import json\n",
    "import pandas\n",
    "import numpy\n",
    "import os\n",
    "import string\n",
    "import eval"
   ]
  },
  {
   "cell_type": "markdown",
   "id": "c4f9e6c8-cfcf-47df-9ded-e1e40f96d9ca",
   "metadata": {},
   "source": [
    "# pathogen prepare"
   ]
  },
  {
   "cell_type": "code",
   "execution_count": 3,
   "id": "e8755773-c08b-4bd5-9b60-1ad3f03cf45e",
   "metadata": {},
   "outputs": [],
   "source": [
    "with open(\"../PubMed_Search/search_results/search_results_hanimals.txt\",\"r\") as f:\n",
    "    content = f.read()\n",
    "    spec_papers_dic = json.loads(content)"
   ]
  },
  {
   "cell_type": "code",
   "execution_count": 4,
   "id": "68915130-4d20-436d-8425-07446563e523",
   "metadata": {},
   "outputs": [],
   "source": [
    "# 预测样本格式转换\n",
    "papers_l = {}\n",
    "for spec_type in spec_papers_dic:\n",
    "\n",
    "    for spec,spec_papers in spec_papers_dic[spec_type].items():\n",
    "        \n",
    "        for paper_id, paper in spec_papers.items():\n",
    "            \n",
    "            papers_l['%s:%s' % (paper_id, spec)] = paper\n"
   ]
  },
  {
   "cell_type": "code",
   "execution_count": 24,
   "id": "c8ddad44",
   "metadata": {},
   "outputs": [],
   "source": [
    "test_qa = []\n",
    "test_set = {\"data\": [{'paragraphs': [], 'title':\"LungB\"}], \"version\": \"LungB\"}\n",
    "\n",
    "for paper_id,paper in papers_l.items():\n",
    "    \n",
    "    qa = {'qas': [{\n",
    "        'id': paper_id,\n",
    "        'question': 'Can %s cause Pneumonia?' % paper_id.split(\":\")[-1]}],\n",
    "        'context': paper[\"texts\"][\"Ab\"]+\" \"+\" \".join(sum(paper[\"Meshhead\"],[])) } # 添加mesh词汇\n",
    "        \n",
    "    if len(paper[\"texts\"][\"Ab\"]) > 0:\n",
    "        test_qa.append(qa)"
   ]
  },
  {
   "cell_type": "code",
   "execution_count": 25,
   "id": "8a8da39b",
   "metadata": {},
   "outputs": [],
   "source": [
    "with open(\"input/input_pat/test_qa.txt\", \"w\") as output:\n",
    "    a = json.dumps(test_qa)\n",
    "    output.write(a)"
   ]
  },
  {
   "cell_type": "markdown",
   "id": "c47d58a6",
   "metadata": {},
   "source": [
    "# 测试"
   ]
  },
  {
   "cell_type": "code",
   "execution_count": 1,
   "id": "71a8d659",
   "metadata": {},
   "outputs": [],
   "source": [
    "import pandas as pd\n",
    "train_data = pd.read_csv(\"output/eval_prediction.csv\", index_col=0)\n",
    "train_data = train_data[~train_data.index.duplicated(keep='first')]\n",
    "standard_0 = pd.read_csv(\"output/eval_standards.csv\", index_col=0)\n",
    "standard_0 = standard_0[~standard_0.index.duplicated(keep='first')]"
   ]
  },
  {
   "cell_type": "code",
   "execution_count": 2,
   "id": "2edae6a6",
   "metadata": {},
   "outputs": [],
   "source": [
    "pneumonia = {\"bronchitis\",\"bronchopneumonia\",\"pneumonia\",\"pneumonitis\",\"pneumonic\",\"pleuropneumonia\",\"pleural\"}\n",
    "LungRelated = {\"bronchus\",\"bronchial\",\"tracheobronchial\",\"bronchiolar\",\"bronchopulmonary\",\n",
    "               \"bronchoalveolar\",\"bronchoscopy\",\n",
    "               \"lung\",\"pulmonary\",\"pneumonic\",\"bronchopulmonary\",\"respiratory\",\"respiration\"}\n",
    "infection = {\"infection\",\"infections\",\"abscess\",\"pathology\",\"etiology\",\"diseases\",\n",
    "             \"bacteremia\",\"sepsis\",\"septic\",\"pathogenicity\",\"legionellosis\",\"empyema\",\"necrosis\"}"
   ]
  },
  {
   "cell_type": "code",
   "execution_count": 3,
   "id": "4587cc6c",
   "metadata": {},
   "outputs": [
    {
     "ename": "NameError",
     "evalue": "name 'papers_l' is not defined",
     "output_type": "error",
     "traceback": [
      "\u001b[0;31m---------------------------------------------------------------------------\u001b[0m",
      "\u001b[0;31mNameError\u001b[0m                                 Traceback (most recent call last)",
      "\u001b[1;32m/home/data/t070224/Pubmed/Pubmed_Bert/1.yn_prepare.ipynb Cell 10\u001b[0m in \u001b[0;36m<cell line: 2>\u001b[0;34m()\u001b[0m\n\u001b[1;32m      <a href='vscode-notebook-cell://ssh-remote%2Bbiotrainee.vip/home/data/t070224/Pubmed/Pubmed_Bert/1.yn_prepare.ipynb#X12sdnNjb2RlLXJlbW90ZQ%3D%3D?line=0'>1</a>\u001b[0m train_extend \u001b[39m=\u001b[39m {}\n\u001b[1;32m      <a href='vscode-notebook-cell://ssh-remote%2Bbiotrainee.vip/home/data/t070224/Pubmed/Pubmed_Bert/1.yn_prepare.ipynb#X12sdnNjb2RlLXJlbW90ZQ%3D%3D?line=1'>2</a>\u001b[0m \u001b[39mfor\u001b[39;00m i \u001b[39min\u001b[39;00m train_data\u001b[39m.\u001b[39mindex:\n\u001b[0;32m----> <a href='vscode-notebook-cell://ssh-remote%2Bbiotrainee.vip/home/data/t070224/Pubmed/Pubmed_Bert/1.yn_prepare.ipynb#X12sdnNjb2RlLXJlbW90ZQ%3D%3D?line=2'>3</a>\u001b[0m     \u001b[39mif\u001b[39;00m i\u001b[39m.\u001b[39mlower() \u001b[39min\u001b[39;00m papers_l:\n\u001b[1;32m      <a href='vscode-notebook-cell://ssh-remote%2Bbiotrainee.vip/home/data/t070224/Pubmed/Pubmed_Bert/1.yn_prepare.ipynb#X12sdnNjb2RlLXJlbW90ZQ%3D%3D?line=3'>4</a>\u001b[0m         train_extend[i] \u001b[39m=\u001b[39m papers_l[i\u001b[39m.\u001b[39mlower()]\n\u001b[1;32m      <a href='vscode-notebook-cell://ssh-remote%2Bbiotrainee.vip/home/data/t070224/Pubmed/Pubmed_Bert/1.yn_prepare.ipynb#X12sdnNjb2RlLXJlbW90ZQ%3D%3D?line=4'>5</a>\u001b[0m     \u001b[39melse\u001b[39;00m:\n",
      "\u001b[0;31mNameError\u001b[0m: name 'papers_l' is not defined"
     ]
    }
   ],
   "source": [
    "train_extend = {}\n",
    "for i in train_data.index:\n",
    "    if i.lower() in papers_l:\n",
    "        train_extend[i] = papers_l[i.lower()]\n",
    "    else:\n",
    "        print(train_data.loc[i])"
   ]
  },
  {
   "cell_type": "code",
   "execution_count": 4,
   "id": "66a42bc7",
   "metadata": {},
   "outputs": [],
   "source": [
    "pats = {}\n",
    "for paper_id, paper in train_extend.items():\n",
    "    spec = paper_id.split(\":\")[1].lower()\n",
    "    text = paper[\"texts\"][\"Ab\"] +\" \"+\" \".join(sum(paper[\"Meshhead\"],[])) # 添加mesh词汇\n",
    "    text = text.translate(str.maketrans(string.punctuation, \" \"*32,)).replace(\"  \", \" \")\n",
    "    text = text.lower()\n",
    "    words = set(text.split(\" \"))\n",
    "    if len(words & pneumonia) > 0:\n",
    "        if \"colonization\" not in words:\n",
    "            if \"%s / isolation & purification\" % spec not in \" / \".join(sum(paper[\"Meshhead\"],[])).lower():\n",
    "                pats[paper_id] = paper\n",
    "    else:\n",
    "        if len(words & LungRelated) > 0:\n",
    "            if len(words & infection) > 0:\n",
    "                if \"colonization\" not in words:\n",
    "                    if \"%s / isolation & purification\" % spec not in \" / \".join(sum(paper[\"Meshhead\"],[])).lower():\n",
    "                        pats[paper_id] = paper\n"
   ]
  },
  {
   "cell_type": "code",
   "execution_count": 5,
   "id": "572334b3",
   "metadata": {},
   "outputs": [
    {
     "name": "stderr",
     "output_type": "stream",
     "text": [
      "/tmp/ipykernel_2623940/663317541.py:8: SettingWithCopyWarning: \n",
      "A value is trying to be set on a copy of a slice from a DataFrame\n",
      "\n",
      "See the caveats in the documentation: https://pandas.pydata.org/pandas-docs/stable/user_guide/indexing.html#returning-a-view-versus-a-copy\n",
      "  train_data[\"prediction\"][i] = 'no'\n"
     ]
    }
   ],
   "source": [
    "cut = 0.5\n",
    "train_data.loc[train_data[\"rate\"]>=cut, \"prediction\"] = \"yes\"\n",
    "train_data.loc[train_data[\"rate\"]<cut, \"prediction\"] = \"no\"\n",
    "\n",
    "for i in range(train_data.shape[0]):\n",
    "    if train_data.index[i] not in pats:\n",
    "        if train_data[\"prediction\"][i] == 'yes':\n",
    "            train_data[\"prediction\"][i] = 'no'"
   ]
  },
  {
   "cell_type": "code",
   "execution_count": 6,
   "id": "573c401d",
   "metadata": {},
   "outputs": [],
   "source": [
    "import numpy as np\n",
    "\n",
    "prediction_0 = train_data\n",
    "prediction_0.loc[prediction_0[\"prediction\"]==\"yes\", \"prediction\"] = 1\n",
    "prediction_0.loc[prediction_0[\"prediction\"]==\"no\", \"prediction\"] = 0\n",
    "prediction_0 = prediction_0.astype(np.int64)\n",
    "fig_path = (\"output\")"
   ]
  },
  {
   "cell_type": "code",
   "execution_count": 9,
   "id": "67c2a62a",
   "metadata": {},
   "outputs": [
    {
     "name": "stderr",
     "output_type": "stream",
     "text": [
      "/home/data/t070224/miniconda3/lib/python3.9/site-packages/sklearn/metrics/_classification.py:1334: UndefinedMetricWarning: Precision is ill-defined and being set to 0.0 due to no predicted samples. Use `zero_division` parameter to control this behavior.\n",
      "  _warn_prf(average, modifier, msg_start, len(result))\n"
     ]
    },
    {
     "name": "stdout",
     "output_type": "stream",
     "text": [
      "结果: 0.7553628480146052 0.0 0.0 0.0\n"
     ]
    },
    {
     "data": {
      "image/png": "[encoded data removed]",
      "text/plain": [
       "<Figure size 432x288 with 1 Axes>"
      ]
     },
     "metadata": {
      "needs_background": "light"
     },
     "output_type": "display_data"
    },
    {
     "data": {
      "text/plain": [
       "(0.7553628480146052, 0.0, 0.0, 0.0)"
      ]
     },
     "execution_count": 9,
     "metadata": {},
     "output_type": "execute_result"
    }
   ],
   "source": [
    "eval.evaluate(standard_0, prediction_0, fig_path)"
   ]
  },
  {
   "cell_type": "code",
   "execution_count": null,
   "id": "bb973e8b",
   "metadata": {},
   "outputs": [],
   "source": []
  }
 ],
 "metadata": {
  "kernelspec": {
   "display_name": "Python 3.9.12 ('base': conda)",
   "language": "python",
   "name": "python3"
  },
  "language_info": {
   "codemirror_mode": {
    "name": "ipython",
    "version": 3
   },
   "file_extension": ".py",
   "mimetype": "text/x-python",
   "name": "python",
   "nbconvert_exporter": "python",
   "pygments_lexer": "ipython3",
   "version": "3.9.12 (main, Jun  1 2022, 11:38:51) \n[GCC 7.5.0]"
  },
  "vscode": {
   "interpreter": {
    "hash": "bd5a5980a31967086eaababc5338e6a92d5792ba40cc4c910227acd610a4f48f"
   }
  }
 },
 "nbformat": 4,
 "nbformat_minor": 5
}
