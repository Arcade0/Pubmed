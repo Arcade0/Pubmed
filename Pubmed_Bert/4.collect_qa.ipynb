{
 "cells": [
  {
   "cell_type": "markdown",
   "metadata": {},
   "source": [
    "# import package"
   ]
  },
  {
   "cell_type": "code",
   "execution_count": 1,
   "metadata": {},
   "outputs": [],
   "source": [
    "import matplotlib.pyplot as plt\n",
    "plt.rcParams['font.sans-serif']=['SimHei']\n",
    "import os\n",
    "import numpy as np\n",
    "import pandas as pd\n",
    "import json\n",
    "from copy import deepcopy\n",
    "import re\n",
    "import shutil\n",
    "import random\n",
    "import string\n",
    "from random import choice\n",
    "random.seed(10)\n",
    "# -*- coding:utf-8 -*\n",
    "import eval\n",
    "from mkdir import mk_dir\n",
    "from bert_format import bset,test_qa\n",
    "import transfer"
   ]
  },
  {
   "cell_type": "markdown",
   "metadata": {},
   "source": [
    "# transfer num"
   ]
  },
  {
   "cell_type": "code",
   "execution_count": 16,
   "metadata": {
    "tags": []
   },
   "outputs": [],
   "source": [
    "col_ab = \"num\"\n",
    "col_name = \"样本量\"\n",
    "\n",
    "prediction_0 = pd.DataFrame(np.zeros((0,1)), columns = [col_ab])\n",
    "for re in range(0,6):\n",
    "    \n",
    "    prediction = json.load(open(\"output/output_%s/output_%s/predictions_.json\" % (col_ab, re),'r'))\n",
    "    prediction = pd.DataFrame(prediction, index=[col_ab]).T\n",
    "    prediction_0 = pd.concat((prediction_0, prediction),axis=0)\n",
    "\n",
    "prediction_num = transfer.trans_num(prediction_0, col_ab)"
   ]
  },
  {
   "cell_type": "markdown",
   "metadata": {},
   "source": [
    "# transfer age"
   ]
  },
  {
   "cell_type": "code",
   "execution_count": 17,
   "metadata": {},
   "outputs": [],
   "source": [
    "col_ab = \"age\"\n",
    "col_name = \"年龄\"\n",
    "\n",
    "prediction_0 = pd.DataFrame(np.zeros((0,1)), columns = [col_ab])\n",
    "for re in range(0,6):\n",
    "    \n",
    "    prediction = json.load(open(\"output/output_%s/output_%s/predictions_.json\" % (col_ab, re),'r'))\n",
    "    prediction = pd.DataFrame(prediction, index=[col_ab]).T\n",
    "    prediction_0 = pd.concat((prediction_0, prediction),axis=0)\n",
    "\n",
    "prediction_age = transfer.trans_age(prediction_0, col_ab)"
   ]
  },
  {
   "cell_type": "markdown",
   "metadata": {},
   "source": [
    "# transfer gender"
   ]
  },
  {
   "cell_type": "code",
   "execution_count": 5,
   "metadata": {},
   "outputs": [],
   "source": [
    "col_ab = \"gender\"\n",
    "col_name = \"患者性别\"\n",
    "\n",
    "prediction_0 = pd.DataFrame(np.zeros((0,1)), columns = [col_ab])\n",
    "for re in range(0,6):\n",
    "    \n",
    "    prediction = json.load(open(\"output/output_%s/output_%s/predictions_.json\" % (col_ab, re),'r'))\n",
    "    prediction = pd.DataFrame(prediction, index=[col_ab]).T\n",
    "    prediction_0 = pd.concat((prediction_0, prediction),axis=0)\n",
    "\n",
    "prediction_gender = transfer.trans_gender(prediction_0, col_ab)"
   ]
  },
  {
   "attachments": {},
   "cell_type": "markdown",
   "metadata": {},
   "source": [
    "# transfer immu"
   ]
  },
  {
   "cell_type": "code",
   "execution_count": null,
   "metadata": {},
   "outputs": [],
   "source": [
    "col_ab = \"immu\"\n",
    "col_name = \"免疫状态\"\n",
    "\n",
    "prediction_0 = pd.DataFrame(np.zeros((0,1)), columns = [col_ab])\n",
    "for re in range(0,6):\n",
    "    \n",
    "    prediction = json.load(open(\"output/output_%s/output_%s/nbest_predictions_.json\" % (col_ab, re),'r'))\n",
    "    pred_l = {}\n",
    "    for k, item in prediction.items():\n",
    "        pred_l[k] = [item[0][\"text\"],item[0][\"probability\"]]\n",
    "    prediction = pd.DataFrame(pred_l, index=[col_ab, \"probability\"]).T\n",
    "    prediction_0 = pd.concat((prediction_0, prediction),axis=0)\n",
    "prediction_immu = transfer.trans_immu(prediction_0[[col_ab]], col_ab)"
   ]
  },
  {
   "cell_type": "markdown",
   "metadata": {},
   "source": [
    "# transfer evi"
   ]
  },
  {
   "cell_type": "code",
   "execution_count": 7,
   "metadata": {},
   "outputs": [],
   "source": [
    "col_ab = \"evi\"\n",
    "col_name = \"证据等级\"\n",
    "\n",
    "prediction_0 = pd.DataFrame(np.zeros((0,1)), columns = [col_ab])\n",
    "for re in range(0,6):\n",
    "    \n",
    "    prediction = json.load(open(\"output/output_%s/output_%s/predictions_.json\" % (col_ab, re),'r'))\n",
    "    prediction = pd.DataFrame(prediction, index=[col_ab]).T\n",
    "    prediction_0 = pd.concat((prediction_0, prediction),axis=0)\n",
    "\n",
    "prediction_evi = transfer.transfer_evi(prediction_0, col_ab)"
   ]
  },
  {
   "cell_type": "markdown",
   "metadata": {},
   "source": [
    "# 合并数据"
   ]
  },
  {
   "cell_type": "code",
   "execution_count": 18,
   "metadata": {},
   "outputs": [],
   "source": [
    "prediction_addtion = pd.concat([prediction_num,prediction_age,prediction_gender,prediction_immu, prediction_evi], axis=1)"
   ]
  },
  {
   "cell_type": "code",
   "execution_count": 19,
   "metadata": {},
   "outputs": [],
   "source": [
    "prediction_addtion.to_csv(\"output/prediction_addition.csv\")"
   ]
  }
 ],
 "metadata": {
  "kernelspec": {
   "display_name": "Python 3.9.12 ('base': conda)",
   "language": "python",
   "name": "python3"
  },
  "language_info": {
   "codemirror_mode": {
    "name": "ipython",
    "version": 3
   },
   "file_extension": ".py",
   "mimetype": "text/x-python",
   "name": "python",
   "nbconvert_exporter": "python",
   "pygments_lexer": "ipython3",
   "version": "3.9.12 (main, Jun  1 2022, 11:38:51) \n[GCC 7.5.0]"
  },
  "vscode": {
   "interpreter": {
    "hash": "bd5a5980a31967086eaababc5338e6a92d5792ba40cc4c910227acd610a4f48f"
   }
  }
 },
 "nbformat": 4,
 "nbformat_minor": 4
}
