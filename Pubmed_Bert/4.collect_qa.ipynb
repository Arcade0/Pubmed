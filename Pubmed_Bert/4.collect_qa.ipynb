{
 "cells": [
  {
   "cell_type": "markdown",
   "metadata": {},
   "source": [
    "# import package"
   ]
  },
  {
   "cell_type": "code",
   "execution_count": 1,
   "metadata": {},
   "outputs": [],
   "source": [
    "import matplotlib.pyplot as plt\n",
    "plt.rcParams['font.sans-serif']=['SimHei']\n",
    "import seaborn as sns\n",
    "from collections import Counter\n",
    "import pandas as pd\n",
    "import numpy as np\n",
    "import json\n",
    "from copy import deepcopy\n",
    "import re\n",
    "import os\n",
    "import string\n",
    "import spokentonumber"
   ]
  },
  {
   "cell_type": "markdown",
   "metadata": {},
   "source": [
    "# transfer num"
   ]
  },
  {
   "cell_type": "code",
   "execution_count": null,
   "metadata": {
    "tags": []
   },
   "outputs": [],
   "source": [
    "col_ab = \"num\"\n",
    "evi_word = json.load(open(\"output/output_%s/nbest_predictions_.json\" % (col_ab), \"r\"))\n",
    "evi_top = {}\n",
    "\n",
    "for k,v in evi_word.items():\n",
    "    \n",
    "    clas = \"none\"\n",
    "    if v[0][\"probability\"] > 0.5:\n",
    "        \n",
    "        digit_list = spokentonumber.del_non_digit(v[0][\"text\"])\n",
    "        \n",
    "        # if len(digit_list) > 1:\n",
    "        #     if \"case\" not in v[0][\"text\"].lower():\n",
    "        #         print(k, v[0][\"text\"])\n",
    "        #     else:\n",
    "        #         print(k, v[0][\"text\"])\n",
    "                \n",
    "        if (len(digit_list) > 0) & (\"to\" not in v[0][\"text\"].lower()):\n",
    "            \n",
    "            clasn = digit_list[0]\n",
    "            if int(clasn) == 1:\n",
    "                clas = \"1\"\n",
    "            elif int(clasn) in range(2,11):\n",
    "                clas = \"2-10\"\n",
    "            elif int(clasn) in range(11,101):\n",
    "                clas = \"11-100\"\n",
    "            elif int(clasn) > 100:\n",
    "                clas = \">100\"\n",
    "    \n",
    "        evi_top[k] = {\"number\":v[0][\"text\"], \"range\":clas, \"probability\":v[0][\"probability\"]}\n",
    "    else:\n",
    "        evi_top[k] = {\"number\":v[0][\"text\"], \"range\":clas, \"probability\":v[0][\"probability\"]}\n",
    "        \n",
    "json.dump(evi_top, open(\"output/output_%s/predictions_top.json\" % (col_ab), \"w\"))"
   ]
  },
  {
   "cell_type": "code",
   "execution_count": 99,
   "metadata": {},
   "outputs": [
    {
     "data": {
      "text/plain": [
       "{'1', '11-100', '2-10', '>100', 'none'}"
      ]
     },
     "execution_count": 99,
     "metadata": {},
     "output_type": "execute_result"
    }
   ],
   "source": [
    "a = pd.DataFrame(evi_top).T\n",
    "set(a[\"range\"])"
   ]
  },
  {
   "cell_type": "markdown",
   "metadata": {},
   "source": [
    "# transfer age"
   ]
  },
  {
   "cell_type": "code",
   "execution_count": 91,
   "metadata": {},
   "outputs": [],
   "source": [
    "import re\n",
    "_known = {\n",
    "  'zero': 0,\n",
    "  'one': 1,\n",
    "  'two': 2,\n",
    "  'three': 3,\n",
    "  'four': 4,\n",
    "  'five': 5,\n",
    "  'six': 6,\n",
    "  'seven': 7,\n",
    "  'eight': 8,\n",
    "  'nine': 9,\n",
    "  'ten': 10,\n",
    "  'eleven': 11,\n",
    "  'twelve': 12,\n",
    "  'thirteen': 13,\n",
    "  'fourteen': 14,\n",
    "  'fifteen': 15,\n",
    "  'sixteen': 16,\n",
    "  'seventeen': 17,\n",
    "  'eighteen': 18,\n",
    "  'nineteen': 19,\n",
    "  'twenty': 20,\n",
    "  'thirty': 30,\n",
    "  'forty': 40,\n",
    "  'fifty': 50,\n",
    "  'sixty': 60,\n",
    "  'seventy': 70,\n",
    "  'eighty': 80,\n",
    "  'ninety': 90,\n",
    "  'hundred': 100,\n",
    "  \"thousand\": 1000\n",
    "  }\n",
    "dig_list = [ 'zero', 'one', 'two', 'three', 'four', 'five', 'six', 'seven', 'eight', 'nine', 'ten', \n",
    "            'eleven', 'twelve', 'thirteen', 'fourteen', 'fifteen', 'sixteen', 'seventeen', 'eighteen', 'nineteen', \n",
    "            'twenty', 'thirty', 'forty', 'fifty', 'sixty', 'seventy', 'eighty', 'ninety', 'hundred', 'thousand','million', \"and\"]"
   ]
  },
  {
   "cell_type": "code",
   "execution_count": null,
   "metadata": {},
   "outputs": [],
   "source": [
    "col_ab = \"age\"\n",
    "evi_word = json.load(open(\"output/output_%s/nbest_predictions_.json\" % (col_ab), \"r\"))\n",
    "evi_top = {}\n",
    "\n",
    "for k,v in evi_word.items():\n",
    "    \n",
    "    clas = \"none\"\n",
    "    if v[0][\"probability\"] > 0.5:\n",
    "        \n",
    "        digit_list = spokentonumber.del_non_digit(v[0][\"text\"])\n",
    "        # if len(digit_list) > 1:\n",
    "        #     if \"case\" not in v[0][\"text\"].lower():\n",
    "        #         print(k, v[0][\"text\"])\n",
    "       \n",
    "        if len(digit_list) > 0:\n",
    "            \n",
    "            clasn = digit_list[0]\n",
    "            \n",
    "            if int(clasn) == 1:\n",
    "                clas = \"1岁以下\"\n",
    "            elif int(clasn) in range(2,18):\n",
    "                clas = \"1-17岁\"\n",
    "            elif int(clasn) in range(18,66):\n",
    "                clas = \"18-65岁\"\n",
    "            elif int(clasn) in range(66,120):\n",
    "                clas = \">65岁\"\n",
    "        \n",
    "        for word in [\"elder\", \"elderly\", \"older\", \"aging\"]:\n",
    "            if word in v[0][\"text\"].lower():\n",
    "                clas = \">65岁\"\n",
    "        for word in [\"adult\", \"adults\", \"middle\",\"mature\"]:\n",
    "            if word in v[0][\"text\"].lower():\n",
    "                clas = \"18-65岁\"\n",
    "        for word in [\"young\", \"younger\", \"child\", \"children\",\"adolescent\", \"adolescents\", \"paediatric\", \"pediatric\"]:\n",
    "            if word in v[0][\"text\"].lower():\n",
    "                clas = \"1-17岁\"\n",
    "        for word in [\"infant\", \"infants\", \"neonatus\", \"neonate\",\"neonatal\",\"day\", \"days\", \"month\", \"months\", \"months\",\"premature\"]:\n",
    "            if word in v[0][\"text\"].lower():\n",
    "                clas = \"1岁以下\"\n",
    "        \n",
    "        evi_top[k] = {\"number\":v[0][\"text\"], \"range\":clas, \"probability\":v[0][\"probability\"]}\n",
    "    else:\n",
    "        evi_top[k] = {\"number\":v[0][\"text\"], \"range\":clas, \"probability\":v[0][\"probability\"]}\n",
    "\n",
    "json.dump(evi_top, open(\"output/output_%s/predictions_top.json\" % (col_ab), \"w\"))"
   ]
  },
  {
   "cell_type": "code",
   "execution_count": 93,
   "metadata": {},
   "outputs": [],
   "source": [
    "a = pd.DataFrame(evi_top).T\n",
    "set(a[\"range\"])"
   ]
  },
  {
   "cell_type": "markdown",
   "metadata": {},
   "source": [
    "# transfer gender"
   ]
  },
  {
   "cell_type": "code",
   "execution_count": 26,
   "metadata": {},
   "outputs": [],
   "source": [
    "col_ab = \"gender\"\n",
    "evi_word = json.load(open(\"output/output_%s/nbest_predictions_.json\" % (col_ab), \"r\"))\n",
    "evi_top = {}\n",
    "\n",
    "for k,v in evi_word.items():\n",
    "    \n",
    "    clas = \"none\"\n",
    "    if v[0][\"probability\"] > 0.1:\n",
    "        \n",
    "        text = v[0][\"text\"]\n",
    "        text = text.strip().lower()\n",
    "        text = re.split(r'\\W', text) # 任意一个字母或数字或下划线，也就是A~Z,a~z,0~9,_之外的\n",
    "        texts = set(text) # 去重\n",
    "    \n",
    "        # 转化为数字\n",
    "        for dig in texts:\n",
    "            \n",
    "            if dig in [\"man\", \"men\", \"boy\", \"boys\",\"male\", \"males\", \n",
    "                       \"he\", \"gentleman\", \"gentlemen\", \"his\", \"him\"]:\n",
    "                clas = \"男\"\n",
    "                \n",
    "            if dig in [\"woman\", \"women\", \"girl\",\"girls\", \"female\", \n",
    "                       \"females\", \"fm\", \"she\", \"lady\", \"ladys\", \"her\"]:\n",
    "                clas = \"女\"\n",
    "        \n",
    "        evi_top[k] = {\"number\":v[0][\"text\"], \"range\":clas, \"probability\":v[0][\"probability\"]}\n",
    "    else:\n",
    "        evi_top[k] = {\"number\":v[0][\"text\"], \"range\":clas, \"probability\":v[0][\"probability\"]}\n",
    "        \n",
    "json.dump(evi_top, open(\"output/output_%s/predictions_top.json\" % (col_ab), \"w\"))"
   ]
  },
  {
   "cell_type": "markdown",
   "metadata": {},
   "source": [
    "# transfer immu"
   ]
  },
  {
   "cell_type": "code",
   "execution_count": 103,
   "metadata": {},
   "outputs": [],
   "source": [
    "col_ab = \"immu\"\n",
    "evi_word = json.load(open(\"output/output_%s/nbest_predictions_.json\" % (col_ab), \"r\"))\n",
    "evi_top = {}\n",
    "\n",
    "for k,v in evi_word.items():\n",
    "    \n",
    "        clas = \"none\"\n",
    "        if v[0][\"probability\"] > 0.1:\n",
    "           \n",
    "            text = v[0][\"text\"]\n",
    "            text = text.strip().lower()\n",
    "\n",
    "            for aword in [\n",
    "                \"immunodeficiency\", \"immunocompromised\", \"immunosuppressive\",\"immunosuppression\", \n",
    "                \"compromised\", \"suppressed\", \"supperssive\", \"suppression\",\"hiv\",\"hiv-positive\",\"aids\", \n",
    "                \"transplantation\", \"transplanted\",\n",
    "                \"malignancy\", \"cancer\", \"carcinoma\", \n",
    "                \"leukemia\",\"leukaemia\", \"lymphoma\", \"melanoma\", \"myeloma\",\n",
    "                \"ill\", \"impair\", \"impaired\", \"obesity\", \"diabete\", \"fibrosis\"]:\n",
    "                if aword in text:\n",
    "                    clas = \"抑制\"\n",
    "                \n",
    "            evi_top[k] = {\"number\":v[0][\"text\"], \"range\":clas, \"probability\":v[0][\"probability\"]}\n",
    "        else:\n",
    "            evi_top[k] = {\"number\":v[0][\"text\"], \"range\":clas, \"probability\":v[0][\"probability\"]}\n",
    "json.dump(evi_top, open(\"output/output_%s/predictions_top.json\" % (col_ab), \"w\"))"
   ]
  },
  {
   "cell_type": "markdown",
   "metadata": {},
   "source": [
    "# transfer evi"
   ]
  },
  {
   "cell_type": "code",
   "execution_count": 3,
   "metadata": {},
   "outputs": [],
   "source": [
    "col_ab = \"evi\"\n",
    "evi_word = json.load(open(\"output/output_%s/nbest_predictions_.json\" % (col_ab), \"r\"))\n",
    "evi_top = {}\n",
    "\n",
    "for k,v in evi_word.items():\n",
    "    \n",
    "    clas = \"none\"\n",
    "    if v[0][\"probability\"] > 0.1:\n",
    "        \n",
    "        text = v[0][\"text\"]\n",
    "        text = text.strip().lower()\n",
    "        \n",
    "        for aword in [\n",
    "                \"autopsy\", \"biopsy\", \"biopsies\", \n",
    "                \"tissue\", \n",
    "                \"histopathology\", \"histology\", \"histological\", \"histopathological\",\n",
    "                \"pathogen\", \"pathology\", \"pathologically\", \"bacteriology\",]:\n",
    "            if aword in text:\n",
    "                clas = \"1：同时具备肺组织病理+病原学证据\"\n",
    "        for aword in [\n",
    "            \"blood\",\n",
    "            \"bacteremia\", \"bacteraemia\", \"septicemia\",\n",
    "            \"pleural\", \"purulent\",\n",
    "            \"csf\",\"cerebrospinal\"]:\n",
    "            if aword in text:\n",
    "                clas = \"2：血及无菌体液（如脓胸液）\"\n",
    "        for aword in [\n",
    "            \"bronchoscopy\",\"bronchoscopies\", \"tracheal\", \"bronchial\", \"throat\",\n",
    "            \"bal\", \"balf\", \"bronchoalveolar\",\"lavage\",\n",
    "            \"aspirate\", \"aspiration\", \n",
    "            \"secretion\", \"sputum\", \"sputa\",\"immunohistochemistry\",\"staining\",\"situ\",\n",
    "            \"respiratory\"]:\n",
    "            if aword in text:\n",
    "                clas =\"3：气管吸出物或痰/BALF纯培养或优势培养出病原体\"\n",
    "        for aword in [\n",
    "            \"dna\", \"rna\", \n",
    "            \"sequencing\", \"sequence\", \"sequences\",\n",
    "            \"pcr\", \"mpcr\", \"rtpcr\", \"real\",\"time\", \"polymerase\", \"multiplex\",\"16s\",\"genetic\",\"genotyping\", \"nucleic\",\"chip\",\"array\",\"panel\",\n",
    "            \"elisa\", \"biochemical\", \"biological\", \"immunofluorescence\",\n",
    "            \"serology\",\"serological\", \"serum\", \"molecular\", \n",
    "            \"igg\", \"igm\", \"antibodies\", \"antibody\",\"nasopharyngeal\",\n",
    "            \"smear\", \"swab\",\"test\",\"assay\"]:\n",
    "            if aword in text:\n",
    "                clas = \"4：分子诊断（PCR、基因组测序等）\"\n",
    "            \n",
    "        evi_top[k] = {\"number\":v[0][\"text\"], \"range\":clas, \"probability\":v[0][\"probability\"]}\n",
    "    \n",
    "    else:\n",
    "        evi_top[k] = {\"number\":v[0][\"text\"], \"range\":clas, \"probability\":v[0][\"probability\"]}\n",
    "        \n",
    "json.dump(evi_top, open(\"output/output_%s/predictions_top.json\" % (col_ab), \"w\"))"
   ]
  },
  {
   "cell_type": "code",
   "execution_count": 12,
   "metadata": {},
   "outputs": [],
   "source": [
    "col_ab = \"evi\"\n",
    "evi_word = json.load(open(\"input/input_%s/test_set.json\" % (col_ab), \"r\"))['data'][0][\"paragraphs\"]\n",
    "evi_top = {}"
   ]
  },
  {
   "cell_type": "code",
   "execution_count": 144,
   "metadata": {},
   "outputs": [],
   "source": [
    "for v in evi_word:\n",
    "    \n",
    "    clas = \"none\"\n",
    "   \n",
    "    text = v[\"context\"]\n",
    "    text = text.lower()\n",
    "    \n",
    "    for aword in [\n",
    "        \"sequenc\",\n",
    "        \"pcr\", \"polymerase\", \"multiplex\",\"16s\",\"genetic\",\"genotyping\", \"nucleic\",\"chip\",\"array\",\"panel\",\n",
    "        \"elisa\", \"biochemical\", \"biological\", \"immunofluorescence\",\n",
    "       \"assay\", \" test\", \"antigen\"]:\n",
    "        if aword in text:\n",
    "            for speci in [\n",
    "                 \"nasopharyngeal\", \"smear\", \"swab\", \"secretion\", \n",
    "                 \"sputum\", \"sputa\", \n",
    "                 \"aspirate\", \"aspiration\",\n",
    "                 \"bronchoscop\",\" bal \", \"balf\", \"bronchoalveolar\",\"lavage\"]:\n",
    "                    if speci in text:\n",
    "                        clas = \"6：气管吸出物或痰的分子诊断（PCR、基因组测序等）病原\"\n",
    "                        keyword = aword\n",
    "            \n",
    "            for speci in [\n",
    "                \"csf\",\"cerebrospinal\",\n",
    "                \"pleural\", \"purulent\",\n",
    "                \"blood\", \"serum\",\"serology\"]:\n",
    "                    if speci in text:\n",
    "                        clas = \"3：血及无菌体液（如脓胸液）\"\n",
    "                        keyword = aword\n",
    "    for aword in [\n",
    "       \"secretion\", \"sputum\", \"sputa\",\n",
    "       \"aspirate\", \"aspiration\"]:\n",
    "        if aword in text:\n",
    "            if (\"culture\" in text) or (\"isolat\" in text):\n",
    "                clas =\"5：气管吸出物或痰/BALF纯培养或优势培养出病原体\"\n",
    "                keyword = aword\n",
    "\n",
    "    for aword in [\n",
    "        \"bronchoscop\",\" bal \", \"balf\", \"bronchoalveolar\",\"lavage\",\n",
    "        ]:\n",
    "        if aword in text:\n",
    "            if (\"culture\" in text) or (\"isolat\" in text):\n",
    "                clas =\"4：气管镜活检组织培养出病原体，或者支气管肺泡灌洗液（BALF）定量培养>10**4\"\n",
    "                keyword = aword\n",
    "    for aword in [\n",
    "        \"bronch\", \"needle\"\n",
    "        ]:\n",
    "        if aword in text:\n",
    "            if \"biopsy\" in text:\n",
    "                clas =\"4：气管镜活检组织培养出病原体，或者支气管肺泡灌洗液（BALF）定量培养>10**4\"\n",
    "                keyword = aword\n",
    "          \n",
    "    for aword in [\"csf\",\"cerebrospinal\",\n",
    "                  \"pleural\", \"purulent\",\n",
    "                  \"blood\",\n",
    "                  \"bacteremia\", \"bacteraemia\", \"septicemia\"]:\n",
    "        if aword in text:\n",
    "            if (\"culture\" in text) or (\"isolat\" in text):\n",
    "                clas = \"3：血及无菌体液（如脓胸液）\"\n",
    "                keyword = aword\n",
    "     \n",
    "    for aword in [\"histopathology\",\"immunohistochemistry\"]:\n",
    "        if (aword in text) & (\"lung\" in text):\n",
    "            clas = \"2：肺组织病原学证据\"\n",
    "            keyword = aword\n",
    "    for aword in [\"stain\"]:\n",
    "        if (aword in text) & (\"tissue\" in text):\n",
    "            clas = \"2：肺组织病原学证据\"\n",
    "            keyword = aword\n",
    "                 \n",
    "    for aword in [\"tissue\", \n",
    "                  \"histology\", \"histological\", \"histopathological\",\n",
    "                  \"autopsy\", \"biops\"]:\n",
    "        if (aword in text) & (\"lung\" in text):\n",
    "            clas = \"1：同时具备肺组织病理+病原学证据\"\n",
    "            keyword = aword\n",
    "            \n",
    "    evi_top[v[\"qas\"][0][\"id\"]] = {\"number\":keyword, \"range\":clas, \"probability\":0}\n",
    "json.dump(evi_top, open(\"output/output_%s/predictions_top.json\" % (col_ab), \"w\"))"
   ]
  },
  {
   "cell_type": "code",
   "execution_count": 145,
   "metadata": {},
   "outputs": [
    {
     "data": {
      "text/plain": [
       "none                                          61718\n",
       "3：血及无菌体液（如脓胸液）                                19336\n",
       "5：气管吸出物或痰/BALF纯培养或优势培养出病原体                     8571\n",
       "6：气管吸出物或痰的分子诊断（PCR、基因组测序等）病原                   8216\n",
       "1：同时具备肺组织病理+病原学证据                              6526\n",
       "4：气管镜活检组织培养出病原体，或者支气管肺泡灌洗液（BALF）定量培养>10**4     3395\n",
       "2：肺组织病原学证据                                      287\n",
       "Name: range, dtype: int64"
      ]
     },
     "execution_count": 145,
     "metadata": {},
     "output_type": "execute_result"
    }
   ],
   "source": [
    "a = pd.DataFrame(evi_top).T\n",
    "b = a.loc[pat_df.index]\n",
    "b[\"range\"].value_counts()"
   ]
  },
  {
   "cell_type": "code",
   "execution_count": 146,
   "metadata": {},
   "outputs": [
    {
     "data": {
      "text/plain": [
       " test                 3991\n",
       "genetic               1008\n",
       "assay                  677\n",
       "antigen                525\n",
       "pcr                    478\n",
       "multiplex              376\n",
       "polymerase             341\n",
       "biological             224\n",
       "immunofluorescence     162\n",
       "panel                  161\n",
       "nucleic                 69\n",
       "array                   68\n",
       "genotyping              48\n",
       "sequenc                 38\n",
       "biochemical             23\n",
       "16s                     14\n",
       "elisa                    9\n",
       "chip                     4\n",
       "Name: number, dtype: int64"
      ]
     },
     "execution_count": 146,
     "metadata": {},
     "output_type": "execute_result"
    }
   ],
   "source": [
    "b.loc[b[\"range\"]==\"6：气管吸出物或痰的分子诊断（PCR、基因组测序等）病原\"][\"number\"].value_counts()"
   ]
  },
  {
   "cell_type": "code",
   "execution_count": 140,
   "metadata": {},
   "outputs": [
    {
     "data": {
      "text/html": [
       "<div>\n",
       "<style scoped>\n",
       "    .dataframe tbody tr th:only-of-type {\n",
       "        vertical-align: middle;\n",
       "    }\n",
       "\n",
       "    .dataframe tbody tr th {\n",
       "        vertical-align: top;\n",
       "    }\n",
       "\n",
       "    .dataframe thead th {\n",
       "        text-align: right;\n",
       "    }\n",
       "</style>\n",
       "<table border=\"1\" class=\"dataframe\">\n",
       "  <thead>\n",
       "    <tr style=\"text-align: right;\">\n",
       "      <th></th>\n",
       "      <th>number</th>\n",
       "      <th>range</th>\n",
       "      <th>probability</th>\n",
       "    </tr>\n",
       "  </thead>\n",
       "  <tbody>\n",
       "    <tr>\n",
       "      <th>34051779:nocardia abscessus</th>\n",
       "      <td>genetic</td>\n",
       "      <td>6：气管吸出物或痰的分子诊断（PCR、基因组测序等）病原</td>\n",
       "      <td>0</td>\n",
       "    </tr>\n",
       "    <tr>\n",
       "      <th>32144593:nocardia farcinica</th>\n",
       "      <td>genetic</td>\n",
       "      <td>6：气管吸出物或痰的分子诊断（PCR、基因组测序等）病原</td>\n",
       "      <td>0</td>\n",
       "    </tr>\n",
       "    <tr>\n",
       "      <th>28112090:nocardia otitidiscaviarum</th>\n",
       "      <td>genetic</td>\n",
       "      <td>6：气管吸出物或痰的分子诊断（PCR、基因组测序等）病原</td>\n",
       "      <td>0</td>\n",
       "    </tr>\n",
       "    <tr>\n",
       "      <th>7716091:mycobacterium tuberculosis</th>\n",
       "      <td>genetic</td>\n",
       "      <td>6：气管吸出物或痰的分子诊断（PCR、基因组测序等）病原</td>\n",
       "      <td>0</td>\n",
       "    </tr>\n",
       "    <tr>\n",
       "      <th>1440462:mycobacterium tuberculosis</th>\n",
       "      <td>genetic</td>\n",
       "      <td>6：气管吸出物或痰的分子诊断（PCR、基因组测序等）病原</td>\n",
       "      <td>0</td>\n",
       "    </tr>\n",
       "    <tr>\n",
       "      <th>...</th>\n",
       "      <td>...</td>\n",
       "      <td>...</td>\n",
       "      <td>...</td>\n",
       "    </tr>\n",
       "    <tr>\n",
       "      <th>24881673:human adenovirus 40</th>\n",
       "      <td>genetic</td>\n",
       "      <td>6：气管吸出物或痰的分子诊断（PCR、基因组测序等）病原</td>\n",
       "      <td>0</td>\n",
       "    </tr>\n",
       "    <tr>\n",
       "      <th>31270991:human adenovirus 41</th>\n",
       "      <td>genetic</td>\n",
       "      <td>6：气管吸出物或痰的分子诊断（PCR、基因组测序等）病原</td>\n",
       "      <td>0</td>\n",
       "    </tr>\n",
       "    <tr>\n",
       "      <th>30716504:hpv 102</th>\n",
       "      <td>genetic</td>\n",
       "      <td>6：气管吸出物或痰的分子诊断（PCR、基因组测序等）病原</td>\n",
       "      <td>0</td>\n",
       "    </tr>\n",
       "    <tr>\n",
       "      <th>30716504:human papillomavirus 102</th>\n",
       "      <td>genetic</td>\n",
       "      <td>6：气管吸出物或痰的分子诊断（PCR、基因组测序等）病原</td>\n",
       "      <td>0</td>\n",
       "    </tr>\n",
       "    <tr>\n",
       "      <th>27610587:hughes virus</th>\n",
       "      <td>genetic</td>\n",
       "      <td>6：气管吸出物或痰的分子诊断（PCR、基因组测序等）病原</td>\n",
       "      <td>0</td>\n",
       "    </tr>\n",
       "  </tbody>\n",
       "</table>\n",
       "<p>583 rows × 3 columns</p>\n",
       "</div>"
      ],
      "text/plain": [
       "                                     number                         range  \\\n",
       "34051779:nocardia abscessus         genetic  6：气管吸出物或痰的分子诊断（PCR、基因组测序等）病原   \n",
       "32144593:nocardia farcinica         genetic  6：气管吸出物或痰的分子诊断（PCR、基因组测序等）病原   \n",
       "28112090:nocardia otitidiscaviarum  genetic  6：气管吸出物或痰的分子诊断（PCR、基因组测序等）病原   \n",
       "7716091:mycobacterium tuberculosis  genetic  6：气管吸出物或痰的分子诊断（PCR、基因组测序等）病原   \n",
       "1440462:mycobacterium tuberculosis  genetic  6：气管吸出物或痰的分子诊断（PCR、基因组测序等）病原   \n",
       "...                                     ...                           ...   \n",
       "24881673:human adenovirus 40        genetic  6：气管吸出物或痰的分子诊断（PCR、基因组测序等）病原   \n",
       "31270991:human adenovirus 41        genetic  6：气管吸出物或痰的分子诊断（PCR、基因组测序等）病原   \n",
       "30716504:hpv 102                    genetic  6：气管吸出物或痰的分子诊断（PCR、基因组测序等）病原   \n",
       "30716504:human papillomavirus 102   genetic  6：气管吸出物或痰的分子诊断（PCR、基因组测序等）病原   \n",
       "27610587:hughes virus               genetic  6：气管吸出物或痰的分子诊断（PCR、基因组测序等）病原   \n",
       "\n",
       "                                   probability  \n",
       "34051779:nocardia abscessus                  0  \n",
       "32144593:nocardia farcinica                  0  \n",
       "28112090:nocardia otitidiscaviarum           0  \n",
       "7716091:mycobacterium tuberculosis           0  \n",
       "1440462:mycobacterium tuberculosis           0  \n",
       "...                                        ...  \n",
       "24881673:human adenovirus 40                 0  \n",
       "31270991:human adenovirus 41                 0  \n",
       "30716504:hpv 102                             0  \n",
       "30716504:human papillomavirus 102            0  \n",
       "27610587:hughes virus                        0  \n",
       "\n",
       "[583 rows x 3 columns]"
      ]
     },
     "execution_count": 140,
     "metadata": {},
     "output_type": "execute_result"
    }
   ],
   "source": [
    "b.loc[b[\"range\"]==\"6：气管吸出物或痰的分子诊断（PCR、基因组测序等）病原\"].loc[b[\"number\"]==\"genetic\"]"
   ]
  },
  {
   "cell_type": "markdown",
   "metadata": {},
   "source": [
    "# 合并数据"
   ]
  },
  {
   "cell_type": "code",
   "execution_count": null,
   "metadata": {},
   "outputs": [],
   "source": [
    "# 根据标注的文献的meshhead确定筛选词\n",
    "meshhead = []\n",
    "standard_0 = pd.read_csv(\"output/eval_standards.csv\", index_col=0)\n",
    "train_data = pd.read_csv(\"output/eval_prediction.csv\", index_col=0)\n",
    "standard_0 = standard_0[~standard_0.index.duplicated(keep='first')]\n",
    "train_data = train_data[~train_data.index.duplicated(keep='first')]\n",
    "\n",
    "for paper_id, paper in train_extend.items():\n",
    "    if paper_id in standard_0.index:\n",
    "        if standard_0.loc[paper_id,\"golden\"] == 1:\n",
    "            meshhead.extend(\".\".join(sum(paper[\"Meshhead\"],[])).lower().split(\".\"))\n",
    "from collections import Counter\n",
    "Counter(meshhead).most_common()"
   ]
  },
  {
   "cell_type": "code",
   "execution_count": 47,
   "metadata": {},
   "outputs": [],
   "source": [
    "pat = json.load(open(\"output/output_pat/prediction_extend.json\", \"r\"))\n",
    "pneumonia = {\"bronchitis\",\"bronchopneumonia\",\"pneumonia\",\"pneumonitis\",\"pneumonic\",\"pleuropneumonia\",\"pleural\"}\n",
    "LungRelated = {\"bronchus\",\"bronchial\",\"tracheobronchial\",\"bronchiolar\",\"bronchopulmonary\",\n",
    "               \"bronchoalveolar\",\"bronchoscopy\",\n",
    "               \"lung\",\"pulmonary\",\"pneumonic\",\"bronchopulmonary\",\"respiratory\",\"respiration\"}\n",
    "infection = {\"infection\",\"infections\",\"abscess\",\"pathology\",\"etiology\",\"diseases\",\n",
    "             \"bacteremia\",\"sepsis\",\"septic\",\"pathogenicity\",\"legionellosis\",\"empyema\",\"necrosis\"}\n",
    "pats = {}\n",
    "for spec_type in pat:\n",
    "    for spec in pat[spec_type]:\n",
    "        for paper_id, paper in pat[spec_type][spec].items():\n",
    "            text = paper[\"texts\"][\"Ab\"] +\" \"+\" \".join(sum(paper[\"Meshhead\"],[])) # 添加mesh词汇\n",
    "            text = text.translate(str.maketrans(string.punctuation, \" \"*32,)).replace(\"  \", \" \")\n",
    "            text = text.lower()\n",
    "            words = set(text.split(\" \"))\n",
    "            if len(words & pneumonia) > 0:\n",
    "                if \"colonization\" not in words:\n",
    "                    if \"%s / isolation & purification\" % spec not in \" / \".join(sum(paper[\"Meshhead\"],[])).lower():\n",
    "                        paper[\"species\"] = spec\n",
    "                        pats[\"%s:%s\" %(paper_id, spec)] = paper\n",
    "            else:\n",
    "                if len(words & LungRelated) > 0:\n",
    "                    if len(words & infection) > 0:\n",
    "                        if \"colonization\" not in words:\n",
    "                            if \"%s / isolation & purification\" % spec not in \" / \".join(sum(paper[\"Meshhead\"],[])).lower():\n",
    "                                paper[\"species\"] = spec\n",
    "                                pats[\"%s:%s\" %(paper_id, spec)] = paper"
   ]
  },
  {
   "cell_type": "code",
   "execution_count": 156,
   "metadata": {},
   "outputs": [],
   "source": [
    "pat_df = pd.DataFrame(pats.values(), index=pats.keys())\n",
    "for i in pat_df.index:\n",
    "    if \"Journal\" in pat_df.loc[i, \"texts\"].keys():\n",
    "        pat_df.loc[i, '期刊'] = pat_df.loc[i, \"texts\"][\"Journal\"]\n",
    "    else:\n",
    "        pat_df.loc[i, '期刊'] = None\n",
    "pat_df['文章标题'] = [i[\"Title\"] for i in pat_df[\"texts\"]]\n",
    "pat_df['predition'] = [i[1][0] for i in pat_df[\"predition\"]]"
   ]
  },
  {
   "cell_type": "code",
   "execution_count": null,
   "metadata": {},
   "outputs": [],
   "source": [
    "col_l = [\"num\", \"age\", \"gender\", \"immu\", \"evi\"]\n",
    "\n",
    "evi_top = json.load(open(\"output/output_num/predictions_top.json\", \"r\"))\n",
    "evi_df = pd.DataFrame(np.zeros((len(evi_top),0)), index=evi_top.keys())\n",
    "for col_ab in col_l:\n",
    "    evi_top = json.load(open(\"output/output_%s/predictions_top.json\" % (col_ab), \"r\"))\n",
    "    evi_top_df = pd.DataFrame(evi_top.values(), index=evi_top.keys())\n",
    "    evi_top_df.columns = [\"%s_text\" % col_ab, col_ab, \"%s_probability\" % col_ab]\n",
    "    evi_df = pd.concat((evi_df, evi_top_df), 1)"
   ]
  },
  {
   "cell_type": "code",
   "execution_count": 157,
   "metadata": {},
   "outputs": [
    {
     "name": "stderr",
     "output_type": "stream",
     "text": [
      "/tmp/ipykernel_3020611/329002092.py:4: FutureWarning: In a future version of pandas all arguments of concat except for the argument 'objs' will be keyword-only.\n",
      "  pat_df = pd.concat((pat_df,evi_df), 1)\n"
     ]
    }
   ],
   "source": [
    "pat_df[\"pmid\"] = [\"https://pubmed.ncbi.nlm.nih.gov/%s/\" % i for i in pat_df[\"pmid\"]]\n",
    "pat_df[\"标注方式\"] = \"模型标注\"\n",
    "evi_df = evi_df.loc[pat_df.index]\n",
    "pat_df = pd.concat((pat_df,evi_df), 1)\n",
    "pat_df.to_csv(\"output/pat_df_new.csv\", encoding=\"utf_8_sig\")"
   ]
  },
  {
   "cell_type": "markdown",
   "metadata": {},
   "source": [
    "# 转换为json file"
   ]
  },
  {
   "cell_type": "code",
   "execution_count": 159,
   "metadata": {},
   "outputs": [],
   "source": [
    "# 读取人工标注文件\n",
    "import pandas as pd\n",
    "hum_df = pd.read_csv(\"output/human_label.csv\", index_col=\"Unnamed: 0\", header=0)\n",
    "hum_df = hum_df.loc[hum_df[\"是否是致病菌\"]==\"yes\", :]\n",
    "hum_df['本文中是肺部病原的概率'] = 1\n",
    "hum_df = hum_df[['物种名称','本文中是肺部病原的概率', '样本量', '年龄', \n",
    "                  '患者性别', '免疫状态', '证据等级',  \n",
    "                  '标注方式', '文章标题', '原文链接', '期刊', '发表年份']]\n",
    "hum_df.columns = ['物种名称', '本文中是肺部病原的概率','样本量', '患者年龄',  \n",
    "                  '患者性别', '免疫状态', '证据等级',  \n",
    "                 '标注方式', '文章标题', '原文链接' , '期刊', \"发表年份\"]\n",
    "hum_df.index = [\"%s:%s\" %(hum_df.index[i].split(\"_\")[-1],\" \".join((hum_df.index[i].split(\"_\")[0:-1])).lower()) for i in range(hum_df.shape[0])]\n",
    "hum_df.index = [i.strip() for i in hum_df.index]\n",
    "# 数据清洗\n",
    "hum_df.loc[hum_df[\"样本量\"]==\"1-10\", \"样本量\"] =  \"2-10\"\n",
    "hum_df.loc[hum_df[\"样本量\"]==\"10-100\", \"样本量\"] =  \"11-100\"\n",
    "hum_df.loc[hum_df[\"样本量\"]==\"10-101\", \"样本量\"] =  \"11-100\"\n",
    "hum_df.loc[hum_df[\"样本量\"]==\"10-102\", \"样本量\"] =  \"11-100\"\n",
    "hum_df.loc[hum_df[\"样本量\"]==\"＞100\", \"样本量\"] =  \">100\"\n",
    "\n",
    "hum_df.loc[hum_df[\"患者年龄\"]==\"1-17\", \"患者年龄\"] =  \"1-17岁\"\n",
    "hum_df.loc[hum_df[\"患者年龄\"]==\"17-65\", \"患者年龄\"] =  \"18-65岁\"\n",
    "hum_df.loc[hum_df[\"患者年龄\"]==\"17-65岁\", \"患者年龄\"] =  \"18-65岁\"\n",
    "hum_df.loc[hum_df[\"患者年龄\"]==\"65以上\", \"患者年龄\"] =  \">65岁\"\n",
    "\n",
    "hum_df.loc[hum_df[\"患者性别\"]==\"群体\", \"患者性别\"] =  \"none\"\n",
    "\n",
    "hum_df.loc[hum_df[\"免疫状态\"]==\"损伤\", \"免疫状态\"] =  \"抑制\"\n",
    "hum_df.loc[hum_df[\"免疫状态\"]==\"受损\", \"免疫状态\"] =  \"抑制\"\n",
    "hum_df.loc[hum_df[\"免疫状态\"]==\"正常\", \"免疫状态\"] =  \"none\"\n",
    "\n",
    "hum_df.loc[hum_df[\"证据等级\"]==\"环境\", \"证据等级\"] =  \"none\"\n",
    "hum_df.loc[hum_df[\"证据等级\"]==\"8：文献报道\", \"证据等级\"] =  \"none\"\n",
    "hum_df.loc[hum_df[\"证据等级\"]==\"7：免疫学证据\", \"证据等级\"] =  \"3：血及无菌体液（如脓胸液）\"\n",
    "hum_df.loc[hum_df[\"证据等级\"]==\"4：气管镜活检组织培养出病原体,或者支气管肺泡灌洗液（BALF）定量培养>10**4\", \"证据等级\"] =  \"4：气管镜活检组织培养出病原体，或者支气管肺泡灌洗液（BALF）定量培养>10**4\""
   ]
  },
  {
   "cell_type": "code",
   "execution_count": 160,
   "metadata": {
    "tags": []
   },
   "outputs": [],
   "source": [
    "# 机器标注的\n",
    "pat_df = pd.read_csv(\"output/pat_df_new.csv\", index_col=0)\n",
    "pat_df = pat_df[['species','predition', 'num','age', 'gender', 'immu', 'evi', '标注方式','文章标题','pmid','期刊', 'date']]\n",
    "pat_df.columns = ['物种名称', '本文中是肺部病原的概率','样本量', '患者年龄',  '患者性别',  '免疫状态', '证据等级',  \n",
    "                 '标注方式', '文章标题', '原文链接' , '期刊', \"发表年份\"]\n",
    "pat_df['本文中是肺部病原的概率'] = pat_df['本文中是肺部病原的概率'].round(2)\n",
    "pat_df = pat_df.fillna(0)\n",
    "pat_df[\"发表年份\"] = pat_df[\"发表年份\"].astype(int)\n",
    "pat_df.loc[pat_df[\"发表年份\"]==0, \"发表年份\"] = \"none\"\n",
    "\n",
    "hum_df.columns = ['物种名称', '本文中是肺部病原的概率','样本量', '患者年龄',  \n",
    "                  '患者性别',  '免疫状态', '证据等级',  \n",
    "                 '标注方式', '文章标题', '原文链接' ,'期刊', \"发表年份\"]\n",
    "hum_df['本文中是肺部病原的概率'] = hum_df['本文中是肺部病原的概率'].round(2)\n",
    "\n",
    "for i in hum_df.index:\n",
    "    if i in pat_df.index:\n",
    "        hum_df.loc[i, \"期刊\"] = pat_df.loc[i,\"期刊\"]\n",
    "    pat_df.loc[i] = hum_df.loc[i]"
   ]
  },
  {
   "cell_type": "code",
   "execution_count": null,
   "metadata": {},
   "outputs": [],
   "source": [
    "for i in ['样本量', '患者年龄',  \n",
    "                  '患者性别',  '免疫状态', '证据等级',  ]:\n",
    "    # print(pat_df[i].value_counts())\n",
    "    print(pat_df.loc[pat_df[\"物种名称\"] == \"candida albicans\",i].value_counts())\n",
    "a = pat_df.loc[pat_df[\"物种名称\"] == \"candida albicans\"]"
   ]
  },
  {
   "cell_type": "code",
   "execution_count": 164,
   "metadata": {},
   "outputs": [],
   "source": [
    "pat_df.to_csv(\"output/final_output.csv\",encoding='utf-8-sig')"
   ]
  }
 ],
 "metadata": {
  "kernelspec": {
   "display_name": "Python 3.9.12 ('base': conda)",
   "language": "python",
   "name": "python3"
  },
  "language_info": {
   "codemirror_mode": {
    "name": "ipython",
    "version": 3
   },
   "file_extension": ".py",
   "mimetype": "text/x-python",
   "name": "python",
   "nbconvert_exporter": "python",
   "pygments_lexer": "ipython3",
   "version": "3.9.12 (main, Jun  1 2022, 11:38:51) \n[GCC 7.5.0]"
  },
  "vscode": {
   "interpreter": {
    "hash": "bd5a5980a31967086eaababc5338e6a92d5792ba40cc4c910227acd610a4f48f"
   }
  }
 },
 "nbformat": 4,
 "nbformat_minor": 4
}
