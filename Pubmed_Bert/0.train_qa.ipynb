{
 "cells": [
  {
   "cell_type": "code",
   "execution_count": 1,
   "metadata": {},
   "outputs": [],
   "source": [
    "import os\n",
    "import numpy as np\n",
    "import pandas as pd\n",
    "import json\n",
    "from copy import deepcopy\n",
    "import re\n",
    "# -*- coding:utf-8 -*- \n",
    "\n",
    "def mk_dir(file_path):\n",
    "\n",
    "    folder = os.path.exists(file_path)\n",
    "    if not folder:\n",
    "        os.makedirs(file_path)"
   ]
  },
  {
   "cell_type": "markdown",
   "metadata": {},
   "source": [
    "# QA训练集"
   ]
  },
  {
   "cell_type": "code",
   "execution_count": null,
   "metadata": {},
   "outputs": [],
   "source": [
    "col_ll = [\n",
    "    [\"样本量\",\"num\",{\"1\":\"How many patients are ivolved in this study?\"}],\n",
    "    [\"患者性别\",\"gender\",{\"1\":\"What's gender of the patient?\"}],\n",
    "    [\"年龄\",\"age\",{\"1\":\"How old is patient?\"}],\n",
    "    [\"证据等级\",\"evi\",{\"1\":\"Where is pathogen isolated?\"}]]\n",
    "file_dir_l = {\"Bactology\"}\n",
    "for file_dir in file_dir_l:\n",
    "    for col_l in col_ll:\n",
    "        col_name = col_l[0]\n",
    "        col_ab = col_l[1]\n",
    "        que_d = col_l[2]"
   ]
  },
  {
   "cell_type": "code",
   "execution_count": 3,
   "metadata": {
    "tags": []
   },
   "outputs": [
    {
     "name": "stdout",
     "output_type": "stream",
     "text": [
      "Anaerobic_gender.xls\n",
      "Curved_gender.xls\n",
      "GramN_gender.xls\n",
      "GramPc_gender.xls\n",
      "GramPr_gender.xls\n",
      "Intracellular_gender.xls\n"
     ]
    }
   ],
   "source": [
    "sped_path = \"../5.Orgnize/文献标注-校对/\"\n",
    "sped_l = [ele for ele in os.listdir(sped_path) if col_ab in ele]\n",
    "txt_path = \"../4.Label_prepare/%s/\" % file_dir\n",
    "train_qa = []\n",
    "\n",
    "for sped in sped_l:\n",
    "\n",
    "    # 读取标注信息\n",
    "    print(sped)\n",
    "    df = pd.read_excel(\"%s/%s\" % (sped_path, sped), header=0)\n",
    "    df = df.loc[df[\"是否是致病菌\"] == \"是\",:]\n",
    "\n",
    "    for idx in df.index.tolist():\n",
    "\n",
    "        # 创建WHAT Question样本\n",
    "        if np.isnan(df.loc[idx,\"old_start\" ]) == False:\n",
    "            if type(df.loc[idx,\"answer\" ]) == float:\n",
    "                df.loc[idx,\"answer\" ] = \"NaN\"\n",
    "                \n",
    "            if df.loc[idx, \"old_start\" ] < len(df.loc[idx, \"full\"]):\n",
    "\n",
    "                if df.loc[idx, \"answer\"][0] == df.loc[idx, \"full\"].replace(\"\\n\",\"\")[int(df.loc[idx, \"old_start\" ])]:\n",
    "                    k = int(df.loc[idx, \"old_start\" ])\n",
    "                else:\n",
    "                    k = int(df.loc[idx, \"old_start\" ]) + 1\n",
    "\n",
    "                qa = {\n",
    "                    \"qas\": [\n",
    "                        {\n",
    "                            \"id\": str(df.loc[idx, \"ID\"]),\n",
    "                            \"question\": que_d[\"1\"],\n",
    "                            \"answers\": [\n",
    "                                {\n",
    "                                    \"text\": df.loc[idx, \"answer\" ],\n",
    "                                    \"answer_start\": k,\n",
    "                                }\n",
    "                            ]\n",
    "                        }\n",
    "                    ],\n",
    "                    \"context\": df.loc[idx, \"full\"].replace(\"\\n\",\"\")}\n",
    "                train_qa.append(qa)\n",
    "                \n",
    "    mk_dir(\"input/input_%s\" % col_ab)\n",
    "    df.to_csv(\"input/input_%s/%s.csv\" % (col_ab, sped.split(\"_\")[0]), header=True, index=False)\n",
    "\n",
    "train_set = {\n",
    "    \"data\": [{\n",
    "        'paragraphs': train_qa,\n",
    "        'title': \"LungB\"\n",
    "    }],\n",
    "    \"version\": \"LungB\"\n",
    "}\n",
    "mk_dir(\"input/input_%s\" % col_ab)\n",
    "json.dump(train_set, open(\"input/input_%s/train_set.json\" % (col_ab), \"w\"))\n"
   ]
  }
 ],
 "metadata": {
  "kernelspec": {
   "display_name": "base",
   "language": "python",
   "name": "python3"
  },
  "language_info": {
   "codemirror_mode": {
    "name": "ipython",
    "version": 3
   },
   "file_extension": ".py",
   "mimetype": "text/x-python",
   "name": "python",
   "nbconvert_exporter": "python",
   "pygments_lexer": "ipython3",
   "version": "3.9.12 (main, Jun  1 2022, 11:38:51) \n[GCC 7.5.0]"
  },
  "vscode": {
   "interpreter": {
    "hash": "bd5a5980a31967086eaababc5338e6a92d5792ba40cc4c910227acd610a4f48f"
   }
  }
 },
 "nbformat": 4,
 "nbformat_minor": 4
}
