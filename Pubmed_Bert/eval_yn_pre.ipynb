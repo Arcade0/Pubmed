{
 "cells": [
  {
   "cell_type": "code",
   "execution_count": 4,
   "id": "ca1cefa0-76bf-4287-8286-70a3dbe86a93",
   "metadata": {},
   "outputs": [],
   "source": [
    "import os\n",
    "import numpy as np\n",
    "import pandas as pd\n",
    "import json\n",
    "from copy import deepcopy\n",
    "import re\n",
    "import random\n",
    "from random import choice\n",
    "random.seed(10)\n",
    "import shutil\n",
    "# -*- coding:utf-8 -*\n",
    "import eval\n",
    "from mkdir import mk_dir\n",
    "from bert_format import bset,test_qa"
   ]
  },
  {
   "cell_type": "code",
   "execution_count": 5,
   "id": "ea740964-171f-480a-82e7-45c6de8981da",
   "metadata": {},
   "outputs": [],
   "source": [
    "from sklearn.model_selection import KFold\n",
    "kf = KFold(n_splits = 10)\n",
    "for col_ab in ['pat']:\n",
    "    \n",
    "    # shutil.rmtree(\"eval/evl_%s\" % (col_ab))\n",
    "    mk_dir(\"eval/evl_%s\" % (col_ab))\n",
    "\n",
    "    train_set = json.load(open(\"input/input_%s/train_set.json\" \\\n",
    "        %(col_ab), \"r\"))\n",
    "    train_qa = train_set['data'][0][\"paragraphs\"]\n",
    "\n",
    "    re = 0\n",
    "    for ttrain_qa,eval_qa in kf.split(train_qa):\n",
    "\n",
    "        re = re + 1\n",
    "        bset(\n",
    "            [train_qa[i] for i in ttrain_qa],\n",
    "            \"eval/evl_%s/input_%s/\" % (col_ab, re),\n",
    "            \"train_set.json\")\n",
    "        \n",
    "        eval_q=[]\n",
    "        eval_a={}\n",
    "        for i in eval_qa:\n",
    "            \n",
    "            eval_q.append(test_yn(\n",
    "                train_qa[i]['qas'][0]['id'],\n",
    "                train_qa[i]['qas'][0]['question'],\n",
    "                train_qa[i]['context']))\n",
    "            eval_a[train_qa[i]['qas'][0]['id']] = train_qa[i]['qas'][0]['answers']\n",
    "            \n",
    "        bset(\n",
    "            eval_q, \n",
    "            \"eval/evl_%s/input_%s/\" % (col_ab, re), \n",
    "            \"test_set.json\")\n",
    "        json.dump(eval_a, open(\"eval/evl_%s/input_%s/eval_set.json\" \n",
    "        % (col_ab, re), \"w\"))"
   ]
  }
 ],
 "metadata": {
  "kernelspec": {
   "display_name": "Python 3 (ipykernel)",
   "language": "python",
   "name": "python3"
  },
  "language_info": {
   "codemirror_mode": {
    "name": "ipython",
    "version": 3
   },
   "file_extension": ".py",
   "mimetype": "text/x-python",
   "name": "python",
   "nbconvert_exporter": "python",
   "pygments_lexer": "ipython3",
   "version": "3.8.10"
  }
 },
 "nbformat": 4,
 "nbformat_minor": 5
}
