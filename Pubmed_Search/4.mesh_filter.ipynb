{
 "cells": [
  {
   "cell_type": "code",
   "execution_count": 5,
   "metadata": {},
   "outputs": [],
   "source": [
    "import os\n",
    "import glob\n",
    "import json\n",
    "import xml.etree.ElementTree as ET\n",
    "import json\n",
    "import string"
   ]
  },
  {
   "cell_type": "code",
   "execution_count": null,
   "metadata": {},
   "outputs": [],
   "source": [
    "# 读取mesh词汇\n",
    "tree = ET.parse(\"mesh/desc2022.xml\")\n",
    "root = tree.getroot()\n",
    "animals = []\n",
    "infections = []\n",
    "respi = []\n",
    "respiratory = []\n",
    "ages = []\n",
    "immunes = []\n",
    "neoplasms = []\n",
    "hemics = []\n",
    "for i in root:\n",
    "\n",
    "    if i.find(\"TreeNumberList/TreeNumber\") is not None:\n",
    "\n",
    "        if \"B01.050\" in i.find(\"TreeNumberList/TreeNumber\").text:\n",
    "            \n",
    "            animals.append(i.find(\"DescriptorName/String\").text)\n",
    "        \n",
    "        if \"C01\" in i.find(\"TreeNumberList/TreeNumber\").text:\n",
    "            \n",
    "            infections.append(i.find(\"DescriptorName/String\").text)\n",
    "\n",
    "        if \"C08\" in i.find(\"TreeNumberList/TreeNumber\").text:\n",
    "            \n",
    "            respiratory.append(i.find(\"DescriptorName/String\").text)\n",
    "        \n",
    "        if \"M01.060\" in i.find(\"TreeNumberList/TreeNumber\").text:\n",
    "            \n",
    "            ages.append(i.find(\"DescriptorName/String\").text)\n",
    "        \n",
    "        if \"A04\" in i.find(\"TreeNumberList/TreeNumber\").text:\n",
    "            \n",
    "            respi.append(i.find(\"DescriptorName/String\").text)\n",
    "        \n",
    "        if \"C20\" in i.find(\"TreeNumberList/TreeNumber\").text:\n",
    "            \n",
    "            immunes.append(i.find(\"DescriptorName/String\").text)\n",
    "        \n",
    "        if \"C04\" in i.find(\"TreeNumberList/TreeNumber\").text:\n",
    "            \n",
    "            neoplasms.append(i.find(\"DescriptorName/String\").text)\n",
    "        \n",
    "        if \"C15\" in i.find(\"TreeNumberList/TreeNumber\").text:\n",
    "            \n",
    "            hemics.append(i.find(\"DescriptorName/String\").text)\n",
    "        \n",
    "animals.remove(\"Humans\")"
   ]
  },
  {
   "attachments": {},
   "cell_type": "markdown",
   "metadata": {},
   "source": [
    "# 去除动物文献"
   ]
  },
  {
   "cell_type": "code",
   "execution_count": 2,
   "metadata": {},
   "outputs": [],
   "source": [
    "import json\n",
    "with open(\"search_results/search_results.txt\", \"r\") as f:\n",
    "    content = f.read()\n",
    "    spec_papers_dic =  json.loads(content)"
   ]
  },
  {
   "cell_type": "code",
   "execution_count": 3,
   "metadata": {},
   "outputs": [
    {
     "name": "stdout",
     "output_type": "stream",
     "text": [
      "1602 2994859\n",
      "703 579919\n",
      "1094 1842629\n"
     ]
    }
   ],
   "source": [
    "#统计\n",
    "for spec_type in spec_papers_dic:\n",
    "    spec_num = 0\n",
    "    paper_num = 0\n",
    "    for k,v in spec_papers_dic[spec_type].items():\n",
    "        if len(v) > 0:\n",
    "            spec_num = spec_num + 1\n",
    "            paper_num = paper_num + len(v)\n",
    "    print(spec_num, paper_num)"
   ]
  },
  {
   "cell_type": "code",
   "execution_count": 11,
   "metadata": {},
   "outputs": [],
   "source": [
    "# 去除动物文献\n",
    "animals_set = set(animals)\n",
    "for spec_type in spec_papers_dic:\n",
    "    for k, v in spec_papers_dic[spec_type].items():\n",
    "        vbp = {}\n",
    "        for paper_id, paper in v.items():\n",
    "            if len(set(sum(paper[\"Meshhead\"],[])) & animals_set) > 0:\n",
    "                if \"Humans\" in set(sum(paper[\"Meshhead\"],[])):\n",
    "                    vbp[paper_id] = paper\n",
    "            else:\n",
    "                vbp[paper_id] = paper\n",
    "        spec_papers_dic[spec_type][k] = vbp"
   ]
  },
  {
   "cell_type": "code",
   "execution_count": 4,
   "metadata": {},
   "outputs": [],
   "source": [
    "with open(\"search_results/search_results_hanimals.txt\", \"w\") as f:\n",
    "    content = json.dumps(spec_papers_dic)\n",
    "    f.write(content)"
   ]
  },
  {
   "attachments": {},
   "cell_type": "markdown",
   "metadata": {},
   "source": [
    "# 筛选肺炎文献"
   ]
  },
  {
   "cell_type": "code",
   "execution_count": 2,
   "metadata": {},
   "outputs": [],
   "source": [
    "pneumonia = {\"bronchitis\",\"bronchopneumonia\",\n",
    "             \"pneumonia\",\"pneumonitis\",\"pneumonic\",\n",
    "             \"pleuropneumonia\",\"pleural\"}\n",
    "LungRelated = {\"bronchus\",\"bronchial\",\n",
    "               \"tracheobronchial\",\"bronchiolar\",\"bronchopulmonary\",\n",
    "               \"bronchoalveolar\",\"bronchoscopy\",\n",
    "               \"lung\",\"pulmonary\",\"pneumonic\",\"bronchopulmonary\",\"respiratory\",\"respiration\"}\n",
    "infection = {\"infection\",\"infections\",\"abscess\",\n",
    "             \"pathology\",\"etiology\",\"diseases\",\n",
    "             \"bacteremia\",\"sepsis\",\"septic\",\"pathogenicity\",\"legionellosis\",\"empyema\",\"necrosis\"}"
   ]
  },
  {
   "cell_type": "code",
   "execution_count": 3,
   "metadata": {},
   "outputs": [],
   "source": [
    "with open(\"search_results/search_results_hanimals.txt\",\"r\") as f:\n",
    "    spec_dict = json.loads(f.read())"
   ]
  },
  {
   "cell_type": "code",
   "execution_count": 7,
   "metadata": {},
   "outputs": [],
   "source": [
    "pats = {'Bactology':{}, 'Mycology':{}, 'Virology':{}}\n",
    "\n",
    "for sped, sped_paper in spec_dict.items():\n",
    "    \n",
    "    for spec, spec_paper in sped_paper.items():\n",
    "        \n",
    "        vbp = {}\n",
    "        for paper_id, paper in spec_paper.items():\n",
    "            \n",
    "            spec = spec.lower()\n",
    "            text = paper[\"texts\"][\"Ab\"] +\" \"+\" \".join(sum(paper[\"Meshhead\"],[])) # 添加mesh词汇\n",
    "            text = text.translate(str.maketrans(string.punctuation, \" \"*32,)).replace(\"  \", \" \")\n",
    "            text = text.lower()\n",
    "            words = set(text.split(\" \"))\n",
    "            if len(words & pneumonia) > 0:\n",
    "                # if \"colonization\" not in words:\n",
    "                #     if \"%s / isolation & purification\" % spec not in \" / \".join(sum(paper[\"Meshhead\"],[])).lower():\n",
    "                vbp[paper_id] = paper\n",
    "\n",
    "            else:\n",
    "                if len(words & LungRelated) > 0:\n",
    "                    if len(words & infection) > 0:\n",
    "                        # if \"colonization\" not in words:\n",
    "                        #     if \"%s / isolation & purification\" % spec not in \" / \".join(sum(paper[\"Meshhead\"],[])).lower():\n",
    "                        vbp[paper_id] = paper\n",
    "        if len(vbp) > 0:\n",
    "            pats[sped][spec] = vbp"
   ]
  },
  {
   "cell_type": "code",
   "execution_count": 9,
   "metadata": {},
   "outputs": [],
   "source": [
    "with open(\"search_results/search_results_pneumonia.txt\", \"w\") as f:\n",
    "    content = json.dumps(pats)\n",
    "    f.write(content)"
   ]
  }
 ],
 "metadata": {
  "kernelspec": {
   "display_name": "Python 3.9.5 ('base': conda)",
   "language": "python",
   "name": "python3"
  },
  "language_info": {
   "codemirror_mode": {
    "name": "ipython",
    "version": 3
   },
   "file_extension": ".py",
   "mimetype": "text/x-python",
   "name": "python",
   "nbconvert_exporter": "python",
   "pygments_lexer": "ipython3",
   "version": "3.9.12"
  },
  "orig_nbformat": 4,
  "vscode": {
   "interpreter": {
    "hash": "bd5a5980a31967086eaababc5338e6a92d5792ba40cc4c910227acd610a4f48f"
   }
  }
 },
 "nbformat": 4,
 "nbformat_minor": 2
}
