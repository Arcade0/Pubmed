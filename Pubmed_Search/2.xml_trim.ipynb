{
 "cells": [
  {
   "cell_type": "markdown",
   "metadata": {},
   "source": [
    "# From xml to json"
   ]
  },
  {
   "cell_type": "code",
   "execution_count": null,
   "metadata": {
    "Collapsed": "false"
   },
   "outputs": [],
   "source": [
    "__author__ = 'Qiao Jin'\n",
    "import os\n",
    "import glob\n",
    "import json\n",
    "import xml.etree.ElementTree as ET\n",
    "\n",
    "files = os.listdir(\"pubmed_2022\")\n",
    "files.sort()\n",
    "for xml_path in files:\n",
    "    \n",
    "    check = os.path.exists(\"pubmed_2022d/%s\" % xml_path.replace(\"xml\", \"json\"))\n",
    "    if not check:\n",
    "        print('Processing %s' % xml_path)\n",
    "        output = {}\n",
    "\n",
    "        tree = ET.parse(\"pubmed_2022/%s\" % xml_path)\n",
    "        root = tree.getroot()\n",
    "\n",
    "        for citation in root.iter('MedlineCitation'):\n",
    "            \n",
    "            # 获取pmid\n",
    "            pmid = citation.find('PMID')\n",
    "            if pmid == None:\n",
    "                continue\n",
    "            else:\n",
    "                pmid = pmid.text\n",
    "            \n",
    "            #获取标题\n",
    "            texts = {}\n",
    "            title = citation.find('Article/ArticleTitle')\n",
    "            if title is None:\n",
    "                texts[\"Title\"] = \"\"\n",
    "            else:\n",
    "                texts[\"Title\"] = \" \".join(title.itertext())\n",
    "            \n",
    "            # 获取期刊\n",
    "            journal = citation.find(\"Article/Journal/Title\")\n",
    "            if journal is None:\n",
    "                texts[\"Journal\"] = \"\"\n",
    "            else:\n",
    "                texts[\"Journal\"] = \" \".join(journal.itertext())\n",
    "                \n",
    "            # 获取摘要，摘要存在分段\n",
    "            info_l = []\n",
    "            for info in citation.iter('AbstractText'):\n",
    "                if info is None:\n",
    "                    abstract = \"\"\n",
    "                if info is not None:\n",
    "                    abstract = \" \".join(info.itertext())\n",
    "                    info_l.append(abstract)\n",
    "            texts[\"Ab\"] = texts[\"Title\"] + \" \" + \" \".join(info_l)\n",
    "            \n",
    "            # 存取mesh词汇\n",
    "            MHs = []\n",
    "            mesh = citation.find(\"MeshHeadingList\")\n",
    "            if  mesh is None:\n",
    "                MHs = []\n",
    "            else:\n",
    "                for MH in mesh:\n",
    "                    MHs.append([mh.text for mh in MH])\n",
    "\n",
    "            # 存取日期\n",
    "            date = citation.find(\"DateCompleted/Year\")\n",
    "            if  date is None:\n",
    "                dates = \"\"\n",
    "            else:\n",
    "                dates = date.text\n",
    "            \n",
    "            output[pmid] = {'pmid': pmid,\n",
    "                            'texts': texts,\n",
    "                            'Meshhead':MHs,\n",
    "                            \"date\":dates}\n",
    "        \n",
    "        with open('pubmed_2022d/%s.json' % xml_path.split('.')[0], 'w') as f:\n",
    "            json.dump(output, f, indent=4)\n",
    "            f.close()"
   ]
  },
  {
   "cell_type": "markdown",
   "metadata": {},
   "source": [
    "# 合并"
   ]
  },
  {
   "cell_type": "code",
   "execution_count": null,
   "metadata": {},
   "outputs": [],
   "source": [
    "# 大文件\n",
    "import os\n",
    "import glob\n",
    "import json\n",
    "\n",
    "files = os.listdir(\"pubmed_2022d\")\n",
    "files = sorted(files)\n",
    "papers_d = {}\n",
    "\n",
    "if os.path.exists(\"pubmed_2022_merge/pubmed_done.json\") is False:\n",
    "    done_l = []\n",
    "    print(\"done_l is empty\")\n",
    "else:\n",
    "    with open(\"pubmed_2022_merge/pubmed_done.json\") as f:\n",
    "        done_l = json.load(f)\n",
    "        print(\"done_l is exists\")\n",
    "files = [i for i in files if i not in done_l]\n",
    "\n",
    "for i, file in enumerate(files):\n",
    "    \n",
    "    with open(\"pubmed_2022d/%s\" % file, \"r\") as f:\n",
    "        paper_d = json.load(f)\n",
    "    print(file)\n",
    "    \n",
    "    papers_d.update(paper_d)\n",
    "    done_l.append(file)\n",
    "    \n",
    "    iter_list = set(range(99, 1114, 100))\n",
    "    iter_list.add(1114)\n",
    "    if i in iter_list:\n",
    "        with open(\"pubmed_2022_merge/pubmed_%s.txt\" % len(done_l), \"w\") as f:\n",
    "            b = json.dumps(papers_d)\n",
    "            f.write(b)\n",
    "        with open(\"pubmed_2022_merge/pubmed_done.json\" , \"w\") as f:\n",
    "            json.dump(done_l,f)\n",
    "        papers_d = {}"
   ]
  }
 ],
 "metadata": {
  "kernelspec": {
   "display_name": "Python 3.9.12 ('base': conda)",
   "language": "python",
   "name": "python3"
  },
  "language_info": {
   "codemirror_mode": {
    "name": "ipython",
    "version": 3
   },
   "file_extension": ".py",
   "mimetype": "text/x-python",
   "name": "python",
   "nbconvert_exporter": "python",
   "pygments_lexer": "ipython3",
   "version": "3.9.12"
  },
  "vscode": {
   "interpreter": {
    "hash": "bd5a5980a31967086eaababc5338e6a92d5792ba40cc4c910227acd610a4f48f"
   }
  }
 },
 "nbformat": 4,
 "nbformat_minor": 4
}
